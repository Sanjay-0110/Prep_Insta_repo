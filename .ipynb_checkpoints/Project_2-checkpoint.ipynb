{
 "cells": [
  {
   "cell_type": "code",
   "execution_count": 116,
   "id": "initial_id",
   "metadata": {
    "collapsed": true,
    "ExecuteTime": {
     "end_time": "2024-07-06T07:53:58.114412600Z",
     "start_time": "2024-07-06T07:53:58.094964200Z"
    }
   },
   "outputs": [],
   "source": [
    "import numpy as np\n",
    "import pandas as pd\n",
    "import os"
   ]
  },
  {
   "cell_type": "code",
   "outputs": [],
   "source": [
    "df = pd.read_csv(r\"C:\\Users\\sanja\\Downloads\\chipotle.tsv\", sep='\\t')"
   ],
   "metadata": {
    "collapsed": false,
    "ExecuteTime": {
     "end_time": "2024-07-06T07:53:58.867279700Z",
     "start_time": "2024-07-06T07:53:58.830803100Z"
    }
   },
   "id": "61835fa6bb397677",
   "execution_count": 117
  },
  {
   "cell_type": "code",
   "outputs": [
    {
     "data": {
      "text/plain": "      order_id  quantity                              item_name  \\\n0            1         1           Chips and Fresh Tomato Salsa   \n1            1         1                                   Izze   \n2            1         1                       Nantucket Nectar   \n3            1         1  Chips and Tomatillo-Green Chili Salsa   \n4            2         2                           Chicken Bowl   \n...        ...       ...                                    ...   \n4617      1833         1                          Steak Burrito   \n4618      1833         1                          Steak Burrito   \n4619      1834         1                     Chicken Salad Bowl   \n4620      1834         1                     Chicken Salad Bowl   \n4621      1834         1                     Chicken Salad Bowl   \n\n                                     choice_description item_price  \n0                                                   NaN     $2.39   \n1                                          [Clementine]     $3.39   \n2                                               [Apple]     $3.39   \n3                                                   NaN     $2.39   \n4     [Tomatillo-Red Chili Salsa (Hot), [Black Beans...    $16.98   \n...                                                 ...        ...  \n4617  [Fresh Tomato Salsa, [Rice, Black Beans, Sour ...    $11.75   \n4618  [Fresh Tomato Salsa, [Rice, Sour Cream, Cheese...    $11.75   \n4619  [Fresh Tomato Salsa, [Fajita Vegetables, Pinto...    $11.25   \n4620  [Fresh Tomato Salsa, [Fajita Vegetables, Lettu...     $8.75   \n4621  [Fresh Tomato Salsa, [Fajita Vegetables, Pinto...     $8.75   \n\n[4622 rows x 5 columns]",
      "text/html": "<div>\n<style scoped>\n    .dataframe tbody tr th:only-of-type {\n        vertical-align: middle;\n    }\n\n    .dataframe tbody tr th {\n        vertical-align: top;\n    }\n\n    .dataframe thead th {\n        text-align: right;\n    }\n</style>\n<table border=\"1\" class=\"dataframe\">\n  <thead>\n    <tr style=\"text-align: right;\">\n      <th></th>\n      <th>order_id</th>\n      <th>quantity</th>\n      <th>item_name</th>\n      <th>choice_description</th>\n      <th>item_price</th>\n    </tr>\n  </thead>\n  <tbody>\n    <tr>\n      <th>0</th>\n      <td>1</td>\n      <td>1</td>\n      <td>Chips and Fresh Tomato Salsa</td>\n      <td>NaN</td>\n      <td>$2.39</td>\n    </tr>\n    <tr>\n      <th>1</th>\n      <td>1</td>\n      <td>1</td>\n      <td>Izze</td>\n      <td>[Clementine]</td>\n      <td>$3.39</td>\n    </tr>\n    <tr>\n      <th>2</th>\n      <td>1</td>\n      <td>1</td>\n      <td>Nantucket Nectar</td>\n      <td>[Apple]</td>\n      <td>$3.39</td>\n    </tr>\n    <tr>\n      <th>3</th>\n      <td>1</td>\n      <td>1</td>\n      <td>Chips and Tomatillo-Green Chili Salsa</td>\n      <td>NaN</td>\n      <td>$2.39</td>\n    </tr>\n    <tr>\n      <th>4</th>\n      <td>2</td>\n      <td>2</td>\n      <td>Chicken Bowl</td>\n      <td>[Tomatillo-Red Chili Salsa (Hot), [Black Beans...</td>\n      <td>$16.98</td>\n    </tr>\n    <tr>\n      <th>...</th>\n      <td>...</td>\n      <td>...</td>\n      <td>...</td>\n      <td>...</td>\n      <td>...</td>\n    </tr>\n    <tr>\n      <th>4617</th>\n      <td>1833</td>\n      <td>1</td>\n      <td>Steak Burrito</td>\n      <td>[Fresh Tomato Salsa, [Rice, Black Beans, Sour ...</td>\n      <td>$11.75</td>\n    </tr>\n    <tr>\n      <th>4618</th>\n      <td>1833</td>\n      <td>1</td>\n      <td>Steak Burrito</td>\n      <td>[Fresh Tomato Salsa, [Rice, Sour Cream, Cheese...</td>\n      <td>$11.75</td>\n    </tr>\n    <tr>\n      <th>4619</th>\n      <td>1834</td>\n      <td>1</td>\n      <td>Chicken Salad Bowl</td>\n      <td>[Fresh Tomato Salsa, [Fajita Vegetables, Pinto...</td>\n      <td>$11.25</td>\n    </tr>\n    <tr>\n      <th>4620</th>\n      <td>1834</td>\n      <td>1</td>\n      <td>Chicken Salad Bowl</td>\n      <td>[Fresh Tomato Salsa, [Fajita Vegetables, Lettu...</td>\n      <td>$8.75</td>\n    </tr>\n    <tr>\n      <th>4621</th>\n      <td>1834</td>\n      <td>1</td>\n      <td>Chicken Salad Bowl</td>\n      <td>[Fresh Tomato Salsa, [Fajita Vegetables, Pinto...</td>\n      <td>$8.75</td>\n    </tr>\n  </tbody>\n</table>\n<p>4622 rows × 5 columns</p>\n</div>"
     },
     "execution_count": 118,
     "metadata": {},
     "output_type": "execute_result"
    }
   ],
   "source": [
    "df"
   ],
   "metadata": {
    "collapsed": false,
    "ExecuteTime": {
     "end_time": "2024-07-06T07:53:59.713974900Z",
     "start_time": "2024-07-06T07:53:59.689886200Z"
    }
   },
   "id": "d7e3b9c5bbc8488a",
   "execution_count": 118
  },
  {
   "cell_type": "code",
   "outputs": [
    {
     "data": {
      "text/plain": "order_id                 0\nquantity                 0\nitem_name                0\nchoice_description    1246\nitem_price               0\ndtype: int64"
     },
     "execution_count": 119,
     "metadata": {},
     "output_type": "execute_result"
    }
   ],
   "source": [
    "'''Missing Value'''\n",
    "df.isnull().sum()"
   ],
   "metadata": {
    "collapsed": false,
    "ExecuteTime": {
     "end_time": "2024-07-06T07:54:00.319635200Z",
     "start_time": "2024-07-06T07:54:00.311922200Z"
    }
   },
   "id": "7c2e5fc0170b56ae",
   "execution_count": 119
  },
  {
   "cell_type": "code",
   "outputs": [
    {
     "name": "stdout",
     "output_type": "stream",
     "text": [
      "<class 'pandas.core.frame.DataFrame'>\n",
      "RangeIndex: 4622 entries, 0 to 4621\n",
      "Data columns (total 5 columns):\n",
      " #   Column              Non-Null Count  Dtype \n",
      "---  ------              --------------  ----- \n",
      " 0   order_id            4622 non-null   int64 \n",
      " 1   quantity            4622 non-null   int64 \n",
      " 2   item_name           4622 non-null   object\n",
      " 3   choice_description  3376 non-null   object\n",
      " 4   item_price          4622 non-null   object\n",
      "dtypes: int64(2), object(3)\n",
      "memory usage: 180.7+ KB\n"
     ]
    }
   ],
   "source": [
    "df.info()"
   ],
   "metadata": {
    "collapsed": false,
    "ExecuteTime": {
     "end_time": "2024-07-06T07:54:00.885597800Z",
     "start_time": "2024-07-06T07:54:00.877666Z"
    }
   },
   "id": "f20b995978c35fa3",
   "execution_count": 120
  },
  {
   "cell_type": "code",
   "outputs": [],
   "source": [
    "df['item_price'] = df['item_price'].apply(lambda x:x.replace(\"$\",''))"
   ],
   "metadata": {
    "collapsed": false,
    "ExecuteTime": {
     "end_time": "2024-07-06T07:54:01.323352400Z",
     "start_time": "2024-07-06T07:54:01.316571200Z"
    }
   },
   "id": "9e36ddbd114748df",
   "execution_count": 121
  },
  {
   "cell_type": "code",
   "outputs": [],
   "source": [
    "df['item_price'] = df['item_price'].astype(float)"
   ],
   "metadata": {
    "collapsed": false,
    "ExecuteTime": {
     "end_time": "2024-07-06T07:54:01.742052200Z",
     "start_time": "2024-07-06T07:54:01.738477900Z"
    }
   },
   "id": "afb66adf883e738c",
   "execution_count": 122
  },
  {
   "cell_type": "code",
   "outputs": [
    {
     "name": "stdout",
     "output_type": "stream",
     "text": [
      "59\n"
     ]
    }
   ],
   "source": [
    "x = df.duplicated().sum()\n",
    "print(x)"
   ],
   "metadata": {
    "collapsed": false,
    "ExecuteTime": {
     "end_time": "2024-07-06T07:54:02.245217300Z",
     "start_time": "2024-07-06T07:54:02.234508800Z"
    }
   },
   "id": "fe7099fd8c5c2bd7",
   "execution_count": 123
  },
  {
   "cell_type": "code",
   "outputs": [],
   "source": [
    "# to drop duplicate value\n",
    "df.drop_duplicates(inplace=True)"
   ],
   "metadata": {
    "collapsed": false,
    "ExecuteTime": {
     "end_time": "2024-07-06T07:54:02.693267100Z",
     "start_time": "2024-07-06T07:54:02.686799Z"
    }
   },
   "id": "bf428192e863258b",
   "execution_count": 124
  },
  {
   "cell_type": "code",
   "outputs": [
    {
     "name": "stdout",
     "output_type": "stream",
     "text": [
      "Empty DataFrame\n",
      "Columns: [order_id, quantity, item_name, choice_description, item_price]\n",
      "Index: []\n"
     ]
    }
   ],
   "source": [
    "# Examine the Quantity and Item Price columns.\n",
    "\n",
    "Invalid_quality = df[~df['quantity'].apply(lambda x: isinstance(x,int) and x>0)]\n",
    "print(Invalid_quality)"
   ],
   "metadata": {
    "collapsed": false,
    "ExecuteTime": {
     "end_time": "2024-07-06T07:54:03.233628800Z",
     "start_time": "2024-07-06T07:54:03.226669800Z"
    }
   },
   "id": "df7bb6598feb32ac",
   "execution_count": 125
  },
  {
   "cell_type": "code",
   "outputs": [
    {
     "name": "stdout",
     "output_type": "stream",
     "text": [
      "Empty DataFrame\n",
      "Columns: [order_id, quantity, item_name, choice_description, item_price]\n",
      "Index: []\n"
     ]
    }
   ],
   "source": [
    "invalid_item_price = df[df['item_price'] <= 0]\n",
    "print(invalid_item_price)"
   ],
   "metadata": {
    "collapsed": false,
    "ExecuteTime": {
     "end_time": "2024-07-06T07:54:04.480737300Z",
     "start_time": "2024-07-06T07:54:04.472808800Z"
    }
   },
   "id": "bf89a4577bd96b9c",
   "execution_count": 126
  },
  {
   "cell_type": "code",
   "outputs": [
    {
     "data": {
      "text/plain": "array([nan, '[Clementine]', '[Apple]', ...,\n       '[Roasted Chili Corn Salsa, [Pinto Beans, Sour Cream, Cheese, Lettuce, Guacamole]]',\n       '[Tomatillo Green Chili Salsa, [Rice, Black Beans]]',\n       '[Tomatillo Green Chili Salsa, [Rice, Fajita Vegetables, Black Beans, Guacamole]]'],\n      dtype=object)"
     },
     "execution_count": 127,
     "metadata": {},
     "output_type": "execute_result"
    }
   ],
   "source": [
    "df['choice_description'].unique()"
   ],
   "metadata": {
    "collapsed": false,
    "ExecuteTime": {
     "end_time": "2024-07-06T07:54:04.960822500Z",
     "start_time": "2024-07-06T07:54:04.951954600Z"
    }
   },
   "id": "d3c69388067d0809",
   "execution_count": 127
  },
  {
   "cell_type": "code",
   "outputs": [],
   "source": [
    "#Handling Special Characters:\n",
    "import re\n",
    "\n",
    "df['item_name'] = df['item_name'].apply(lambda x: re.sub(r'\\W+', ' ', x))\n",
    "df['choice_description'] = df['choice_description'].apply(lambda x: re.sub(r'\\W+', ' ', x) if pd.notnull(x) else x)\n"
   ],
   "metadata": {
    "collapsed": false,
    "ExecuteTime": {
     "end_time": "2024-07-06T07:54:05.627003800Z",
     "start_time": "2024-07-06T07:54:05.585291Z"
    }
   },
   "id": "dfe6caf7298426e1",
   "execution_count": 128
  },
  {
   "cell_type": "code",
   "outputs": [
    {
     "data": {
      "text/plain": "      order_id  quantity                              item_name  \\\n0            1         1           Chips and Fresh Tomato Salsa   \n1            1         1                                   Izze   \n2            1         1                       Nantucket Nectar   \n3            1         1  Chips and Tomatillo Green Chili Salsa   \n4            2         2                           Chicken Bowl   \n...        ...       ...                                    ...   \n4617      1833         1                          Steak Burrito   \n4618      1833         1                          Steak Burrito   \n4619      1834         1                     Chicken Salad Bowl   \n4620      1834         1                     Chicken Salad Bowl   \n4621      1834         1                     Chicken Salad Bowl   \n\n                                     choice_description  item_price  \n0                                                   NaN        2.39  \n1                                           Clementine         3.39  \n2                                                Apple         3.39  \n3                                                   NaN        2.39  \n4      Tomatillo Red Chili Salsa Hot Black Beans Ric...       16.98  \n...                                                 ...         ...  \n4617   Fresh Tomato Salsa Rice Black Beans Sour Crea...       11.75  \n4618   Fresh Tomato Salsa Rice Sour Cream Cheese Let...       11.75  \n4619   Fresh Tomato Salsa Fajita Vegetables Pinto Be...       11.25  \n4620      Fresh Tomato Salsa Fajita Vegetables Lettuce         8.75  \n4621   Fresh Tomato Salsa Fajita Vegetables Pinto Be...        8.75  \n\n[4563 rows x 5 columns]",
      "text/html": "<div>\n<style scoped>\n    .dataframe tbody tr th:only-of-type {\n        vertical-align: middle;\n    }\n\n    .dataframe tbody tr th {\n        vertical-align: top;\n    }\n\n    .dataframe thead th {\n        text-align: right;\n    }\n</style>\n<table border=\"1\" class=\"dataframe\">\n  <thead>\n    <tr style=\"text-align: right;\">\n      <th></th>\n      <th>order_id</th>\n      <th>quantity</th>\n      <th>item_name</th>\n      <th>choice_description</th>\n      <th>item_price</th>\n    </tr>\n  </thead>\n  <tbody>\n    <tr>\n      <th>0</th>\n      <td>1</td>\n      <td>1</td>\n      <td>Chips and Fresh Tomato Salsa</td>\n      <td>NaN</td>\n      <td>2.39</td>\n    </tr>\n    <tr>\n      <th>1</th>\n      <td>1</td>\n      <td>1</td>\n      <td>Izze</td>\n      <td>Clementine</td>\n      <td>3.39</td>\n    </tr>\n    <tr>\n      <th>2</th>\n      <td>1</td>\n      <td>1</td>\n      <td>Nantucket Nectar</td>\n      <td>Apple</td>\n      <td>3.39</td>\n    </tr>\n    <tr>\n      <th>3</th>\n      <td>1</td>\n      <td>1</td>\n      <td>Chips and Tomatillo Green Chili Salsa</td>\n      <td>NaN</td>\n      <td>2.39</td>\n    </tr>\n    <tr>\n      <th>4</th>\n      <td>2</td>\n      <td>2</td>\n      <td>Chicken Bowl</td>\n      <td>Tomatillo Red Chili Salsa Hot Black Beans Ric...</td>\n      <td>16.98</td>\n    </tr>\n    <tr>\n      <th>...</th>\n      <td>...</td>\n      <td>...</td>\n      <td>...</td>\n      <td>...</td>\n      <td>...</td>\n    </tr>\n    <tr>\n      <th>4617</th>\n      <td>1833</td>\n      <td>1</td>\n      <td>Steak Burrito</td>\n      <td>Fresh Tomato Salsa Rice Black Beans Sour Crea...</td>\n      <td>11.75</td>\n    </tr>\n    <tr>\n      <th>4618</th>\n      <td>1833</td>\n      <td>1</td>\n      <td>Steak Burrito</td>\n      <td>Fresh Tomato Salsa Rice Sour Cream Cheese Let...</td>\n      <td>11.75</td>\n    </tr>\n    <tr>\n      <th>4619</th>\n      <td>1834</td>\n      <td>1</td>\n      <td>Chicken Salad Bowl</td>\n      <td>Fresh Tomato Salsa Fajita Vegetables Pinto Be...</td>\n      <td>11.25</td>\n    </tr>\n    <tr>\n      <th>4620</th>\n      <td>1834</td>\n      <td>1</td>\n      <td>Chicken Salad Bowl</td>\n      <td>Fresh Tomato Salsa Fajita Vegetables Lettuce</td>\n      <td>8.75</td>\n    </tr>\n    <tr>\n      <th>4621</th>\n      <td>1834</td>\n      <td>1</td>\n      <td>Chicken Salad Bowl</td>\n      <td>Fresh Tomato Salsa Fajita Vegetables Pinto Be...</td>\n      <td>8.75</td>\n    </tr>\n  </tbody>\n</table>\n<p>4563 rows × 5 columns</p>\n</div>"
     },
     "execution_count": 129,
     "metadata": {},
     "output_type": "execute_result"
    }
   ],
   "source": [
    "df"
   ],
   "metadata": {
    "collapsed": false,
    "ExecuteTime": {
     "end_time": "2024-07-06T07:54:06.018424800Z",
     "start_time": "2024-07-06T07:54:06.008105400Z"
    }
   },
   "id": "f4e0800e080519aa",
   "execution_count": 129
  },
  {
   "cell_type": "code",
   "outputs": [
    {
     "data": {
      "text/plain": "order_id\n926     21\n1483    14\n1786    11\n759     11\n691     11\n        ..\n94       1\n1374     1\n837      1\n831      1\n528      1\nName: count, Length: 1834, dtype: int64"
     },
     "execution_count": 130,
     "metadata": {},
     "output_type": "execute_result"
    }
   ],
   "source": [
    "#Order ID Integrity:\n",
    "df['order_id'].value_counts()"
   ],
   "metadata": {
    "collapsed": false,
    "ExecuteTime": {
     "end_time": "2024-07-06T07:54:06.629013300Z",
     "start_time": "2024-07-06T07:54:06.617194800Z"
    }
   },
   "id": "372a2fc08453d5e9",
   "execution_count": 130
  },
  {
   "cell_type": "code",
   "outputs": [
    {
     "data": {
      "text/plain": "      order_id  quantity                              item_name  \\\n0            1         1           chips and fresh tomato salsa   \n1            1         1                                   izze   \n2            1         1                       nantucket nectar   \n3            1         1  chips and tomatillo green chili salsa   \n4            2         2                           chicken bowl   \n...        ...       ...                                    ...   \n4617      1833         1                          steak burrito   \n4618      1833         1                          steak burrito   \n4619      1834         1                     chicken salad bowl   \n4620      1834         1                     chicken salad bowl   \n4621      1834         1                     chicken salad bowl   \n\n                                     choice_description  item_price  \n0                                                   NaN        2.39  \n1                                           Clementine         3.39  \n2                                                Apple         3.39  \n3                                                   NaN        2.39  \n4      Tomatillo Red Chili Salsa Hot Black Beans Ric...       16.98  \n...                                                 ...         ...  \n4617   Fresh Tomato Salsa Rice Black Beans Sour Crea...       11.75  \n4618   Fresh Tomato Salsa Rice Sour Cream Cheese Let...       11.75  \n4619   Fresh Tomato Salsa Fajita Vegetables Pinto Be...       11.25  \n4620      Fresh Tomato Salsa Fajita Vegetables Lettuce         8.75  \n4621   Fresh Tomato Salsa Fajita Vegetables Pinto Be...        8.75  \n\n[4563 rows x 5 columns]",
      "text/html": "<div>\n<style scoped>\n    .dataframe tbody tr th:only-of-type {\n        vertical-align: middle;\n    }\n\n    .dataframe tbody tr th {\n        vertical-align: top;\n    }\n\n    .dataframe thead th {\n        text-align: right;\n    }\n</style>\n<table border=\"1\" class=\"dataframe\">\n  <thead>\n    <tr style=\"text-align: right;\">\n      <th></th>\n      <th>order_id</th>\n      <th>quantity</th>\n      <th>item_name</th>\n      <th>choice_description</th>\n      <th>item_price</th>\n    </tr>\n  </thead>\n  <tbody>\n    <tr>\n      <th>0</th>\n      <td>1</td>\n      <td>1</td>\n      <td>chips and fresh tomato salsa</td>\n      <td>NaN</td>\n      <td>2.39</td>\n    </tr>\n    <tr>\n      <th>1</th>\n      <td>1</td>\n      <td>1</td>\n      <td>izze</td>\n      <td>Clementine</td>\n      <td>3.39</td>\n    </tr>\n    <tr>\n      <th>2</th>\n      <td>1</td>\n      <td>1</td>\n      <td>nantucket nectar</td>\n      <td>Apple</td>\n      <td>3.39</td>\n    </tr>\n    <tr>\n      <th>3</th>\n      <td>1</td>\n      <td>1</td>\n      <td>chips and tomatillo green chili salsa</td>\n      <td>NaN</td>\n      <td>2.39</td>\n    </tr>\n    <tr>\n      <th>4</th>\n      <td>2</td>\n      <td>2</td>\n      <td>chicken bowl</td>\n      <td>Tomatillo Red Chili Salsa Hot Black Beans Ric...</td>\n      <td>16.98</td>\n    </tr>\n    <tr>\n      <th>...</th>\n      <td>...</td>\n      <td>...</td>\n      <td>...</td>\n      <td>...</td>\n      <td>...</td>\n    </tr>\n    <tr>\n      <th>4617</th>\n      <td>1833</td>\n      <td>1</td>\n      <td>steak burrito</td>\n      <td>Fresh Tomato Salsa Rice Black Beans Sour Crea...</td>\n      <td>11.75</td>\n    </tr>\n    <tr>\n      <th>4618</th>\n      <td>1833</td>\n      <td>1</td>\n      <td>steak burrito</td>\n      <td>Fresh Tomato Salsa Rice Sour Cream Cheese Let...</td>\n      <td>11.75</td>\n    </tr>\n    <tr>\n      <th>4619</th>\n      <td>1834</td>\n      <td>1</td>\n      <td>chicken salad bowl</td>\n      <td>Fresh Tomato Salsa Fajita Vegetables Pinto Be...</td>\n      <td>11.25</td>\n    </tr>\n    <tr>\n      <th>4620</th>\n      <td>1834</td>\n      <td>1</td>\n      <td>chicken salad bowl</td>\n      <td>Fresh Tomato Salsa Fajita Vegetables Lettuce</td>\n      <td>8.75</td>\n    </tr>\n    <tr>\n      <th>4621</th>\n      <td>1834</td>\n      <td>1</td>\n      <td>chicken salad bowl</td>\n      <td>Fresh Tomato Salsa Fajita Vegetables Pinto Be...</td>\n      <td>8.75</td>\n    </tr>\n  </tbody>\n</table>\n<p>4563 rows × 5 columns</p>\n</div>"
     },
     "execution_count": 131,
     "metadata": {},
     "output_type": "execute_result"
    }
   ],
   "source": [
    "# Item Name Standardization:\n",
    "df['item_name'] = df['item_name'].str.lower().str.strip()\n",
    "df"
   ],
   "metadata": {
    "collapsed": false,
    "ExecuteTime": {
     "end_time": "2024-07-06T07:54:07.221724Z",
     "start_time": "2024-07-06T07:54:07.208551300Z"
    }
   },
   "id": "143b9246d029ad88",
   "execution_count": 131
  },
  {
   "cell_type": "code",
   "outputs": [],
   "source": [
    "df['item_price_per'] = df['item_price'] / df['quantity']"
   ],
   "metadata": {
    "collapsed": false,
    "ExecuteTime": {
     "end_time": "2024-07-06T07:54:07.780891500Z",
     "start_time": "2024-07-06T07:54:07.771301900Z"
    }
   },
   "id": "3a6a0b17ce8c337e",
   "execution_count": 132
  },
  {
   "cell_type": "code",
   "outputs": [
    {
     "name": "stdout",
     "output_type": "stream",
     "text": [
      "Empty DataFrame\n",
      "Columns: [order_id, quantity, item_name, choice_description, item_price, item_price_per]\n",
      "Index: []\n"
     ]
    }
   ],
   "source": [
    "# Data Integrity Check:\n",
    "\n",
    "data_intergrity = df[(df['quantity'] * df['item_price_per']).round(2) != df['item_price']]\n",
    "print(data_intergrity)"
   ],
   "metadata": {
    "collapsed": false,
    "ExecuteTime": {
     "end_time": "2024-07-06T07:54:08.259859300Z",
     "start_time": "2024-07-06T07:54:08.251515800Z"
    }
   },
   "id": "fc24f0036950e115",
   "execution_count": 133
  },
  {
   "cell_type": "code",
   "outputs": [],
   "source": [
    "# Convert into csv\n",
    "df.to_csv('cleaned_chipotle_data.csv', sep=',', index=False)"
   ],
   "metadata": {
    "collapsed": false,
    "ExecuteTime": {
     "end_time": "2024-07-06T07:54:08.857350400Z",
     "start_time": "2024-07-06T07:54:08.833003Z"
    }
   },
   "id": "4908786c89f0252f",
   "execution_count": 134
  },
  {
   "cell_type": "code",
   "outputs": [
    {
     "data": {
      "text/plain": "   order_id  quantity                                 choice_description  \\\n0         1         1                                                NaN   \n1         1         1                                        Clementine    \n2         1         1                                             Apple    \n3         1         1                                                NaN   \n4         2         2   Tomatillo Red Chili Salsa Hot Black Beans Ric...   \n\n   item_price  item_price_per  item_name_6 pack soft drink  \\\n0        2.39            2.39                        False   \n1        3.39            3.39                        False   \n2        3.39            3.39                        False   \n3        2.39            2.39                        False   \n4       16.98            8.49                        False   \n\n   item_name_barbacoa bowl  item_name_barbacoa burrito  \\\n0                    False                       False   \n1                    False                       False   \n2                    False                       False   \n3                    False                       False   \n4                    False                       False   \n\n   item_name_barbacoa crispy tacos  item_name_barbacoa salad bowl  ...  \\\n0                            False                          False  ...   \n1                            False                          False  ...   \n2                            False                          False  ...   \n3                            False                          False  ...   \n4                            False                          False  ...   \n\n   item_name_steak crispy tacos  item_name_steak salad  \\\n0                         False                  False   \n1                         False                  False   \n2                         False                  False   \n3                         False                  False   \n4                         False                  False   \n\n   item_name_steak salad bowl  item_name_steak soft tacos  \\\n0                       False                       False   \n1                       False                       False   \n2                       False                       False   \n3                       False                       False   \n4                       False                       False   \n\n   item_name_veggie bowl  item_name_veggie burrito  \\\n0                  False                     False   \n1                  False                     False   \n2                  False                     False   \n3                  False                     False   \n4                  False                     False   \n\n   item_name_veggie crispy tacos  item_name_veggie salad  \\\n0                          False                   False   \n1                          False                   False   \n2                          False                   False   \n3                          False                   False   \n4                          False                   False   \n\n   item_name_veggie salad bowl  item_name_veggie soft tacos  \n0                        False                        False  \n1                        False                        False  \n2                        False                        False  \n3                        False                        False  \n4                        False                        False  \n\n[5 rows x 52 columns]",
      "text/html": "<div>\n<style scoped>\n    .dataframe tbody tr th:only-of-type {\n        vertical-align: middle;\n    }\n\n    .dataframe tbody tr th {\n        vertical-align: top;\n    }\n\n    .dataframe thead th {\n        text-align: right;\n    }\n</style>\n<table border=\"1\" class=\"dataframe\">\n  <thead>\n    <tr style=\"text-align: right;\">\n      <th></th>\n      <th>order_id</th>\n      <th>quantity</th>\n      <th>choice_description</th>\n      <th>item_price</th>\n      <th>item_price_per</th>\n      <th>item_name_6 pack soft drink</th>\n      <th>item_name_barbacoa bowl</th>\n      <th>item_name_barbacoa burrito</th>\n      <th>item_name_barbacoa crispy tacos</th>\n      <th>item_name_barbacoa salad bowl</th>\n      <th>...</th>\n      <th>item_name_steak crispy tacos</th>\n      <th>item_name_steak salad</th>\n      <th>item_name_steak salad bowl</th>\n      <th>item_name_steak soft tacos</th>\n      <th>item_name_veggie bowl</th>\n      <th>item_name_veggie burrito</th>\n      <th>item_name_veggie crispy tacos</th>\n      <th>item_name_veggie salad</th>\n      <th>item_name_veggie salad bowl</th>\n      <th>item_name_veggie soft tacos</th>\n    </tr>\n  </thead>\n  <tbody>\n    <tr>\n      <th>0</th>\n      <td>1</td>\n      <td>1</td>\n      <td>NaN</td>\n      <td>2.39</td>\n      <td>2.39</td>\n      <td>False</td>\n      <td>False</td>\n      <td>False</td>\n      <td>False</td>\n      <td>False</td>\n      <td>...</td>\n      <td>False</td>\n      <td>False</td>\n      <td>False</td>\n      <td>False</td>\n      <td>False</td>\n      <td>False</td>\n      <td>False</td>\n      <td>False</td>\n      <td>False</td>\n      <td>False</td>\n    </tr>\n    <tr>\n      <th>1</th>\n      <td>1</td>\n      <td>1</td>\n      <td>Clementine</td>\n      <td>3.39</td>\n      <td>3.39</td>\n      <td>False</td>\n      <td>False</td>\n      <td>False</td>\n      <td>False</td>\n      <td>False</td>\n      <td>...</td>\n      <td>False</td>\n      <td>False</td>\n      <td>False</td>\n      <td>False</td>\n      <td>False</td>\n      <td>False</td>\n      <td>False</td>\n      <td>False</td>\n      <td>False</td>\n      <td>False</td>\n    </tr>\n    <tr>\n      <th>2</th>\n      <td>1</td>\n      <td>1</td>\n      <td>Apple</td>\n      <td>3.39</td>\n      <td>3.39</td>\n      <td>False</td>\n      <td>False</td>\n      <td>False</td>\n      <td>False</td>\n      <td>False</td>\n      <td>...</td>\n      <td>False</td>\n      <td>False</td>\n      <td>False</td>\n      <td>False</td>\n      <td>False</td>\n      <td>False</td>\n      <td>False</td>\n      <td>False</td>\n      <td>False</td>\n      <td>False</td>\n    </tr>\n    <tr>\n      <th>3</th>\n      <td>1</td>\n      <td>1</td>\n      <td>NaN</td>\n      <td>2.39</td>\n      <td>2.39</td>\n      <td>False</td>\n      <td>False</td>\n      <td>False</td>\n      <td>False</td>\n      <td>False</td>\n      <td>...</td>\n      <td>False</td>\n      <td>False</td>\n      <td>False</td>\n      <td>False</td>\n      <td>False</td>\n      <td>False</td>\n      <td>False</td>\n      <td>False</td>\n      <td>False</td>\n      <td>False</td>\n    </tr>\n    <tr>\n      <th>4</th>\n      <td>2</td>\n      <td>2</td>\n      <td>Tomatillo Red Chili Salsa Hot Black Beans Ric...</td>\n      <td>16.98</td>\n      <td>8.49</td>\n      <td>False</td>\n      <td>False</td>\n      <td>False</td>\n      <td>False</td>\n      <td>False</td>\n      <td>...</td>\n      <td>False</td>\n      <td>False</td>\n      <td>False</td>\n      <td>False</td>\n      <td>False</td>\n      <td>False</td>\n      <td>False</td>\n      <td>False</td>\n      <td>False</td>\n      <td>False</td>\n    </tr>\n  </tbody>\n</table>\n<p>5 rows × 52 columns</p>\n</div>"
     },
     "execution_count": 135,
     "metadata": {},
     "output_type": "execute_result"
    }
   ],
   "source": [
    "df_encoded = pd.get_dummies(df, columns=['item_name'])\n",
    "df_encoded.head()"
   ],
   "metadata": {
    "collapsed": false,
    "ExecuteTime": {
     "end_time": "2024-07-06T07:54:09.273890Z",
     "start_time": "2024-07-06T07:54:09.255255800Z"
    }
   },
   "id": "2b6e7078f4555fef",
   "execution_count": 135
  },
  {
   "cell_type": "code",
   "outputs": [
    {
     "data": {
      "text/plain": "                       order_id  quantity  \\\nitem_name                                   \n6 pack soft drink         52322        55   \nbarbacoa bowl             53396        65   \nbarbacoa burrito          72891        90   \nbarbacoa crispy tacos      5613        12   \nbarbacoa salad bowl        9132         9   \n\n                                                      choice_description  \\\nitem_name                                                                  \n6 pack soft drink       Sprite  Diet Coke  Coke  Diet Coke  Diet Coke...   \nbarbacoa bowl           Roasted Chili Corn Salsa Fajita Vegetables Ri...   \nbarbacoa burrito        Fresh Tomato Salsa Mild Tomatillo Green Chili...   \nbarbacoa crispy tacos   Tomatillo Red Chili Salsa Rice Black Beans Ch...   \nbarbacoa salad bowl     Fresh Tomato Salsa Rice Fajita Vegetables Pin...   \n\n                       item_price  item_price_per  \nitem_name                                          \n6 pack soft drink          356.95          350.46  \nbarbacoa bowl              663.11          663.11  \nbarbacoa burrito           885.50          885.50  \nbarbacoa crispy tacos      120.21          110.96  \nbarbacoa salad bowl         97.01           97.01  ",
      "text/html": "<div>\n<style scoped>\n    .dataframe tbody tr th:only-of-type {\n        vertical-align: middle;\n    }\n\n    .dataframe tbody tr th {\n        vertical-align: top;\n    }\n\n    .dataframe thead th {\n        text-align: right;\n    }\n</style>\n<table border=\"1\" class=\"dataframe\">\n  <thead>\n    <tr style=\"text-align: right;\">\n      <th></th>\n      <th>order_id</th>\n      <th>quantity</th>\n      <th>choice_description</th>\n      <th>item_price</th>\n      <th>item_price_per</th>\n    </tr>\n    <tr>\n      <th>item_name</th>\n      <th></th>\n      <th></th>\n      <th></th>\n      <th></th>\n      <th></th>\n    </tr>\n  </thead>\n  <tbody>\n    <tr>\n      <th>6 pack soft drink</th>\n      <td>52322</td>\n      <td>55</td>\n      <td>Sprite  Diet Coke  Coke  Diet Coke  Diet Coke...</td>\n      <td>356.95</td>\n      <td>350.46</td>\n    </tr>\n    <tr>\n      <th>barbacoa bowl</th>\n      <td>53396</td>\n      <td>65</td>\n      <td>Roasted Chili Corn Salsa Fajita Vegetables Ri...</td>\n      <td>663.11</td>\n      <td>663.11</td>\n    </tr>\n    <tr>\n      <th>barbacoa burrito</th>\n      <td>72891</td>\n      <td>90</td>\n      <td>Fresh Tomato Salsa Mild Tomatillo Green Chili...</td>\n      <td>885.50</td>\n      <td>885.50</td>\n    </tr>\n    <tr>\n      <th>barbacoa crispy tacos</th>\n      <td>5613</td>\n      <td>12</td>\n      <td>Tomatillo Red Chili Salsa Rice Black Beans Ch...</td>\n      <td>120.21</td>\n      <td>110.96</td>\n    </tr>\n    <tr>\n      <th>barbacoa salad bowl</th>\n      <td>9132</td>\n      <td>9</td>\n      <td>Fresh Tomato Salsa Rice Fajita Vegetables Pin...</td>\n      <td>97.01</td>\n      <td>97.01</td>\n    </tr>\n  </tbody>\n</table>\n</div>"
     },
     "execution_count": 136,
     "metadata": {},
     "output_type": "execute_result"
    }
   ],
   "source": [
    "#Questions: \n",
    "#1.Quantity of each item\n",
    "df.groupby('item_name').sum().head()"
   ],
   "metadata": {
    "collapsed": false,
    "ExecuteTime": {
     "end_time": "2024-07-06T07:54:09.853876900Z",
     "start_time": "2024-07-06T07:54:09.843400200Z"
    }
   },
   "id": "75a810f79038f5c2",
   "execution_count": 136
  },
  {
   "cell_type": "code",
   "outputs": [
    {
     "data": {
      "text/plain": "choice_description\n Diet Coke                                                                                                                       133\n Coke                                                                                                                            115\n Sprite                                                                                                                           77\n Fresh Tomato Salsa Rice Black Beans Cheese Sour Cream Lettuce                                                                    41\n Fresh Tomato Salsa Rice Black Beans Cheese Sour Cream Guacamole Lettuce                                                          38\n                                                                                                                                ... \n Tomatillo Green Chili Salsa Sour Cream Cheese Guacamole Rice Fajita Vegetables                                                    1\n Fresh Tomato Salsa Mild Pinto Beans Black Beans Rice Cheese Sour Cream Lettuce                                                    1\n Fresh Tomato Salsa Mild Roasted Chili Corn Salsa Medium Tomatillo Red Chili Salsa Hot Pinto Beans Cheese Sour Cream Lettuce       1\n Fresh Tomato Mild Guacamole Rice Black Beans                                                                                      1\n Tomatillo Green Chili Salsa Rice Fajita Vegetables Black Beans Guacamole                                                          1\nName: count, Length: 1043, dtype: int64"
     },
     "execution_count": 137,
     "metadata": {},
     "output_type": "execute_result"
    }
   ],
   "source": [
    "#2 What was the most ordered item in the choice_description column?\n",
    "df['choice_description'].value_counts()"
   ],
   "metadata": {
    "collapsed": false,
    "ExecuteTime": {
     "end_time": "2024-07-06T07:54:10.468342300Z",
     "start_time": "2024-07-06T07:54:10.444586Z"
    }
   },
   "id": "20b717f37e0c3c47",
   "execution_count": 137
  },
  {
   "cell_type": "code",
   "outputs": [
    {
     "data": {
      "text/plain": "4913"
     },
     "execution_count": 138,
     "metadata": {},
     "output_type": "execute_result"
    }
   ],
   "source": [
    "df['quantity'].sum()"
   ],
   "metadata": {
    "collapsed": false,
    "ExecuteTime": {
     "end_time": "2024-07-06T07:54:11.174096800Z",
     "start_time": "2024-07-06T07:54:11.160105800Z"
    }
   },
   "id": "bdd3c042ea4a2a0f",
   "execution_count": 138
  },
  {
   "cell_type": "code",
   "outputs": [
    {
     "name": "stdout",
     "output_type": "stream",
     "text": [
      "Total revenue for the period in the dataset $ 34177.25\n"
     ]
    }
   ],
   "source": [
    "# 3.How much was the revenue for the period in the dataset?\n",
    "X = df['item_price'].sum()\n",
    "print(\"Total revenue for the period in the dataset $\",X)"
   ],
   "metadata": {
    "collapsed": false,
    "ExecuteTime": {
     "end_time": "2024-07-06T07:54:11.861757800Z",
     "start_time": "2024-07-06T07:54:11.856466300Z"
    }
   },
   "id": "300b4cf578cc0c0c",
   "execution_count": 139
  },
  {
   "cell_type": "code",
   "outputs": [
    {
     "name": "stdout",
     "output_type": "stream",
     "text": [
      "Total Orders:  1834\n"
     ]
    }
   ],
   "source": [
    "# 4.How many orders were made in the period?\n",
    "total_orders = df['order_id'].nunique()\n",
    "print(\"Total Orders: \", total_orders)"
   ],
   "metadata": {
    "collapsed": false,
    "ExecuteTime": {
     "end_time": "2024-07-06T07:54:12.468989700Z",
     "start_time": "2024-07-06T07:54:12.461024600Z"
    }
   },
   "id": "59876e9c3e482f4f",
   "execution_count": 140
  },
  {
   "cell_type": "code",
   "outputs": [
    {
     "name": "stdout",
     "output_type": "stream",
     "text": [
      "Average revenue per Order:  18.635359869138494\n"
     ]
    }
   ],
   "source": [
    "# 5. What is the average revenue amount per order?\n",
    "Avg_revenue = X / total_orders\n",
    "print(\"Average revenue per Order: \", Avg_revenue)"
   ],
   "metadata": {
    "collapsed": false,
    "ExecuteTime": {
     "end_time": "2024-07-06T07:54:14.005006300Z",
     "start_time": "2024-07-06T07:54:13.994670700Z"
    }
   },
   "id": "89984ab183e9cf94",
   "execution_count": 141
  },
  {
   "cell_type": "code",
   "outputs": [
    {
     "name": "stdout",
     "output_type": "stream",
     "text": [
      "Total Items:  47\n"
     ]
    }
   ],
   "source": [
    "Item_nunique = df['item_name'].nunique()\n",
    "print(\"Total Items: \", Item_nunique)"
   ],
   "metadata": {
    "collapsed": false,
    "ExecuteTime": {
     "end_time": "2024-07-06T07:49:43.125290800Z",
     "start_time": "2024-07-06T07:49:43.111924800Z"
    }
   },
   "id": "ef0f0052e9719ad8",
   "execution_count": 114
  }
 ],
 "metadata": {
  "kernelspec": {
   "display_name": "Python 3",
   "language": "python",
   "name": "python3"
  },
  "language_info": {
   "codemirror_mode": {
    "name": "ipython",
    "version": 2
   },
   "file_extension": ".py",
   "mimetype": "text/x-python",
   "name": "python",
   "nbconvert_exporter": "python",
   "pygments_lexer": "ipython2",
   "version": "2.7.6"
  }
 },
 "nbformat": 4,
 "nbformat_minor": 5
}
