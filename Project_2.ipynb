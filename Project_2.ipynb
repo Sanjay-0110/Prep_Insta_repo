{
 "cells": [
  {
   "cell_type": "code",
   "execution_count": 1,
   "id": "initial_id",
   "metadata": {
    "ExecuteTime": {
     "end_time": "2024-07-06T07:53:58.114412600Z",
     "start_time": "2024-07-06T07:53:58.094964200Z"
    }
   },
   "outputs": [],
   "source": [
    "import numpy as np\n",
    "import pandas as pd\n",
    "import os"
   ]
  },
  {
   "cell_type": "code",
   "execution_count": 2,
   "id": "61835fa6bb397677",
   "metadata": {
    "ExecuteTime": {
     "end_time": "2024-07-06T07:53:58.867279700Z",
     "start_time": "2024-07-06T07:53:58.830803100Z"
    },
    "collapsed": false,
    "jupyter": {
     "outputs_hidden": false
    }
   },
   "outputs": [],
   "source": [
    "df = pd.read_csv(r\"C:\\Users\\sanja\\Downloads\\chipotle.tsv\", sep='\\t')"
   ]
  },
  {
   "cell_type": "code",
   "execution_count": 3,
   "id": "d7e3b9c5bbc8488a",
   "metadata": {
    "ExecuteTime": {
     "end_time": "2024-07-06T07:53:59.713974900Z",
     "start_time": "2024-07-06T07:53:59.689886200Z"
    },
    "collapsed": false,
    "jupyter": {
     "outputs_hidden": false
    }
   },
   "outputs": [
    {
     "data": {
      "text/html": [
       "<div>\n",
       "<style scoped>\n",
       "    .dataframe tbody tr th:only-of-type {\n",
       "        vertical-align: middle;\n",
       "    }\n",
       "\n",
       "    .dataframe tbody tr th {\n",
       "        vertical-align: top;\n",
       "    }\n",
       "\n",
       "    .dataframe thead th {\n",
       "        text-align: right;\n",
       "    }\n",
       "</style>\n",
       "<table border=\"1\" class=\"dataframe\">\n",
       "  <thead>\n",
       "    <tr style=\"text-align: right;\">\n",
       "      <th></th>\n",
       "      <th>order_id</th>\n",
       "      <th>quantity</th>\n",
       "      <th>item_name</th>\n",
       "      <th>choice_description</th>\n",
       "      <th>item_price</th>\n",
       "    </tr>\n",
       "  </thead>\n",
       "  <tbody>\n",
       "    <tr>\n",
       "      <th>0</th>\n",
       "      <td>1</td>\n",
       "      <td>1</td>\n",
       "      <td>Chips and Fresh Tomato Salsa</td>\n",
       "      <td>NaN</td>\n",
       "      <td>$2.39</td>\n",
       "    </tr>\n",
       "    <tr>\n",
       "      <th>1</th>\n",
       "      <td>1</td>\n",
       "      <td>1</td>\n",
       "      <td>Izze</td>\n",
       "      <td>[Clementine]</td>\n",
       "      <td>$3.39</td>\n",
       "    </tr>\n",
       "    <tr>\n",
       "      <th>2</th>\n",
       "      <td>1</td>\n",
       "      <td>1</td>\n",
       "      <td>Nantucket Nectar</td>\n",
       "      <td>[Apple]</td>\n",
       "      <td>$3.39</td>\n",
       "    </tr>\n",
       "    <tr>\n",
       "      <th>3</th>\n",
       "      <td>1</td>\n",
       "      <td>1</td>\n",
       "      <td>Chips and Tomatillo-Green Chili Salsa</td>\n",
       "      <td>NaN</td>\n",
       "      <td>$2.39</td>\n",
       "    </tr>\n",
       "    <tr>\n",
       "      <th>4</th>\n",
       "      <td>2</td>\n",
       "      <td>2</td>\n",
       "      <td>Chicken Bowl</td>\n",
       "      <td>[Tomatillo-Red Chili Salsa (Hot), [Black Beans...</td>\n",
       "      <td>$16.98</td>\n",
       "    </tr>\n",
       "    <tr>\n",
       "      <th>...</th>\n",
       "      <td>...</td>\n",
       "      <td>...</td>\n",
       "      <td>...</td>\n",
       "      <td>...</td>\n",
       "      <td>...</td>\n",
       "    </tr>\n",
       "    <tr>\n",
       "      <th>4617</th>\n",
       "      <td>1833</td>\n",
       "      <td>1</td>\n",
       "      <td>Steak Burrito</td>\n",
       "      <td>[Fresh Tomato Salsa, [Rice, Black Beans, Sour ...</td>\n",
       "      <td>$11.75</td>\n",
       "    </tr>\n",
       "    <tr>\n",
       "      <th>4618</th>\n",
       "      <td>1833</td>\n",
       "      <td>1</td>\n",
       "      <td>Steak Burrito</td>\n",
       "      <td>[Fresh Tomato Salsa, [Rice, Sour Cream, Cheese...</td>\n",
       "      <td>$11.75</td>\n",
       "    </tr>\n",
       "    <tr>\n",
       "      <th>4619</th>\n",
       "      <td>1834</td>\n",
       "      <td>1</td>\n",
       "      <td>Chicken Salad Bowl</td>\n",
       "      <td>[Fresh Tomato Salsa, [Fajita Vegetables, Pinto...</td>\n",
       "      <td>$11.25</td>\n",
       "    </tr>\n",
       "    <tr>\n",
       "      <th>4620</th>\n",
       "      <td>1834</td>\n",
       "      <td>1</td>\n",
       "      <td>Chicken Salad Bowl</td>\n",
       "      <td>[Fresh Tomato Salsa, [Fajita Vegetables, Lettu...</td>\n",
       "      <td>$8.75</td>\n",
       "    </tr>\n",
       "    <tr>\n",
       "      <th>4621</th>\n",
       "      <td>1834</td>\n",
       "      <td>1</td>\n",
       "      <td>Chicken Salad Bowl</td>\n",
       "      <td>[Fresh Tomato Salsa, [Fajita Vegetables, Pinto...</td>\n",
       "      <td>$8.75</td>\n",
       "    </tr>\n",
       "  </tbody>\n",
       "</table>\n",
       "<p>4622 rows × 5 columns</p>\n",
       "</div>"
      ],
      "text/plain": [
       "      order_id  quantity                              item_name  \\\n",
       "0            1         1           Chips and Fresh Tomato Salsa   \n",
       "1            1         1                                   Izze   \n",
       "2            1         1                       Nantucket Nectar   \n",
       "3            1         1  Chips and Tomatillo-Green Chili Salsa   \n",
       "4            2         2                           Chicken Bowl   \n",
       "...        ...       ...                                    ...   \n",
       "4617      1833         1                          Steak Burrito   \n",
       "4618      1833         1                          Steak Burrito   \n",
       "4619      1834         1                     Chicken Salad Bowl   \n",
       "4620      1834         1                     Chicken Salad Bowl   \n",
       "4621      1834         1                     Chicken Salad Bowl   \n",
       "\n",
       "                                     choice_description item_price  \n",
       "0                                                   NaN     $2.39   \n",
       "1                                          [Clementine]     $3.39   \n",
       "2                                               [Apple]     $3.39   \n",
       "3                                                   NaN     $2.39   \n",
       "4     [Tomatillo-Red Chili Salsa (Hot), [Black Beans...    $16.98   \n",
       "...                                                 ...        ...  \n",
       "4617  [Fresh Tomato Salsa, [Rice, Black Beans, Sour ...    $11.75   \n",
       "4618  [Fresh Tomato Salsa, [Rice, Sour Cream, Cheese...    $11.75   \n",
       "4619  [Fresh Tomato Salsa, [Fajita Vegetables, Pinto...    $11.25   \n",
       "4620  [Fresh Tomato Salsa, [Fajita Vegetables, Lettu...     $8.75   \n",
       "4621  [Fresh Tomato Salsa, [Fajita Vegetables, Pinto...     $8.75   \n",
       "\n",
       "[4622 rows x 5 columns]"
      ]
     },
     "execution_count": 3,
     "metadata": {},
     "output_type": "execute_result"
    }
   ],
   "source": [
    "df"
   ]
  },
  {
   "cell_type": "code",
   "execution_count": 4,
   "id": "7c2e5fc0170b56ae",
   "metadata": {
    "ExecuteTime": {
     "end_time": "2024-07-06T07:54:00.319635200Z",
     "start_time": "2024-07-06T07:54:00.311922200Z"
    },
    "collapsed": false,
    "jupyter": {
     "outputs_hidden": false
    }
   },
   "outputs": [
    {
     "data": {
      "text/plain": [
       "order_id                 0\n",
       "quantity                 0\n",
       "item_name                0\n",
       "choice_description    1246\n",
       "item_price               0\n",
       "dtype: int64"
      ]
     },
     "execution_count": 4,
     "metadata": {},
     "output_type": "execute_result"
    }
   ],
   "source": [
    "'''Missing Value'''\n",
    "df.isnull().sum()"
   ]
  },
  {
   "cell_type": "code",
   "execution_count": 5,
   "id": "f20b995978c35fa3",
   "metadata": {
    "ExecuteTime": {
     "end_time": "2024-07-06T07:54:00.885597800Z",
     "start_time": "2024-07-06T07:54:00.877666Z"
    },
    "collapsed": false,
    "jupyter": {
     "outputs_hidden": false
    }
   },
   "outputs": [
    {
     "name": "stdout",
     "output_type": "stream",
     "text": [
      "<class 'pandas.core.frame.DataFrame'>\n",
      "RangeIndex: 4622 entries, 0 to 4621\n",
      "Data columns (total 5 columns):\n",
      " #   Column              Non-Null Count  Dtype \n",
      "---  ------              --------------  ----- \n",
      " 0   order_id            4622 non-null   int64 \n",
      " 1   quantity            4622 non-null   int64 \n",
      " 2   item_name           4622 non-null   object\n",
      " 3   choice_description  3376 non-null   object\n",
      " 4   item_price          4622 non-null   object\n",
      "dtypes: int64(2), object(3)\n",
      "memory usage: 180.7+ KB\n"
     ]
    }
   ],
   "source": [
    "df.info()"
   ]
  },
  {
   "cell_type": "code",
   "execution_count": 6,
   "id": "9e36ddbd114748df",
   "metadata": {
    "ExecuteTime": {
     "end_time": "2024-07-06T07:54:01.323352400Z",
     "start_time": "2024-07-06T07:54:01.316571200Z"
    },
    "collapsed": false,
    "jupyter": {
     "outputs_hidden": false
    }
   },
   "outputs": [],
   "source": [
    "df['item_price'] = df['item_price'].apply(lambda x:x.replace(\"$\",''))"
   ]
  },
  {
   "cell_type": "code",
   "execution_count": 7,
   "id": "afb66adf883e738c",
   "metadata": {
    "ExecuteTime": {
     "end_time": "2024-07-06T07:54:01.742052200Z",
     "start_time": "2024-07-06T07:54:01.738477900Z"
    },
    "collapsed": false,
    "jupyter": {
     "outputs_hidden": false
    }
   },
   "outputs": [],
   "source": [
    "df['item_price'] = df['item_price'].astype(float)"
   ]
  },
  {
   "cell_type": "code",
   "execution_count": 8,
   "id": "fe7099fd8c5c2bd7",
   "metadata": {
    "ExecuteTime": {
     "end_time": "2024-07-06T07:54:02.245217300Z",
     "start_time": "2024-07-06T07:54:02.234508800Z"
    },
    "collapsed": false,
    "jupyter": {
     "outputs_hidden": false
    }
   },
   "outputs": [
    {
     "name": "stdout",
     "output_type": "stream",
     "text": [
      "59\n"
     ]
    }
   ],
   "source": [
    "x = df.duplicated().sum()\n",
    "print(x)"
   ]
  },
  {
   "cell_type": "code",
   "execution_count": 9,
   "id": "bf428192e863258b",
   "metadata": {
    "ExecuteTime": {
     "end_time": "2024-07-06T07:54:02.693267100Z",
     "start_time": "2024-07-06T07:54:02.686799Z"
    },
    "collapsed": false,
    "jupyter": {
     "outputs_hidden": false
    }
   },
   "outputs": [],
   "source": [
    "# to drop duplicate value\n",
    "df.drop_duplicates(inplace=True)"
   ]
  },
  {
   "cell_type": "code",
   "execution_count": 10,
   "id": "df7bb6598feb32ac",
   "metadata": {
    "ExecuteTime": {
     "end_time": "2024-07-06T07:54:03.233628800Z",
     "start_time": "2024-07-06T07:54:03.226669800Z"
    },
    "collapsed": false,
    "jupyter": {
     "outputs_hidden": false
    }
   },
   "outputs": [
    {
     "name": "stdout",
     "output_type": "stream",
     "text": [
      "Empty DataFrame\n",
      "Columns: [order_id, quantity, item_name, choice_description, item_price]\n",
      "Index: []\n"
     ]
    }
   ],
   "source": [
    "# Examine the Quantity and Item Price columns.\n",
    "\n",
    "Invalid_quality = df[~df['quantity'].apply(lambda x: isinstance(x,int) and x>0)]\n",
    "print(Invalid_quality)"
   ]
  },
  {
   "cell_type": "code",
   "execution_count": 11,
   "id": "bf89a4577bd96b9c",
   "metadata": {
    "ExecuteTime": {
     "end_time": "2024-07-06T07:54:04.480737300Z",
     "start_time": "2024-07-06T07:54:04.472808800Z"
    },
    "collapsed": false,
    "jupyter": {
     "outputs_hidden": false
    }
   },
   "outputs": [
    {
     "name": "stdout",
     "output_type": "stream",
     "text": [
      "Empty DataFrame\n",
      "Columns: [order_id, quantity, item_name, choice_description, item_price]\n",
      "Index: []\n"
     ]
    }
   ],
   "source": [
    "invalid_item_price = df[df['item_price'] <= 0]\n",
    "print(invalid_item_price)"
   ]
  },
  {
   "cell_type": "code",
   "execution_count": 12,
   "id": "d3c69388067d0809",
   "metadata": {
    "ExecuteTime": {
     "end_time": "2024-07-06T07:54:04.960822500Z",
     "start_time": "2024-07-06T07:54:04.951954600Z"
    },
    "collapsed": false,
    "jupyter": {
     "outputs_hidden": false
    }
   },
   "outputs": [
    {
     "data": {
      "text/plain": [
       "array([nan, '[Clementine]', '[Apple]', ...,\n",
       "       '[Roasted Chili Corn Salsa, [Pinto Beans, Sour Cream, Cheese, Lettuce, Guacamole]]',\n",
       "       '[Tomatillo Green Chili Salsa, [Rice, Black Beans]]',\n",
       "       '[Tomatillo Green Chili Salsa, [Rice, Fajita Vegetables, Black Beans, Guacamole]]'],\n",
       "      dtype=object)"
      ]
     },
     "execution_count": 12,
     "metadata": {},
     "output_type": "execute_result"
    }
   ],
   "source": [
    "df['choice_description'].unique()"
   ]
  },
  {
   "cell_type": "code",
   "execution_count": 13,
   "id": "dfe6caf7298426e1",
   "metadata": {
    "ExecuteTime": {
     "end_time": "2024-07-06T07:54:05.627003800Z",
     "start_time": "2024-07-06T07:54:05.585291Z"
    },
    "collapsed": false,
    "jupyter": {
     "outputs_hidden": false
    }
   },
   "outputs": [],
   "source": [
    "#Handling Special Characters:\n",
    "import re\n",
    "\n",
    "df['item_name'] = df['item_name'].apply(lambda x: re.sub(r'\\W+', ' ', x))\n",
    "df['choice_description'] = df['choice_description'].apply(lambda x: re.sub(r'\\W+', ' ', x) if pd.notnull(x) else x)\n"
   ]
  },
  {
   "cell_type": "code",
   "execution_count": 14,
   "id": "f4e0800e080519aa",
   "metadata": {
    "ExecuteTime": {
     "end_time": "2024-07-06T07:54:06.018424800Z",
     "start_time": "2024-07-06T07:54:06.008105400Z"
    },
    "collapsed": false,
    "jupyter": {
     "outputs_hidden": false
    }
   },
   "outputs": [
    {
     "data": {
      "text/html": [
       "<div>\n",
       "<style scoped>\n",
       "    .dataframe tbody tr th:only-of-type {\n",
       "        vertical-align: middle;\n",
       "    }\n",
       "\n",
       "    .dataframe tbody tr th {\n",
       "        vertical-align: top;\n",
       "    }\n",
       "\n",
       "    .dataframe thead th {\n",
       "        text-align: right;\n",
       "    }\n",
       "</style>\n",
       "<table border=\"1\" class=\"dataframe\">\n",
       "  <thead>\n",
       "    <tr style=\"text-align: right;\">\n",
       "      <th></th>\n",
       "      <th>order_id</th>\n",
       "      <th>quantity</th>\n",
       "      <th>item_name</th>\n",
       "      <th>choice_description</th>\n",
       "      <th>item_price</th>\n",
       "    </tr>\n",
       "  </thead>\n",
       "  <tbody>\n",
       "    <tr>\n",
       "      <th>0</th>\n",
       "      <td>1</td>\n",
       "      <td>1</td>\n",
       "      <td>Chips and Fresh Tomato Salsa</td>\n",
       "      <td>NaN</td>\n",
       "      <td>2.39</td>\n",
       "    </tr>\n",
       "    <tr>\n",
       "      <th>1</th>\n",
       "      <td>1</td>\n",
       "      <td>1</td>\n",
       "      <td>Izze</td>\n",
       "      <td>Clementine</td>\n",
       "      <td>3.39</td>\n",
       "    </tr>\n",
       "    <tr>\n",
       "      <th>2</th>\n",
       "      <td>1</td>\n",
       "      <td>1</td>\n",
       "      <td>Nantucket Nectar</td>\n",
       "      <td>Apple</td>\n",
       "      <td>3.39</td>\n",
       "    </tr>\n",
       "    <tr>\n",
       "      <th>3</th>\n",
       "      <td>1</td>\n",
       "      <td>1</td>\n",
       "      <td>Chips and Tomatillo Green Chili Salsa</td>\n",
       "      <td>NaN</td>\n",
       "      <td>2.39</td>\n",
       "    </tr>\n",
       "    <tr>\n",
       "      <th>4</th>\n",
       "      <td>2</td>\n",
       "      <td>2</td>\n",
       "      <td>Chicken Bowl</td>\n",
       "      <td>Tomatillo Red Chili Salsa Hot Black Beans Ric...</td>\n",
       "      <td>16.98</td>\n",
       "    </tr>\n",
       "    <tr>\n",
       "      <th>...</th>\n",
       "      <td>...</td>\n",
       "      <td>...</td>\n",
       "      <td>...</td>\n",
       "      <td>...</td>\n",
       "      <td>...</td>\n",
       "    </tr>\n",
       "    <tr>\n",
       "      <th>4617</th>\n",
       "      <td>1833</td>\n",
       "      <td>1</td>\n",
       "      <td>Steak Burrito</td>\n",
       "      <td>Fresh Tomato Salsa Rice Black Beans Sour Crea...</td>\n",
       "      <td>11.75</td>\n",
       "    </tr>\n",
       "    <tr>\n",
       "      <th>4618</th>\n",
       "      <td>1833</td>\n",
       "      <td>1</td>\n",
       "      <td>Steak Burrito</td>\n",
       "      <td>Fresh Tomato Salsa Rice Sour Cream Cheese Let...</td>\n",
       "      <td>11.75</td>\n",
       "    </tr>\n",
       "    <tr>\n",
       "      <th>4619</th>\n",
       "      <td>1834</td>\n",
       "      <td>1</td>\n",
       "      <td>Chicken Salad Bowl</td>\n",
       "      <td>Fresh Tomato Salsa Fajita Vegetables Pinto Be...</td>\n",
       "      <td>11.25</td>\n",
       "    </tr>\n",
       "    <tr>\n",
       "      <th>4620</th>\n",
       "      <td>1834</td>\n",
       "      <td>1</td>\n",
       "      <td>Chicken Salad Bowl</td>\n",
       "      <td>Fresh Tomato Salsa Fajita Vegetables Lettuce</td>\n",
       "      <td>8.75</td>\n",
       "    </tr>\n",
       "    <tr>\n",
       "      <th>4621</th>\n",
       "      <td>1834</td>\n",
       "      <td>1</td>\n",
       "      <td>Chicken Salad Bowl</td>\n",
       "      <td>Fresh Tomato Salsa Fajita Vegetables Pinto Be...</td>\n",
       "      <td>8.75</td>\n",
       "    </tr>\n",
       "  </tbody>\n",
       "</table>\n",
       "<p>4563 rows × 5 columns</p>\n",
       "</div>"
      ],
      "text/plain": [
       "      order_id  quantity                              item_name  \\\n",
       "0            1         1           Chips and Fresh Tomato Salsa   \n",
       "1            1         1                                   Izze   \n",
       "2            1         1                       Nantucket Nectar   \n",
       "3            1         1  Chips and Tomatillo Green Chili Salsa   \n",
       "4            2         2                           Chicken Bowl   \n",
       "...        ...       ...                                    ...   \n",
       "4617      1833         1                          Steak Burrito   \n",
       "4618      1833         1                          Steak Burrito   \n",
       "4619      1834         1                     Chicken Salad Bowl   \n",
       "4620      1834         1                     Chicken Salad Bowl   \n",
       "4621      1834         1                     Chicken Salad Bowl   \n",
       "\n",
       "                                     choice_description  item_price  \n",
       "0                                                   NaN        2.39  \n",
       "1                                           Clementine         3.39  \n",
       "2                                                Apple         3.39  \n",
       "3                                                   NaN        2.39  \n",
       "4      Tomatillo Red Chili Salsa Hot Black Beans Ric...       16.98  \n",
       "...                                                 ...         ...  \n",
       "4617   Fresh Tomato Salsa Rice Black Beans Sour Crea...       11.75  \n",
       "4618   Fresh Tomato Salsa Rice Sour Cream Cheese Let...       11.75  \n",
       "4619   Fresh Tomato Salsa Fajita Vegetables Pinto Be...       11.25  \n",
       "4620      Fresh Tomato Salsa Fajita Vegetables Lettuce         8.75  \n",
       "4621   Fresh Tomato Salsa Fajita Vegetables Pinto Be...        8.75  \n",
       "\n",
       "[4563 rows x 5 columns]"
      ]
     },
     "execution_count": 14,
     "metadata": {},
     "output_type": "execute_result"
    }
   ],
   "source": [
    "df"
   ]
  },
  {
   "cell_type": "code",
   "execution_count": 15,
   "id": "372a2fc08453d5e9",
   "metadata": {
    "ExecuteTime": {
     "end_time": "2024-07-06T07:54:06.629013300Z",
     "start_time": "2024-07-06T07:54:06.617194800Z"
    },
    "collapsed": false,
    "jupyter": {
     "outputs_hidden": false
    }
   },
   "outputs": [
    {
     "data": {
      "text/plain": [
       "order_id\n",
       "926     21\n",
       "1483    14\n",
       "1786    11\n",
       "759     11\n",
       "691     11\n",
       "        ..\n",
       "94       1\n",
       "1374     1\n",
       "837      1\n",
       "831      1\n",
       "528      1\n",
       "Name: count, Length: 1834, dtype: int64"
      ]
     },
     "execution_count": 15,
     "metadata": {},
     "output_type": "execute_result"
    }
   ],
   "source": [
    "#Order ID Integrity:\n",
    "df['order_id'].value_counts()"
   ]
  },
  {
   "cell_type": "code",
   "execution_count": 16,
   "id": "143b9246d029ad88",
   "metadata": {
    "ExecuteTime": {
     "end_time": "2024-07-06T07:54:07.221724Z",
     "start_time": "2024-07-06T07:54:07.208551300Z"
    },
    "collapsed": false,
    "jupyter": {
     "outputs_hidden": false
    }
   },
   "outputs": [
    {
     "data": {
      "text/html": [
       "<div>\n",
       "<style scoped>\n",
       "    .dataframe tbody tr th:only-of-type {\n",
       "        vertical-align: middle;\n",
       "    }\n",
       "\n",
       "    .dataframe tbody tr th {\n",
       "        vertical-align: top;\n",
       "    }\n",
       "\n",
       "    .dataframe thead th {\n",
       "        text-align: right;\n",
       "    }\n",
       "</style>\n",
       "<table border=\"1\" class=\"dataframe\">\n",
       "  <thead>\n",
       "    <tr style=\"text-align: right;\">\n",
       "      <th></th>\n",
       "      <th>order_id</th>\n",
       "      <th>quantity</th>\n",
       "      <th>item_name</th>\n",
       "      <th>choice_description</th>\n",
       "      <th>item_price</th>\n",
       "    </tr>\n",
       "  </thead>\n",
       "  <tbody>\n",
       "    <tr>\n",
       "      <th>0</th>\n",
       "      <td>1</td>\n",
       "      <td>1</td>\n",
       "      <td>chips and fresh tomato salsa</td>\n",
       "      <td>NaN</td>\n",
       "      <td>2.39</td>\n",
       "    </tr>\n",
       "    <tr>\n",
       "      <th>1</th>\n",
       "      <td>1</td>\n",
       "      <td>1</td>\n",
       "      <td>izze</td>\n",
       "      <td>Clementine</td>\n",
       "      <td>3.39</td>\n",
       "    </tr>\n",
       "    <tr>\n",
       "      <th>2</th>\n",
       "      <td>1</td>\n",
       "      <td>1</td>\n",
       "      <td>nantucket nectar</td>\n",
       "      <td>Apple</td>\n",
       "      <td>3.39</td>\n",
       "    </tr>\n",
       "    <tr>\n",
       "      <th>3</th>\n",
       "      <td>1</td>\n",
       "      <td>1</td>\n",
       "      <td>chips and tomatillo green chili salsa</td>\n",
       "      <td>NaN</td>\n",
       "      <td>2.39</td>\n",
       "    </tr>\n",
       "    <tr>\n",
       "      <th>4</th>\n",
       "      <td>2</td>\n",
       "      <td>2</td>\n",
       "      <td>chicken bowl</td>\n",
       "      <td>Tomatillo Red Chili Salsa Hot Black Beans Ric...</td>\n",
       "      <td>16.98</td>\n",
       "    </tr>\n",
       "    <tr>\n",
       "      <th>...</th>\n",
       "      <td>...</td>\n",
       "      <td>...</td>\n",
       "      <td>...</td>\n",
       "      <td>...</td>\n",
       "      <td>...</td>\n",
       "    </tr>\n",
       "    <tr>\n",
       "      <th>4617</th>\n",
       "      <td>1833</td>\n",
       "      <td>1</td>\n",
       "      <td>steak burrito</td>\n",
       "      <td>Fresh Tomato Salsa Rice Black Beans Sour Crea...</td>\n",
       "      <td>11.75</td>\n",
       "    </tr>\n",
       "    <tr>\n",
       "      <th>4618</th>\n",
       "      <td>1833</td>\n",
       "      <td>1</td>\n",
       "      <td>steak burrito</td>\n",
       "      <td>Fresh Tomato Salsa Rice Sour Cream Cheese Let...</td>\n",
       "      <td>11.75</td>\n",
       "    </tr>\n",
       "    <tr>\n",
       "      <th>4619</th>\n",
       "      <td>1834</td>\n",
       "      <td>1</td>\n",
       "      <td>chicken salad bowl</td>\n",
       "      <td>Fresh Tomato Salsa Fajita Vegetables Pinto Be...</td>\n",
       "      <td>11.25</td>\n",
       "    </tr>\n",
       "    <tr>\n",
       "      <th>4620</th>\n",
       "      <td>1834</td>\n",
       "      <td>1</td>\n",
       "      <td>chicken salad bowl</td>\n",
       "      <td>Fresh Tomato Salsa Fajita Vegetables Lettuce</td>\n",
       "      <td>8.75</td>\n",
       "    </tr>\n",
       "    <tr>\n",
       "      <th>4621</th>\n",
       "      <td>1834</td>\n",
       "      <td>1</td>\n",
       "      <td>chicken salad bowl</td>\n",
       "      <td>Fresh Tomato Salsa Fajita Vegetables Pinto Be...</td>\n",
       "      <td>8.75</td>\n",
       "    </tr>\n",
       "  </tbody>\n",
       "</table>\n",
       "<p>4563 rows × 5 columns</p>\n",
       "</div>"
      ],
      "text/plain": [
       "      order_id  quantity                              item_name  \\\n",
       "0            1         1           chips and fresh tomato salsa   \n",
       "1            1         1                                   izze   \n",
       "2            1         1                       nantucket nectar   \n",
       "3            1         1  chips and tomatillo green chili salsa   \n",
       "4            2         2                           chicken bowl   \n",
       "...        ...       ...                                    ...   \n",
       "4617      1833         1                          steak burrito   \n",
       "4618      1833         1                          steak burrito   \n",
       "4619      1834         1                     chicken salad bowl   \n",
       "4620      1834         1                     chicken salad bowl   \n",
       "4621      1834         1                     chicken salad bowl   \n",
       "\n",
       "                                     choice_description  item_price  \n",
       "0                                                   NaN        2.39  \n",
       "1                                           Clementine         3.39  \n",
       "2                                                Apple         3.39  \n",
       "3                                                   NaN        2.39  \n",
       "4      Tomatillo Red Chili Salsa Hot Black Beans Ric...       16.98  \n",
       "...                                                 ...         ...  \n",
       "4617   Fresh Tomato Salsa Rice Black Beans Sour Crea...       11.75  \n",
       "4618   Fresh Tomato Salsa Rice Sour Cream Cheese Let...       11.75  \n",
       "4619   Fresh Tomato Salsa Fajita Vegetables Pinto Be...       11.25  \n",
       "4620      Fresh Tomato Salsa Fajita Vegetables Lettuce         8.75  \n",
       "4621   Fresh Tomato Salsa Fajita Vegetables Pinto Be...        8.75  \n",
       "\n",
       "[4563 rows x 5 columns]"
      ]
     },
     "execution_count": 16,
     "metadata": {},
     "output_type": "execute_result"
    }
   ],
   "source": [
    "# Item Name Standardization:\n",
    "df['item_name'] = df['item_name'].str.lower().str.strip()\n",
    "df"
   ]
  },
  {
   "cell_type": "code",
   "execution_count": 17,
   "id": "3a6a0b17ce8c337e",
   "metadata": {
    "ExecuteTime": {
     "end_time": "2024-07-06T07:54:07.780891500Z",
     "start_time": "2024-07-06T07:54:07.771301900Z"
    },
    "collapsed": false,
    "jupyter": {
     "outputs_hidden": false
    }
   },
   "outputs": [],
   "source": [
    "df['item_price_per'] = df['item_price'] / df['quantity']"
   ]
  },
  {
   "cell_type": "code",
   "execution_count": 18,
   "id": "fc24f0036950e115",
   "metadata": {
    "ExecuteTime": {
     "end_time": "2024-07-06T07:54:08.259859300Z",
     "start_time": "2024-07-06T07:54:08.251515800Z"
    },
    "collapsed": false,
    "jupyter": {
     "outputs_hidden": false
    }
   },
   "outputs": [
    {
     "name": "stdout",
     "output_type": "stream",
     "text": [
      "Empty DataFrame\n",
      "Columns: [order_id, quantity, item_name, choice_description, item_price, item_price_per]\n",
      "Index: []\n"
     ]
    }
   ],
   "source": [
    "# Data Integrity Check:\n",
    "\n",
    "data_intergrity = df[(df['quantity'] * df['item_price_per']).round(2) != df['item_price']]\n",
    "print(data_intergrity)"
   ]
  },
  {
   "cell_type": "code",
   "execution_count": 19,
   "id": "4908786c89f0252f",
   "metadata": {
    "ExecuteTime": {
     "end_time": "2024-07-06T07:54:08.857350400Z",
     "start_time": "2024-07-06T07:54:08.833003Z"
    },
    "collapsed": false,
    "jupyter": {
     "outputs_hidden": false
    }
   },
   "outputs": [],
   "source": [
    "# Convert into csv\n",
    "df.to_csv('cleaned_chipotle_data.csv', sep=',', index=False)"
   ]
  },
  {
   "cell_type": "code",
   "execution_count": 20,
   "id": "2b6e7078f4555fef",
   "metadata": {
    "ExecuteTime": {
     "end_time": "2024-07-06T07:54:09.273890Z",
     "start_time": "2024-07-06T07:54:09.255255800Z"
    },
    "collapsed": false,
    "jupyter": {
     "outputs_hidden": false
    }
   },
   "outputs": [
    {
     "data": {
      "text/html": [
       "<div>\n",
       "<style scoped>\n",
       "    .dataframe tbody tr th:only-of-type {\n",
       "        vertical-align: middle;\n",
       "    }\n",
       "\n",
       "    .dataframe tbody tr th {\n",
       "        vertical-align: top;\n",
       "    }\n",
       "\n",
       "    .dataframe thead th {\n",
       "        text-align: right;\n",
       "    }\n",
       "</style>\n",
       "<table border=\"1\" class=\"dataframe\">\n",
       "  <thead>\n",
       "    <tr style=\"text-align: right;\">\n",
       "      <th></th>\n",
       "      <th>order_id</th>\n",
       "      <th>quantity</th>\n",
       "      <th>choice_description</th>\n",
       "      <th>item_price</th>\n",
       "      <th>item_price_per</th>\n",
       "      <th>item_name_6 pack soft drink</th>\n",
       "      <th>item_name_barbacoa bowl</th>\n",
       "      <th>item_name_barbacoa burrito</th>\n",
       "      <th>item_name_barbacoa crispy tacos</th>\n",
       "      <th>item_name_barbacoa salad bowl</th>\n",
       "      <th>...</th>\n",
       "      <th>item_name_steak crispy tacos</th>\n",
       "      <th>item_name_steak salad</th>\n",
       "      <th>item_name_steak salad bowl</th>\n",
       "      <th>item_name_steak soft tacos</th>\n",
       "      <th>item_name_veggie bowl</th>\n",
       "      <th>item_name_veggie burrito</th>\n",
       "      <th>item_name_veggie crispy tacos</th>\n",
       "      <th>item_name_veggie salad</th>\n",
       "      <th>item_name_veggie salad bowl</th>\n",
       "      <th>item_name_veggie soft tacos</th>\n",
       "    </tr>\n",
       "  </thead>\n",
       "  <tbody>\n",
       "    <tr>\n",
       "      <th>0</th>\n",
       "      <td>1</td>\n",
       "      <td>1</td>\n",
       "      <td>NaN</td>\n",
       "      <td>2.39</td>\n",
       "      <td>2.39</td>\n",
       "      <td>False</td>\n",
       "      <td>False</td>\n",
       "      <td>False</td>\n",
       "      <td>False</td>\n",
       "      <td>False</td>\n",
       "      <td>...</td>\n",
       "      <td>False</td>\n",
       "      <td>False</td>\n",
       "      <td>False</td>\n",
       "      <td>False</td>\n",
       "      <td>False</td>\n",
       "      <td>False</td>\n",
       "      <td>False</td>\n",
       "      <td>False</td>\n",
       "      <td>False</td>\n",
       "      <td>False</td>\n",
       "    </tr>\n",
       "    <tr>\n",
       "      <th>1</th>\n",
       "      <td>1</td>\n",
       "      <td>1</td>\n",
       "      <td>Clementine</td>\n",
       "      <td>3.39</td>\n",
       "      <td>3.39</td>\n",
       "      <td>False</td>\n",
       "      <td>False</td>\n",
       "      <td>False</td>\n",
       "      <td>False</td>\n",
       "      <td>False</td>\n",
       "      <td>...</td>\n",
       "      <td>False</td>\n",
       "      <td>False</td>\n",
       "      <td>False</td>\n",
       "      <td>False</td>\n",
       "      <td>False</td>\n",
       "      <td>False</td>\n",
       "      <td>False</td>\n",
       "      <td>False</td>\n",
       "      <td>False</td>\n",
       "      <td>False</td>\n",
       "    </tr>\n",
       "    <tr>\n",
       "      <th>2</th>\n",
       "      <td>1</td>\n",
       "      <td>1</td>\n",
       "      <td>Apple</td>\n",
       "      <td>3.39</td>\n",
       "      <td>3.39</td>\n",
       "      <td>False</td>\n",
       "      <td>False</td>\n",
       "      <td>False</td>\n",
       "      <td>False</td>\n",
       "      <td>False</td>\n",
       "      <td>...</td>\n",
       "      <td>False</td>\n",
       "      <td>False</td>\n",
       "      <td>False</td>\n",
       "      <td>False</td>\n",
       "      <td>False</td>\n",
       "      <td>False</td>\n",
       "      <td>False</td>\n",
       "      <td>False</td>\n",
       "      <td>False</td>\n",
       "      <td>False</td>\n",
       "    </tr>\n",
       "    <tr>\n",
       "      <th>3</th>\n",
       "      <td>1</td>\n",
       "      <td>1</td>\n",
       "      <td>NaN</td>\n",
       "      <td>2.39</td>\n",
       "      <td>2.39</td>\n",
       "      <td>False</td>\n",
       "      <td>False</td>\n",
       "      <td>False</td>\n",
       "      <td>False</td>\n",
       "      <td>False</td>\n",
       "      <td>...</td>\n",
       "      <td>False</td>\n",
       "      <td>False</td>\n",
       "      <td>False</td>\n",
       "      <td>False</td>\n",
       "      <td>False</td>\n",
       "      <td>False</td>\n",
       "      <td>False</td>\n",
       "      <td>False</td>\n",
       "      <td>False</td>\n",
       "      <td>False</td>\n",
       "    </tr>\n",
       "    <tr>\n",
       "      <th>4</th>\n",
       "      <td>2</td>\n",
       "      <td>2</td>\n",
       "      <td>Tomatillo Red Chili Salsa Hot Black Beans Ric...</td>\n",
       "      <td>16.98</td>\n",
       "      <td>8.49</td>\n",
       "      <td>False</td>\n",
       "      <td>False</td>\n",
       "      <td>False</td>\n",
       "      <td>False</td>\n",
       "      <td>False</td>\n",
       "      <td>...</td>\n",
       "      <td>False</td>\n",
       "      <td>False</td>\n",
       "      <td>False</td>\n",
       "      <td>False</td>\n",
       "      <td>False</td>\n",
       "      <td>False</td>\n",
       "      <td>False</td>\n",
       "      <td>False</td>\n",
       "      <td>False</td>\n",
       "      <td>False</td>\n",
       "    </tr>\n",
       "  </tbody>\n",
       "</table>\n",
       "<p>5 rows × 52 columns</p>\n",
       "</div>"
      ],
      "text/plain": [
       "   order_id  quantity                                 choice_description  \\\n",
       "0         1         1                                                NaN   \n",
       "1         1         1                                        Clementine    \n",
       "2         1         1                                             Apple    \n",
       "3         1         1                                                NaN   \n",
       "4         2         2   Tomatillo Red Chili Salsa Hot Black Beans Ric...   \n",
       "\n",
       "   item_price  item_price_per  item_name_6 pack soft drink  \\\n",
       "0        2.39            2.39                        False   \n",
       "1        3.39            3.39                        False   \n",
       "2        3.39            3.39                        False   \n",
       "3        2.39            2.39                        False   \n",
       "4       16.98            8.49                        False   \n",
       "\n",
       "   item_name_barbacoa bowl  item_name_barbacoa burrito  \\\n",
       "0                    False                       False   \n",
       "1                    False                       False   \n",
       "2                    False                       False   \n",
       "3                    False                       False   \n",
       "4                    False                       False   \n",
       "\n",
       "   item_name_barbacoa crispy tacos  item_name_barbacoa salad bowl  ...  \\\n",
       "0                            False                          False  ...   \n",
       "1                            False                          False  ...   \n",
       "2                            False                          False  ...   \n",
       "3                            False                          False  ...   \n",
       "4                            False                          False  ...   \n",
       "\n",
       "   item_name_steak crispy tacos  item_name_steak salad  \\\n",
       "0                         False                  False   \n",
       "1                         False                  False   \n",
       "2                         False                  False   \n",
       "3                         False                  False   \n",
       "4                         False                  False   \n",
       "\n",
       "   item_name_steak salad bowl  item_name_steak soft tacos  \\\n",
       "0                       False                       False   \n",
       "1                       False                       False   \n",
       "2                       False                       False   \n",
       "3                       False                       False   \n",
       "4                       False                       False   \n",
       "\n",
       "   item_name_veggie bowl  item_name_veggie burrito  \\\n",
       "0                  False                     False   \n",
       "1                  False                     False   \n",
       "2                  False                     False   \n",
       "3                  False                     False   \n",
       "4                  False                     False   \n",
       "\n",
       "   item_name_veggie crispy tacos  item_name_veggie salad  \\\n",
       "0                          False                   False   \n",
       "1                          False                   False   \n",
       "2                          False                   False   \n",
       "3                          False                   False   \n",
       "4                          False                   False   \n",
       "\n",
       "   item_name_veggie salad bowl  item_name_veggie soft tacos  \n",
       "0                        False                        False  \n",
       "1                        False                        False  \n",
       "2                        False                        False  \n",
       "3                        False                        False  \n",
       "4                        False                        False  \n",
       "\n",
       "[5 rows x 52 columns]"
      ]
     },
     "execution_count": 20,
     "metadata": {},
     "output_type": "execute_result"
    }
   ],
   "source": [
    "df_encoded = pd.get_dummies(df, columns=['item_name'])\n",
    "df_encoded.head()"
   ]
  },
  {
   "cell_type": "markdown",
   "id": "e926ab17-05c4-4832-a56a-638ed6e24d8f",
   "metadata": {},
   "source": [
    "**1.Quantity of each item**"
   ]
  },
  {
   "cell_type": "code",
   "execution_count": 21,
   "id": "75a810f79038f5c2",
   "metadata": {
    "ExecuteTime": {
     "end_time": "2024-07-06T07:54:09.853876900Z",
     "start_time": "2024-07-06T07:54:09.843400200Z"
    },
    "collapsed": false,
    "jupyter": {
     "outputs_hidden": false
    }
   },
   "outputs": [
    {
     "data": {
      "text/html": [
       "<div>\n",
       "<style scoped>\n",
       "    .dataframe tbody tr th:only-of-type {\n",
       "        vertical-align: middle;\n",
       "    }\n",
       "\n",
       "    .dataframe tbody tr th {\n",
       "        vertical-align: top;\n",
       "    }\n",
       "\n",
       "    .dataframe thead th {\n",
       "        text-align: right;\n",
       "    }\n",
       "</style>\n",
       "<table border=\"1\" class=\"dataframe\">\n",
       "  <thead>\n",
       "    <tr style=\"text-align: right;\">\n",
       "      <th></th>\n",
       "      <th>order_id</th>\n",
       "      <th>quantity</th>\n",
       "      <th>choice_description</th>\n",
       "      <th>item_price</th>\n",
       "      <th>item_price_per</th>\n",
       "    </tr>\n",
       "    <tr>\n",
       "      <th>item_name</th>\n",
       "      <th></th>\n",
       "      <th></th>\n",
       "      <th></th>\n",
       "      <th></th>\n",
       "      <th></th>\n",
       "    </tr>\n",
       "  </thead>\n",
       "  <tbody>\n",
       "    <tr>\n",
       "      <th>6 pack soft drink</th>\n",
       "      <td>52322</td>\n",
       "      <td>55</td>\n",
       "      <td>Sprite  Diet Coke  Coke  Diet Coke  Diet Coke...</td>\n",
       "      <td>356.95</td>\n",
       "      <td>350.46</td>\n",
       "    </tr>\n",
       "    <tr>\n",
       "      <th>barbacoa bowl</th>\n",
       "      <td>53396</td>\n",
       "      <td>65</td>\n",
       "      <td>Roasted Chili Corn Salsa Fajita Vegetables Ri...</td>\n",
       "      <td>663.11</td>\n",
       "      <td>663.11</td>\n",
       "    </tr>\n",
       "    <tr>\n",
       "      <th>barbacoa burrito</th>\n",
       "      <td>72891</td>\n",
       "      <td>90</td>\n",
       "      <td>Fresh Tomato Salsa Mild Tomatillo Green Chili...</td>\n",
       "      <td>885.50</td>\n",
       "      <td>885.50</td>\n",
       "    </tr>\n",
       "    <tr>\n",
       "      <th>barbacoa crispy tacos</th>\n",
       "      <td>5613</td>\n",
       "      <td>12</td>\n",
       "      <td>Tomatillo Red Chili Salsa Rice Black Beans Ch...</td>\n",
       "      <td>120.21</td>\n",
       "      <td>110.96</td>\n",
       "    </tr>\n",
       "    <tr>\n",
       "      <th>barbacoa salad bowl</th>\n",
       "      <td>9132</td>\n",
       "      <td>9</td>\n",
       "      <td>Fresh Tomato Salsa Rice Fajita Vegetables Pin...</td>\n",
       "      <td>97.01</td>\n",
       "      <td>97.01</td>\n",
       "    </tr>\n",
       "  </tbody>\n",
       "</table>\n",
       "</div>"
      ],
      "text/plain": [
       "                       order_id  quantity  \\\n",
       "item_name                                   \n",
       "6 pack soft drink         52322        55   \n",
       "barbacoa bowl             53396        65   \n",
       "barbacoa burrito          72891        90   \n",
       "barbacoa crispy tacos      5613        12   \n",
       "barbacoa salad bowl        9132         9   \n",
       "\n",
       "                                                      choice_description  \\\n",
       "item_name                                                                  \n",
       "6 pack soft drink       Sprite  Diet Coke  Coke  Diet Coke  Diet Coke...   \n",
       "barbacoa bowl           Roasted Chili Corn Salsa Fajita Vegetables Ri...   \n",
       "barbacoa burrito        Fresh Tomato Salsa Mild Tomatillo Green Chili...   \n",
       "barbacoa crispy tacos   Tomatillo Red Chili Salsa Rice Black Beans Ch...   \n",
       "barbacoa salad bowl     Fresh Tomato Salsa Rice Fajita Vegetables Pin...   \n",
       "\n",
       "                       item_price  item_price_per  \n",
       "item_name                                          \n",
       "6 pack soft drink          356.95          350.46  \n",
       "barbacoa bowl              663.11          663.11  \n",
       "barbacoa burrito           885.50          885.50  \n",
       "barbacoa crispy tacos      120.21          110.96  \n",
       "barbacoa salad bowl         97.01           97.01  "
      ]
     },
     "execution_count": 21,
     "metadata": {},
     "output_type": "execute_result"
    }
   ],
   "source": [
    "#Questions: \n",
    "#1.Quantity of each item\n",
    "df.groupby('item_name').sum().head()"
   ]
  },
  {
   "cell_type": "markdown",
   "id": "db570dba-f109-46cd-8674-2b58558770a7",
   "metadata": {},
   "source": [
    "**2 What was the most ordered item in the choice_description column?**"
   ]
  },
  {
   "cell_type": "code",
   "execution_count": 22,
   "id": "20b717f37e0c3c47",
   "metadata": {
    "ExecuteTime": {
     "end_time": "2024-07-06T07:54:10.468342300Z",
     "start_time": "2024-07-06T07:54:10.444586Z"
    },
    "collapsed": false,
    "jupyter": {
     "outputs_hidden": false
    }
   },
   "outputs": [
    {
     "data": {
      "text/plain": [
       "choice_description\n",
       " Diet Coke                                                                                                                       133\n",
       " Coke                                                                                                                            115\n",
       " Sprite                                                                                                                           77\n",
       " Fresh Tomato Salsa Rice Black Beans Cheese Sour Cream Lettuce                                                                    41\n",
       " Fresh Tomato Salsa Rice Black Beans Cheese Sour Cream Guacamole Lettuce                                                          38\n",
       "                                                                                                                                ... \n",
       " Tomatillo Green Chili Salsa Sour Cream Cheese Guacamole Rice Fajita Vegetables                                                    1\n",
       " Fresh Tomato Salsa Mild Pinto Beans Black Beans Rice Cheese Sour Cream Lettuce                                                    1\n",
       " Fresh Tomato Salsa Mild Roasted Chili Corn Salsa Medium Tomatillo Red Chili Salsa Hot Pinto Beans Cheese Sour Cream Lettuce       1\n",
       " Fresh Tomato Mild Guacamole Rice Black Beans                                                                                      1\n",
       " Tomatillo Green Chili Salsa Rice Fajita Vegetables Black Beans Guacamole                                                          1\n",
       "Name: count, Length: 1043, dtype: int64"
      ]
     },
     "execution_count": 22,
     "metadata": {},
     "output_type": "execute_result"
    }
   ],
   "source": [
    "#2 What was the most ordered item in the choice_description column?\n",
    "df['choice_description'].value_counts()"
   ]
  },
  {
   "cell_type": "code",
   "execution_count": 23,
   "id": "6d63ef48-1ab2-4504-8bf6-33fdadd809ea",
   "metadata": {},
   "outputs": [
    {
     "data": {
      "text/html": [
       "<div>\n",
       "<style scoped>\n",
       "    .dataframe tbody tr th:only-of-type {\n",
       "        vertical-align: middle;\n",
       "    }\n",
       "\n",
       "    .dataframe tbody tr th {\n",
       "        vertical-align: top;\n",
       "    }\n",
       "\n",
       "    .dataframe thead th {\n",
       "        text-align: right;\n",
       "    }\n",
       "</style>\n",
       "<table border=\"1\" class=\"dataframe\">\n",
       "  <thead>\n",
       "    <tr style=\"text-align: right;\">\n",
       "      <th></th>\n",
       "      <th>order_id</th>\n",
       "      <th>quantity</th>\n",
       "      <th>item_name</th>\n",
       "      <th>choice_description</th>\n",
       "      <th>item_price</th>\n",
       "      <th>item_price_per</th>\n",
       "    </tr>\n",
       "  </thead>\n",
       "  <tbody>\n",
       "    <tr>\n",
       "      <th>0</th>\n",
       "      <td>1</td>\n",
       "      <td>1</td>\n",
       "      <td>chips and fresh tomato salsa</td>\n",
       "      <td>NaN</td>\n",
       "      <td>2.39</td>\n",
       "      <td>2.39</td>\n",
       "    </tr>\n",
       "    <tr>\n",
       "      <th>1</th>\n",
       "      <td>1</td>\n",
       "      <td>1</td>\n",
       "      <td>izze</td>\n",
       "      <td>Clementine</td>\n",
       "      <td>3.39</td>\n",
       "      <td>3.39</td>\n",
       "    </tr>\n",
       "    <tr>\n",
       "      <th>2</th>\n",
       "      <td>1</td>\n",
       "      <td>1</td>\n",
       "      <td>nantucket nectar</td>\n",
       "      <td>Apple</td>\n",
       "      <td>3.39</td>\n",
       "      <td>3.39</td>\n",
       "    </tr>\n",
       "    <tr>\n",
       "      <th>3</th>\n",
       "      <td>1</td>\n",
       "      <td>1</td>\n",
       "      <td>chips and tomatillo green chili salsa</td>\n",
       "      <td>NaN</td>\n",
       "      <td>2.39</td>\n",
       "      <td>2.39</td>\n",
       "    </tr>\n",
       "    <tr>\n",
       "      <th>4</th>\n",
       "      <td>2</td>\n",
       "      <td>2</td>\n",
       "      <td>chicken bowl</td>\n",
       "      <td>Tomatillo Red Chili Salsa Hot Black Beans Ric...</td>\n",
       "      <td>16.98</td>\n",
       "      <td>8.49</td>\n",
       "    </tr>\n",
       "    <tr>\n",
       "      <th>...</th>\n",
       "      <td>...</td>\n",
       "      <td>...</td>\n",
       "      <td>...</td>\n",
       "      <td>...</td>\n",
       "      <td>...</td>\n",
       "      <td>...</td>\n",
       "    </tr>\n",
       "    <tr>\n",
       "      <th>4617</th>\n",
       "      <td>1833</td>\n",
       "      <td>1</td>\n",
       "      <td>steak burrito</td>\n",
       "      <td>Fresh Tomato Salsa Rice Black Beans Sour Crea...</td>\n",
       "      <td>11.75</td>\n",
       "      <td>11.75</td>\n",
       "    </tr>\n",
       "    <tr>\n",
       "      <th>4618</th>\n",
       "      <td>1833</td>\n",
       "      <td>1</td>\n",
       "      <td>steak burrito</td>\n",
       "      <td>Fresh Tomato Salsa Rice Sour Cream Cheese Let...</td>\n",
       "      <td>11.75</td>\n",
       "      <td>11.75</td>\n",
       "    </tr>\n",
       "    <tr>\n",
       "      <th>4619</th>\n",
       "      <td>1834</td>\n",
       "      <td>1</td>\n",
       "      <td>chicken salad bowl</td>\n",
       "      <td>Fresh Tomato Salsa Fajita Vegetables Pinto Be...</td>\n",
       "      <td>11.25</td>\n",
       "      <td>11.25</td>\n",
       "    </tr>\n",
       "    <tr>\n",
       "      <th>4620</th>\n",
       "      <td>1834</td>\n",
       "      <td>1</td>\n",
       "      <td>chicken salad bowl</td>\n",
       "      <td>Fresh Tomato Salsa Fajita Vegetables Lettuce</td>\n",
       "      <td>8.75</td>\n",
       "      <td>8.75</td>\n",
       "    </tr>\n",
       "    <tr>\n",
       "      <th>4621</th>\n",
       "      <td>1834</td>\n",
       "      <td>1</td>\n",
       "      <td>chicken salad bowl</td>\n",
       "      <td>Fresh Tomato Salsa Fajita Vegetables Pinto Be...</td>\n",
       "      <td>8.75</td>\n",
       "      <td>8.75</td>\n",
       "    </tr>\n",
       "  </tbody>\n",
       "</table>\n",
       "<p>4563 rows × 6 columns</p>\n",
       "</div>"
      ],
      "text/plain": [
       "      order_id  quantity                              item_name  \\\n",
       "0            1         1           chips and fresh tomato salsa   \n",
       "1            1         1                                   izze   \n",
       "2            1         1                       nantucket nectar   \n",
       "3            1         1  chips and tomatillo green chili salsa   \n",
       "4            2         2                           chicken bowl   \n",
       "...        ...       ...                                    ...   \n",
       "4617      1833         1                          steak burrito   \n",
       "4618      1833         1                          steak burrito   \n",
       "4619      1834         1                     chicken salad bowl   \n",
       "4620      1834         1                     chicken salad bowl   \n",
       "4621      1834         1                     chicken salad bowl   \n",
       "\n",
       "                                     choice_description  item_price  \\\n",
       "0                                                   NaN        2.39   \n",
       "1                                           Clementine         3.39   \n",
       "2                                                Apple         3.39   \n",
       "3                                                   NaN        2.39   \n",
       "4      Tomatillo Red Chili Salsa Hot Black Beans Ric...       16.98   \n",
       "...                                                 ...         ...   \n",
       "4617   Fresh Tomato Salsa Rice Black Beans Sour Crea...       11.75   \n",
       "4618   Fresh Tomato Salsa Rice Sour Cream Cheese Let...       11.75   \n",
       "4619   Fresh Tomato Salsa Fajita Vegetables Pinto Be...       11.25   \n",
       "4620      Fresh Tomato Salsa Fajita Vegetables Lettuce         8.75   \n",
       "4621   Fresh Tomato Salsa Fajita Vegetables Pinto Be...        8.75   \n",
       "\n",
       "      item_price_per  \n",
       "0               2.39  \n",
       "1               3.39  \n",
       "2               3.39  \n",
       "3               2.39  \n",
       "4               8.49  \n",
       "...              ...  \n",
       "4617           11.75  \n",
       "4618           11.75  \n",
       "4619           11.25  \n",
       "4620            8.75  \n",
       "4621            8.75  \n",
       "\n",
       "[4563 rows x 6 columns]"
      ]
     },
     "execution_count": 23,
     "metadata": {},
     "output_type": "execute_result"
    }
   ],
   "source": [
    "df"
   ]
  },
  {
   "cell_type": "code",
   "execution_count": 24,
   "id": "93693500-7139-4d9d-92aa-c680c601129a",
   "metadata": {},
   "outputs": [
    {
     "data": {
      "text/html": [
       "<div>\n",
       "<style scoped>\n",
       "    .dataframe tbody tr th:only-of-type {\n",
       "        vertical-align: middle;\n",
       "    }\n",
       "\n",
       "    .dataframe tbody tr th {\n",
       "        vertical-align: top;\n",
       "    }\n",
       "\n",
       "    .dataframe thead th {\n",
       "        text-align: right;\n",
       "    }\n",
       "</style>\n",
       "<table border=\"1\" class=\"dataframe\">\n",
       "  <thead>\n",
       "    <tr style=\"text-align: right;\">\n",
       "      <th></th>\n",
       "      <th>order_id</th>\n",
       "      <th>quantity</th>\n",
       "      <th>item_name</th>\n",
       "      <th>choice_description</th>\n",
       "      <th>item_price</th>\n",
       "      <th>item_price_per</th>\n",
       "      <th>revenue</th>\n",
       "    </tr>\n",
       "  </thead>\n",
       "  <tbody>\n",
       "    <tr>\n",
       "      <th>0</th>\n",
       "      <td>1</td>\n",
       "      <td>1</td>\n",
       "      <td>chips and fresh tomato salsa</td>\n",
       "      <td>NaN</td>\n",
       "      <td>2.39</td>\n",
       "      <td>2.39</td>\n",
       "      <td>2.39</td>\n",
       "    </tr>\n",
       "    <tr>\n",
       "      <th>1</th>\n",
       "      <td>1</td>\n",
       "      <td>1</td>\n",
       "      <td>izze</td>\n",
       "      <td>Clementine</td>\n",
       "      <td>3.39</td>\n",
       "      <td>3.39</td>\n",
       "      <td>3.39</td>\n",
       "    </tr>\n",
       "    <tr>\n",
       "      <th>2</th>\n",
       "      <td>1</td>\n",
       "      <td>1</td>\n",
       "      <td>nantucket nectar</td>\n",
       "      <td>Apple</td>\n",
       "      <td>3.39</td>\n",
       "      <td>3.39</td>\n",
       "      <td>3.39</td>\n",
       "    </tr>\n",
       "    <tr>\n",
       "      <th>3</th>\n",
       "      <td>1</td>\n",
       "      <td>1</td>\n",
       "      <td>chips and tomatillo green chili salsa</td>\n",
       "      <td>NaN</td>\n",
       "      <td>2.39</td>\n",
       "      <td>2.39</td>\n",
       "      <td>2.39</td>\n",
       "    </tr>\n",
       "    <tr>\n",
       "      <th>4</th>\n",
       "      <td>2</td>\n",
       "      <td>2</td>\n",
       "      <td>chicken bowl</td>\n",
       "      <td>Tomatillo Red Chili Salsa Hot Black Beans Ric...</td>\n",
       "      <td>16.98</td>\n",
       "      <td>8.49</td>\n",
       "      <td>33.96</td>\n",
       "    </tr>\n",
       "    <tr>\n",
       "      <th>...</th>\n",
       "      <td>...</td>\n",
       "      <td>...</td>\n",
       "      <td>...</td>\n",
       "      <td>...</td>\n",
       "      <td>...</td>\n",
       "      <td>...</td>\n",
       "      <td>...</td>\n",
       "    </tr>\n",
       "    <tr>\n",
       "      <th>4617</th>\n",
       "      <td>1833</td>\n",
       "      <td>1</td>\n",
       "      <td>steak burrito</td>\n",
       "      <td>Fresh Tomato Salsa Rice Black Beans Sour Crea...</td>\n",
       "      <td>11.75</td>\n",
       "      <td>11.75</td>\n",
       "      <td>11.75</td>\n",
       "    </tr>\n",
       "    <tr>\n",
       "      <th>4618</th>\n",
       "      <td>1833</td>\n",
       "      <td>1</td>\n",
       "      <td>steak burrito</td>\n",
       "      <td>Fresh Tomato Salsa Rice Sour Cream Cheese Let...</td>\n",
       "      <td>11.75</td>\n",
       "      <td>11.75</td>\n",
       "      <td>11.75</td>\n",
       "    </tr>\n",
       "    <tr>\n",
       "      <th>4619</th>\n",
       "      <td>1834</td>\n",
       "      <td>1</td>\n",
       "      <td>chicken salad bowl</td>\n",
       "      <td>Fresh Tomato Salsa Fajita Vegetables Pinto Be...</td>\n",
       "      <td>11.25</td>\n",
       "      <td>11.25</td>\n",
       "      <td>11.25</td>\n",
       "    </tr>\n",
       "    <tr>\n",
       "      <th>4620</th>\n",
       "      <td>1834</td>\n",
       "      <td>1</td>\n",
       "      <td>chicken salad bowl</td>\n",
       "      <td>Fresh Tomato Salsa Fajita Vegetables Lettuce</td>\n",
       "      <td>8.75</td>\n",
       "      <td>8.75</td>\n",
       "      <td>8.75</td>\n",
       "    </tr>\n",
       "    <tr>\n",
       "      <th>4621</th>\n",
       "      <td>1834</td>\n",
       "      <td>1</td>\n",
       "      <td>chicken salad bowl</td>\n",
       "      <td>Fresh Tomato Salsa Fajita Vegetables Pinto Be...</td>\n",
       "      <td>8.75</td>\n",
       "      <td>8.75</td>\n",
       "      <td>8.75</td>\n",
       "    </tr>\n",
       "  </tbody>\n",
       "</table>\n",
       "<p>4563 rows × 7 columns</p>\n",
       "</div>"
      ],
      "text/plain": [
       "      order_id  quantity                              item_name  \\\n",
       "0            1         1           chips and fresh tomato salsa   \n",
       "1            1         1                                   izze   \n",
       "2            1         1                       nantucket nectar   \n",
       "3            1         1  chips and tomatillo green chili salsa   \n",
       "4            2         2                           chicken bowl   \n",
       "...        ...       ...                                    ...   \n",
       "4617      1833         1                          steak burrito   \n",
       "4618      1833         1                          steak burrito   \n",
       "4619      1834         1                     chicken salad bowl   \n",
       "4620      1834         1                     chicken salad bowl   \n",
       "4621      1834         1                     chicken salad bowl   \n",
       "\n",
       "                                     choice_description  item_price  \\\n",
       "0                                                   NaN        2.39   \n",
       "1                                           Clementine         3.39   \n",
       "2                                                Apple         3.39   \n",
       "3                                                   NaN        2.39   \n",
       "4      Tomatillo Red Chili Salsa Hot Black Beans Ric...       16.98   \n",
       "...                                                 ...         ...   \n",
       "4617   Fresh Tomato Salsa Rice Black Beans Sour Crea...       11.75   \n",
       "4618   Fresh Tomato Salsa Rice Sour Cream Cheese Let...       11.75   \n",
       "4619   Fresh Tomato Salsa Fajita Vegetables Pinto Be...       11.25   \n",
       "4620      Fresh Tomato Salsa Fajita Vegetables Lettuce         8.75   \n",
       "4621   Fresh Tomato Salsa Fajita Vegetables Pinto Be...        8.75   \n",
       "\n",
       "      item_price_per  revenue  \n",
       "0               2.39     2.39  \n",
       "1               3.39     3.39  \n",
       "2               3.39     3.39  \n",
       "3               2.39     2.39  \n",
       "4               8.49    33.96  \n",
       "...              ...      ...  \n",
       "4617           11.75    11.75  \n",
       "4618           11.75    11.75  \n",
       "4619           11.25    11.25  \n",
       "4620            8.75     8.75  \n",
       "4621            8.75     8.75  \n",
       "\n",
       "[4563 rows x 7 columns]"
      ]
     },
     "execution_count": 24,
     "metadata": {},
     "output_type": "execute_result"
    }
   ],
   "source": [
    "df['revenue'] = df['quantity']*df['item_price']\n",
    "df"
   ]
  },
  {
   "cell_type": "code",
   "execution_count": 25,
   "id": "bdd3c042ea4a2a0f",
   "metadata": {
    "ExecuteTime": {
     "end_time": "2024-07-06T07:54:11.174096800Z",
     "start_time": "2024-07-06T07:54:11.160105800Z"
    },
    "collapsed": false,
    "jupyter": {
     "outputs_hidden": false
    }
   },
   "outputs": [
    {
     "data": {
      "text/plain": [
       "4913"
      ]
     },
     "execution_count": 25,
     "metadata": {},
     "output_type": "execute_result"
    }
   ],
   "source": [
    "df['quantity'].sum()"
   ]
  },
  {
   "cell_type": "markdown",
   "id": "5741df80-db3a-4301-9230-49bc39de3515",
   "metadata": {},
   "source": [
    "**3.How much was the revenue for the period in the dataset?**"
   ]
  },
  {
   "cell_type": "code",
   "execution_count": 26,
   "id": "300b4cf578cc0c0c",
   "metadata": {
    "ExecuteTime": {
     "end_time": "2024-07-06T07:54:11.861757800Z",
     "start_time": "2024-07-06T07:54:11.856466300Z"
    },
    "collapsed": false,
    "jupyter": {
     "outputs_hidden": false
    }
   },
   "outputs": [
    {
     "name": "stdout",
     "output_type": "stream",
     "text": [
      "Total revenue for the period in the dataset $ 38914.11\n"
     ]
    }
   ],
   "source": [
    "# 3.How much was the revenue for the period in the dataset?\n",
    "X = df['revenue'].sum()\n",
    "print(\"Total revenue for the period in the dataset $\",X)"
   ]
  },
  {
   "cell_type": "markdown",
   "id": "16cf6fd8-7ff1-4b17-a466-258f5d022c0e",
   "metadata": {},
   "source": [
    "**4.How many orders were made in the period?**"
   ]
  },
  {
   "cell_type": "code",
   "execution_count": 27,
   "id": "59876e9c3e482f4f",
   "metadata": {
    "ExecuteTime": {
     "end_time": "2024-07-06T07:54:12.468989700Z",
     "start_time": "2024-07-06T07:54:12.461024600Z"
    },
    "collapsed": false,
    "jupyter": {
     "outputs_hidden": false
    }
   },
   "outputs": [
    {
     "name": "stdout",
     "output_type": "stream",
     "text": [
      "Total Orders:  1834\n"
     ]
    }
   ],
   "source": [
    "# 4.How many orders were made in the period?\n",
    "total_orders = df['order_id'].nunique()\n",
    "print(\"Total Orders: \", total_orders)"
   ]
  },
  {
   "cell_type": "markdown",
   "id": "f58999ce-e946-40e7-9444-c519596344a6",
   "metadata": {},
   "source": [
    "**5. What is the average revenue amount per order?**"
   ]
  },
  {
   "cell_type": "code",
   "execution_count": 28,
   "id": "89984ab183e9cf94",
   "metadata": {
    "ExecuteTime": {
     "end_time": "2024-07-06T07:54:14.005006300Z",
     "start_time": "2024-07-06T07:54:13.994670700Z"
    },
    "collapsed": false,
    "jupyter": {
     "outputs_hidden": false
    }
   },
   "outputs": [
    {
     "name": "stdout",
     "output_type": "stream",
     "text": [
      "Average revenue per Order:  21.218162486368595\n"
     ]
    }
   ],
   "source": [
    "# 5. What is the average revenue amount per order?\n",
    "Avg_revenue = X / total_orders\n",
    "print(\"Average revenue per Order: \", Avg_revenue)"
   ]
  },
  {
   "cell_type": "markdown",
   "id": "365cf30b-3f60-486a-945f-225729761f4e",
   "metadata": {},
   "source": [
    "**How many different items are sold?**"
   ]
  },
  {
   "cell_type": "code",
   "execution_count": 29,
   "id": "ef0f0052e9719ad8",
   "metadata": {
    "ExecuteTime": {
     "end_time": "2024-07-06T07:49:43.125290800Z",
     "start_time": "2024-07-06T07:49:43.111924800Z"
    },
    "collapsed": false,
    "jupyter": {
     "outputs_hidden": false
    }
   },
   "outputs": [
    {
     "name": "stdout",
     "output_type": "stream",
     "text": [
      "Total Items:  47\n"
     ]
    }
   ],
   "source": [
    "Item_nunique = df['item_name'].nunique()\n",
    "print(\"Total Items: \", Item_nunique)"
   ]
  },
  {
   "cell_type": "code",
   "execution_count": null,
   "id": "bf955a43-c958-434d-8479-edaf8767a3cf",
   "metadata": {},
   "outputs": [],
   "source": []
  }
 ],
 "metadata": {
  "kernelspec": {
   "display_name": "Python 3 (ipykernel)",
   "language": "python",
   "name": "python3"
  },
  "language_info": {
   "codemirror_mode": {
    "name": "ipython",
    "version": 3
   },
   "file_extension": ".py",
   "mimetype": "text/x-python",
   "name": "python",
   "nbconvert_exporter": "python",
   "pygments_lexer": "ipython3",
   "version": "3.11.4"
  }
 },
 "nbformat": 4,
 "nbformat_minor": 5
}
