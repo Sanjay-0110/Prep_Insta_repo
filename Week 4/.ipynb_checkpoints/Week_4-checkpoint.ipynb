{
 "cells": [
  {
   "cell_type": "markdown",
   "source": [
    "# Importing Requires Libraries "
   ],
   "metadata": {
    "collapsed": false
   },
   "id": "8665db9a2ce190a4"
  },
  {
   "cell_type": "code",
   "outputs": [],
   "source": [
    "import numpy as np \n",
    "import pandas as pd\n",
    "import matplotlib.pyplot as plt\n",
    "import seaborn as sns"
   ],
   "metadata": {
    "collapsed": false,
    "ExecuteTime": {
     "end_time": "2024-07-11T13:38:17.051294100Z",
     "start_time": "2024-07-11T13:38:17.003620800Z"
    }
   },
   "id": "fcfcf80438c4e7ee",
   "execution_count": 132
  },
  {
   "cell_type": "markdown",
   "source": [
    "# Loading the Dataset"
   ],
   "metadata": {
    "collapsed": false
   },
   "id": "1917ab4bec8f1176"
  },
  {
   "cell_type": "code",
   "outputs": [],
   "source": [
    "country_population = pd.read_csv(\"Dataset/country_population.csv\")\n",
    "fertility_rate = pd.read_csv(\"Dataset/fertility_rate.csv\")\n",
    "life_expectancy = pd.read_csv(\"Dataset/life_expectancy.csv\")\n",
    "metadata = pd.read_csv(\"Dataset/metadata_Country.csv\")"
   ],
   "metadata": {
    "collapsed": false,
    "ExecuteTime": {
     "end_time": "2024-07-11T13:38:21.868642500Z",
     "start_time": "2024-07-11T13:38:21.830394500Z"
    }
   },
   "id": "4ba018f4d8a3d0d2",
   "execution_count": 133
  },
  {
   "cell_type": "markdown",
   "source": [
    "# Data Preprocessing"
   ],
   "metadata": {
    "collapsed": false
   },
   "id": "63e2f92c619a9140"
  },
  {
   "cell_type": "code",
   "outputs": [
    {
     "name": "stdout",
     "output_type": "stream",
     "text": [
      "(264, 61)\n",
      "(264, 61)\n",
      "(264, 61)\n",
      "(263, 6)\n"
     ]
    }
   ],
   "source": [
    "print(country_population.shape)\n",
    "print(fertility_rate.shape)\n",
    "print(life_expectancy.shape)\n",
    "print(metadata.shape)"
   ],
   "metadata": {
    "collapsed": false,
    "ExecuteTime": {
     "end_time": "2024-07-11T13:38:25.398717900Z",
     "start_time": "2024-07-11T13:38:25.350063200Z"
    }
   },
   "id": "2c0cd478f9cfcbc7",
   "execution_count": 134
  },
  {
   "cell_type": "code",
   "outputs": [
    {
     "data": {
      "text/plain": "  Country Name Country Code     Indicator Name Indicator Code       1960  \\\n0        Aruba          ABW  Population, total    SP.POP.TOTL    54211.0   \n1  Afghanistan          AFG  Population, total    SP.POP.TOTL  8996351.0   \n2       Angola          AGO  Population, total    SP.POP.TOTL  5643182.0   \n3      Albania          ALB  Population, total    SP.POP.TOTL  1608800.0   \n4      Andorra          AND  Population, total    SP.POP.TOTL    13411.0   \n\n        1961       1962       1963       1964       1965  ...        2007  \\\n0    55438.0    56225.0    56695.0    57032.0    57360.0  ...    101220.0   \n1  9166764.0  9345868.0  9533954.0  9731361.0  9938414.0  ...  26616792.0   \n2  5753024.0  5866061.0  5980417.0  6093321.0  6203299.0  ...  20997687.0   \n3  1659800.0  1711319.0  1762621.0  1814135.0  1864791.0  ...   2970017.0   \n4    14375.0    15370.0    16412.0    17469.0    18549.0  ...     82683.0   \n\n         2008        2009        2010        2011        2012        2013  \\\n0    101353.0    101453.0    101669.0    102053.0    102577.0    103187.0   \n1  27294031.0  28004331.0  28803167.0  29708599.0  30696958.0  31731688.0   \n2  21759420.0  22549547.0  23369131.0  24218565.0  25096150.0  25998340.0   \n3   2947314.0   2927519.0   2913021.0   2905195.0   2900401.0   2895092.0   \n4     83861.0     84462.0     84449.0     83751.0     82431.0     80788.0   \n\n         2014        2015        2016  \n0    103795.0    104341.0    104822.0  \n1  32758020.0  33736494.0  34656032.0  \n2  26920466.0  27859305.0  28813463.0  \n3   2889104.0   2880703.0   2876101.0  \n4     79223.0     78014.0     77281.0  \n\n[5 rows x 61 columns]",
      "text/html": "<div>\n<style scoped>\n    .dataframe tbody tr th:only-of-type {\n        vertical-align: middle;\n    }\n\n    .dataframe tbody tr th {\n        vertical-align: top;\n    }\n\n    .dataframe thead th {\n        text-align: right;\n    }\n</style>\n<table border=\"1\" class=\"dataframe\">\n  <thead>\n    <tr style=\"text-align: right;\">\n      <th></th>\n      <th>Country Name</th>\n      <th>Country Code</th>\n      <th>Indicator Name</th>\n      <th>Indicator Code</th>\n      <th>1960</th>\n      <th>1961</th>\n      <th>1962</th>\n      <th>1963</th>\n      <th>1964</th>\n      <th>1965</th>\n      <th>...</th>\n      <th>2007</th>\n      <th>2008</th>\n      <th>2009</th>\n      <th>2010</th>\n      <th>2011</th>\n      <th>2012</th>\n      <th>2013</th>\n      <th>2014</th>\n      <th>2015</th>\n      <th>2016</th>\n    </tr>\n  </thead>\n  <tbody>\n    <tr>\n      <th>0</th>\n      <td>Aruba</td>\n      <td>ABW</td>\n      <td>Population, total</td>\n      <td>SP.POP.TOTL</td>\n      <td>54211.0</td>\n      <td>55438.0</td>\n      <td>56225.0</td>\n      <td>56695.0</td>\n      <td>57032.0</td>\n      <td>57360.0</td>\n      <td>...</td>\n      <td>101220.0</td>\n      <td>101353.0</td>\n      <td>101453.0</td>\n      <td>101669.0</td>\n      <td>102053.0</td>\n      <td>102577.0</td>\n      <td>103187.0</td>\n      <td>103795.0</td>\n      <td>104341.0</td>\n      <td>104822.0</td>\n    </tr>\n    <tr>\n      <th>1</th>\n      <td>Afghanistan</td>\n      <td>AFG</td>\n      <td>Population, total</td>\n      <td>SP.POP.TOTL</td>\n      <td>8996351.0</td>\n      <td>9166764.0</td>\n      <td>9345868.0</td>\n      <td>9533954.0</td>\n      <td>9731361.0</td>\n      <td>9938414.0</td>\n      <td>...</td>\n      <td>26616792.0</td>\n      <td>27294031.0</td>\n      <td>28004331.0</td>\n      <td>28803167.0</td>\n      <td>29708599.0</td>\n      <td>30696958.0</td>\n      <td>31731688.0</td>\n      <td>32758020.0</td>\n      <td>33736494.0</td>\n      <td>34656032.0</td>\n    </tr>\n    <tr>\n      <th>2</th>\n      <td>Angola</td>\n      <td>AGO</td>\n      <td>Population, total</td>\n      <td>SP.POP.TOTL</td>\n      <td>5643182.0</td>\n      <td>5753024.0</td>\n      <td>5866061.0</td>\n      <td>5980417.0</td>\n      <td>6093321.0</td>\n      <td>6203299.0</td>\n      <td>...</td>\n      <td>20997687.0</td>\n      <td>21759420.0</td>\n      <td>22549547.0</td>\n      <td>23369131.0</td>\n      <td>24218565.0</td>\n      <td>25096150.0</td>\n      <td>25998340.0</td>\n      <td>26920466.0</td>\n      <td>27859305.0</td>\n      <td>28813463.0</td>\n    </tr>\n    <tr>\n      <th>3</th>\n      <td>Albania</td>\n      <td>ALB</td>\n      <td>Population, total</td>\n      <td>SP.POP.TOTL</td>\n      <td>1608800.0</td>\n      <td>1659800.0</td>\n      <td>1711319.0</td>\n      <td>1762621.0</td>\n      <td>1814135.0</td>\n      <td>1864791.0</td>\n      <td>...</td>\n      <td>2970017.0</td>\n      <td>2947314.0</td>\n      <td>2927519.0</td>\n      <td>2913021.0</td>\n      <td>2905195.0</td>\n      <td>2900401.0</td>\n      <td>2895092.0</td>\n      <td>2889104.0</td>\n      <td>2880703.0</td>\n      <td>2876101.0</td>\n    </tr>\n    <tr>\n      <th>4</th>\n      <td>Andorra</td>\n      <td>AND</td>\n      <td>Population, total</td>\n      <td>SP.POP.TOTL</td>\n      <td>13411.0</td>\n      <td>14375.0</td>\n      <td>15370.0</td>\n      <td>16412.0</td>\n      <td>17469.0</td>\n      <td>18549.0</td>\n      <td>...</td>\n      <td>82683.0</td>\n      <td>83861.0</td>\n      <td>84462.0</td>\n      <td>84449.0</td>\n      <td>83751.0</td>\n      <td>82431.0</td>\n      <td>80788.0</td>\n      <td>79223.0</td>\n      <td>78014.0</td>\n      <td>77281.0</td>\n    </tr>\n  </tbody>\n</table>\n<p>5 rows × 61 columns</p>\n</div>"
     },
     "execution_count": 135,
     "metadata": {},
     "output_type": "execute_result"
    }
   ],
   "source": [
    "country_population.head()"
   ],
   "metadata": {
    "collapsed": false,
    "ExecuteTime": {
     "end_time": "2024-07-11T13:38:31.168233800Z",
     "start_time": "2024-07-11T13:38:31.150120100Z"
    }
   },
   "id": "c6d0b1e522a9b939",
   "execution_count": 135
  },
  {
   "cell_type": "code",
   "outputs": [
    {
     "name": "stdout",
     "output_type": "stream",
     "text": [
      "<class 'pandas.core.frame.DataFrame'>\n",
      "RangeIndex: 264 entries, 0 to 263\n",
      "Data columns (total 61 columns):\n",
      " #   Column          Non-Null Count  Dtype  \n",
      "---  ------          --------------  -----  \n",
      " 0   Country Name    264 non-null    object \n",
      " 1   Country Code    264 non-null    object \n",
      " 2   Indicator Name  264 non-null    object \n",
      " 3   Indicator Code  264 non-null    object \n",
      " 4   1960            260 non-null    float64\n",
      " 5   1961            260 non-null    float64\n",
      " 6   1962            260 non-null    float64\n",
      " 7   1963            260 non-null    float64\n",
      " 8   1964            260 non-null    float64\n",
      " 9   1965            260 non-null    float64\n",
      " 10  1966            260 non-null    float64\n",
      " 11  1967            260 non-null    float64\n",
      " 12  1968            260 non-null    float64\n",
      " 13  1969            260 non-null    float64\n",
      " 14  1970            260 non-null    float64\n",
      " 15  1971            260 non-null    float64\n",
      " 16  1972            260 non-null    float64\n",
      " 17  1973            260 non-null    float64\n",
      " 18  1974            260 non-null    float64\n",
      " 19  1975            260 non-null    float64\n",
      " 20  1976            260 non-null    float64\n",
      " 21  1977            260 non-null    float64\n",
      " 22  1978            260 non-null    float64\n",
      " 23  1979            260 non-null    float64\n",
      " 24  1980            260 non-null    float64\n",
      " 25  1981            260 non-null    float64\n",
      " 26  1982            260 non-null    float64\n",
      " 27  1983            260 non-null    float64\n",
      " 28  1984            260 non-null    float64\n",
      " 29  1985            260 non-null    float64\n",
      " 30  1986            260 non-null    float64\n",
      " 31  1987            260 non-null    float64\n",
      " 32  1988            260 non-null    float64\n",
      " 33  1989            260 non-null    float64\n",
      " 34  1990            262 non-null    float64\n",
      " 35  1991            262 non-null    float64\n",
      " 36  1992            261 non-null    float64\n",
      " 37  1993            261 non-null    float64\n",
      " 38  1994            261 non-null    float64\n",
      " 39  1995            262 non-null    float64\n",
      " 40  1996            262 non-null    float64\n",
      " 41  1997            262 non-null    float64\n",
      " 42  1998            263 non-null    float64\n",
      " 43  1999            263 non-null    float64\n",
      " 44  2000            263 non-null    float64\n",
      " 45  2001            263 non-null    float64\n",
      " 46  2002            263 non-null    float64\n",
      " 47  2003            263 non-null    float64\n",
      " 48  2004            263 non-null    float64\n",
      " 49  2005            263 non-null    float64\n",
      " 50  2006            263 non-null    float64\n",
      " 51  2007            263 non-null    float64\n",
      " 52  2008            263 non-null    float64\n",
      " 53  2009            263 non-null    float64\n",
      " 54  2010            263 non-null    float64\n",
      " 55  2011            263 non-null    float64\n",
      " 56  2012            262 non-null    float64\n",
      " 57  2013            262 non-null    float64\n",
      " 58  2014            262 non-null    float64\n",
      " 59  2015            262 non-null    float64\n",
      " 60  2016            262 non-null    float64\n",
      "dtypes: float64(57), object(4)\n",
      "memory usage: 125.9+ KB\n"
     ]
    }
   ],
   "source": [
    "country_population.info()"
   ],
   "metadata": {
    "collapsed": false,
    "ExecuteTime": {
     "end_time": "2024-07-11T13:38:31.669672100Z",
     "start_time": "2024-07-11T13:38:31.615194300Z"
    }
   },
   "id": "c8a6ed7834eeabba",
   "execution_count": 136
  },
  {
   "cell_type": "code",
   "outputs": [
    {
     "data": {
      "text/plain": "  Country Name Country Code                            Indicator Name  \\\n0        Aruba          ABW  Fertility rate, total (births per woman)   \n1  Afghanistan          AFG  Fertility rate, total (births per woman)   \n2       Angola          AGO  Fertility rate, total (births per woman)   \n3      Albania          ALB  Fertility rate, total (births per woman)   \n4      Andorra          AND  Fertility rate, total (births per woman)   \n\n   Indicator Code   1960   1961   1962   1963   1964   1965  ...   2007  \\\n0  SP.DYN.TFRT.IN  4.820  4.655  4.471  4.271  4.059  3.842  ...  1.763   \n1  SP.DYN.TFRT.IN  7.450  7.450  7.450  7.450  7.450  7.450  ...  6.460   \n2  SP.DYN.TFRT.IN  7.478  7.524  7.563  7.592  7.611  7.619  ...  6.368   \n3  SP.DYN.TFRT.IN  6.489  6.401  6.282  6.133  5.960  5.773  ...  1.668   \n4  SP.DYN.TFRT.IN    NaN    NaN    NaN    NaN    NaN    NaN  ...  1.180   \n\n    2008   2009   2010   2011   2012   2013   2014   2015   2016  \n0  1.764  1.769  1.776  1.783  1.791  1.796  1.800  1.801  1.800  \n1  6.254  6.038  5.816  5.595  5.380  5.174  4.981  4.802  4.635  \n2  6.307  6.238  6.162  6.082  6.000  5.920  5.841  5.766  5.694  \n3  1.650  1.646  1.653  1.668  1.685  1.700  1.710  1.714  1.713  \n4  1.250  1.190  1.270    NaN    NaN    NaN    NaN    NaN    NaN  \n\n[5 rows x 61 columns]",
      "text/html": "<div>\n<style scoped>\n    .dataframe tbody tr th:only-of-type {\n        vertical-align: middle;\n    }\n\n    .dataframe tbody tr th {\n        vertical-align: top;\n    }\n\n    .dataframe thead th {\n        text-align: right;\n    }\n</style>\n<table border=\"1\" class=\"dataframe\">\n  <thead>\n    <tr style=\"text-align: right;\">\n      <th></th>\n      <th>Country Name</th>\n      <th>Country Code</th>\n      <th>Indicator Name</th>\n      <th>Indicator Code</th>\n      <th>1960</th>\n      <th>1961</th>\n      <th>1962</th>\n      <th>1963</th>\n      <th>1964</th>\n      <th>1965</th>\n      <th>...</th>\n      <th>2007</th>\n      <th>2008</th>\n      <th>2009</th>\n      <th>2010</th>\n      <th>2011</th>\n      <th>2012</th>\n      <th>2013</th>\n      <th>2014</th>\n      <th>2015</th>\n      <th>2016</th>\n    </tr>\n  </thead>\n  <tbody>\n    <tr>\n      <th>0</th>\n      <td>Aruba</td>\n      <td>ABW</td>\n      <td>Fertility rate, total (births per woman)</td>\n      <td>SP.DYN.TFRT.IN</td>\n      <td>4.820</td>\n      <td>4.655</td>\n      <td>4.471</td>\n      <td>4.271</td>\n      <td>4.059</td>\n      <td>3.842</td>\n      <td>...</td>\n      <td>1.763</td>\n      <td>1.764</td>\n      <td>1.769</td>\n      <td>1.776</td>\n      <td>1.783</td>\n      <td>1.791</td>\n      <td>1.796</td>\n      <td>1.800</td>\n      <td>1.801</td>\n      <td>1.800</td>\n    </tr>\n    <tr>\n      <th>1</th>\n      <td>Afghanistan</td>\n      <td>AFG</td>\n      <td>Fertility rate, total (births per woman)</td>\n      <td>SP.DYN.TFRT.IN</td>\n      <td>7.450</td>\n      <td>7.450</td>\n      <td>7.450</td>\n      <td>7.450</td>\n      <td>7.450</td>\n      <td>7.450</td>\n      <td>...</td>\n      <td>6.460</td>\n      <td>6.254</td>\n      <td>6.038</td>\n      <td>5.816</td>\n      <td>5.595</td>\n      <td>5.380</td>\n      <td>5.174</td>\n      <td>4.981</td>\n      <td>4.802</td>\n      <td>4.635</td>\n    </tr>\n    <tr>\n      <th>2</th>\n      <td>Angola</td>\n      <td>AGO</td>\n      <td>Fertility rate, total (births per woman)</td>\n      <td>SP.DYN.TFRT.IN</td>\n      <td>7.478</td>\n      <td>7.524</td>\n      <td>7.563</td>\n      <td>7.592</td>\n      <td>7.611</td>\n      <td>7.619</td>\n      <td>...</td>\n      <td>6.368</td>\n      <td>6.307</td>\n      <td>6.238</td>\n      <td>6.162</td>\n      <td>6.082</td>\n      <td>6.000</td>\n      <td>5.920</td>\n      <td>5.841</td>\n      <td>5.766</td>\n      <td>5.694</td>\n    </tr>\n    <tr>\n      <th>3</th>\n      <td>Albania</td>\n      <td>ALB</td>\n      <td>Fertility rate, total (births per woman)</td>\n      <td>SP.DYN.TFRT.IN</td>\n      <td>6.489</td>\n      <td>6.401</td>\n      <td>6.282</td>\n      <td>6.133</td>\n      <td>5.960</td>\n      <td>5.773</td>\n      <td>...</td>\n      <td>1.668</td>\n      <td>1.650</td>\n      <td>1.646</td>\n      <td>1.653</td>\n      <td>1.668</td>\n      <td>1.685</td>\n      <td>1.700</td>\n      <td>1.710</td>\n      <td>1.714</td>\n      <td>1.713</td>\n    </tr>\n    <tr>\n      <th>4</th>\n      <td>Andorra</td>\n      <td>AND</td>\n      <td>Fertility rate, total (births per woman)</td>\n      <td>SP.DYN.TFRT.IN</td>\n      <td>NaN</td>\n      <td>NaN</td>\n      <td>NaN</td>\n      <td>NaN</td>\n      <td>NaN</td>\n      <td>NaN</td>\n      <td>...</td>\n      <td>1.180</td>\n      <td>1.250</td>\n      <td>1.190</td>\n      <td>1.270</td>\n      <td>NaN</td>\n      <td>NaN</td>\n      <td>NaN</td>\n      <td>NaN</td>\n      <td>NaN</td>\n      <td>NaN</td>\n    </tr>\n  </tbody>\n</table>\n<p>5 rows × 61 columns</p>\n</div>"
     },
     "execution_count": 137,
     "metadata": {},
     "output_type": "execute_result"
    }
   ],
   "source": [
    "fertility_rate.head()"
   ],
   "metadata": {
    "collapsed": false,
    "ExecuteTime": {
     "end_time": "2024-07-11T13:38:32.039299300Z",
     "start_time": "2024-07-11T13:38:31.964457800Z"
    }
   },
   "id": "29f0fbb51b8222e",
   "execution_count": 137
  },
  {
   "cell_type": "code",
   "outputs": [
    {
     "name": "stdout",
     "output_type": "stream",
     "text": [
      "<class 'pandas.core.frame.DataFrame'>\n",
      "RangeIndex: 264 entries, 0 to 263\n",
      "Data columns (total 61 columns):\n",
      " #   Column          Non-Null Count  Dtype  \n",
      "---  ------          --------------  -----  \n",
      " 0   Country Name    264 non-null    object \n",
      " 1   Country Code    264 non-null    object \n",
      " 2   Indicator Name  264 non-null    object \n",
      " 3   Indicator Code  264 non-null    object \n",
      " 4   1960            236 non-null    float64\n",
      " 5   1961            237 non-null    float64\n",
      " 6   1962            236 non-null    float64\n",
      " 7   1963            235 non-null    float64\n",
      " 8   1964            236 non-null    float64\n",
      " 9   1965            236 non-null    float64\n",
      " 10  1966            236 non-null    float64\n",
      " 11  1967            236 non-null    float64\n",
      " 12  1968            236 non-null    float64\n",
      " 13  1969            236 non-null    float64\n",
      " 14  1970            237 non-null    float64\n",
      " 15  1971            238 non-null    float64\n",
      " 16  1972            239 non-null    float64\n",
      " 17  1973            237 non-null    float64\n",
      " 18  1974            237 non-null    float64\n",
      " 19  1975            238 non-null    float64\n",
      " 20  1976            239 non-null    float64\n",
      " 21  1977            238 non-null    float64\n",
      " 22  1978            238 non-null    float64\n",
      " 23  1979            238 non-null    float64\n",
      " 24  1980            238 non-null    float64\n",
      " 25  1981            240 non-null    float64\n",
      " 26  1982            243 non-null    float64\n",
      " 27  1983            240 non-null    float64\n",
      " 28  1984            240 non-null    float64\n",
      " 29  1985            240 non-null    float64\n",
      " 30  1986            240 non-null    float64\n",
      " 31  1987            244 non-null    float64\n",
      " 32  1988            240 non-null    float64\n",
      " 33  1989            240 non-null    float64\n",
      " 34  1990            242 non-null    float64\n",
      " 35  1991            242 non-null    float64\n",
      " 36  1992            245 non-null    float64\n",
      " 37  1993            241 non-null    float64\n",
      " 38  1994            242 non-null    float64\n",
      " 39  1995            244 non-null    float64\n",
      " 40  1996            241 non-null    float64\n",
      " 41  1997            245 non-null    float64\n",
      " 42  1998            242 non-null    float64\n",
      " 43  1999            243 non-null    float64\n",
      " 44  2000            246 non-null    float64\n",
      " 45  2001            246 non-null    float64\n",
      " 46  2002            248 non-null    float64\n",
      " 47  2003            246 non-null    float64\n",
      " 48  2004            245 non-null    float64\n",
      " 49  2005            247 non-null    float64\n",
      " 50  2006            248 non-null    float64\n",
      " 51  2007            249 non-null    float64\n",
      " 52  2008            248 non-null    float64\n",
      " 53  2009            248 non-null    float64\n",
      " 54  2010            247 non-null    float64\n",
      " 55  2011            248 non-null    float64\n",
      " 56  2012            248 non-null    float64\n",
      " 57  2013            246 non-null    float64\n",
      " 58  2014            246 non-null    float64\n",
      " 59  2015            247 non-null    float64\n",
      " 60  2016            246 non-null    float64\n",
      "dtypes: float64(57), object(4)\n",
      "memory usage: 125.9+ KB\n"
     ]
    }
   ],
   "source": [
    "fertility_rate.info()"
   ],
   "metadata": {
    "collapsed": false,
    "ExecuteTime": {
     "end_time": "2024-07-11T13:38:32.527138200Z",
     "start_time": "2024-07-11T13:38:32.454174200Z"
    }
   },
   "id": "690aa15f948ab4be",
   "execution_count": 138
  },
  {
   "cell_type": "code",
   "outputs": [
    {
     "data": {
      "text/plain": "  Country Name Country Code                           Indicator Name  \\\n0        Aruba          ABW  Life expectancy at birth, total (years)   \n1  Afghanistan          AFG  Life expectancy at birth, total (years)   \n2       Angola          AGO  Life expectancy at birth, total (years)   \n3      Albania          ALB  Life expectancy at birth, total (years)   \n4      Andorra          AND  Life expectancy at birth, total (years)   \n\n   Indicator Code    1960    1961    1962    1963    1964    1965  ...  \\\n0  SP.DYN.LE00.IN  65.662  66.074  66.444  66.787  67.113  67.435  ...   \n1  SP.DYN.LE00.IN  32.292  32.742  33.185  33.624  34.060  34.495  ...   \n2  SP.DYN.LE00.IN  33.251  33.573  33.914  34.272  34.645  35.031  ...   \n3  SP.DYN.LE00.IN  62.279  63.298  64.187  64.911  65.461  65.848  ...   \n4  SP.DYN.LE00.IN     NaN     NaN     NaN     NaN     NaN     NaN  ...   \n\n     2007    2008    2009    2010    2011    2012    2013    2014    2015  \\\n0  74.576  74.725  74.872  75.016  75.158  75.299  75.440  75.582  75.725   \n1  59.694  60.243  60.754  61.226  61.666  62.086  62.494  62.895  63.288   \n2  55.096  56.189  57.231  58.192  59.042  59.770  60.373  60.858  61.241   \n3  75.656  75.943  76.281  76.652  77.031  77.389  77.702  77.963  78.174   \n4     NaN     NaN     NaN     NaN     NaN     NaN     NaN     NaN     NaN   \n\n     2016  \n0  75.867  \n1  63.673  \n2  61.547  \n3  78.345  \n4     NaN  \n\n[5 rows x 61 columns]",
      "text/html": "<div>\n<style scoped>\n    .dataframe tbody tr th:only-of-type {\n        vertical-align: middle;\n    }\n\n    .dataframe tbody tr th {\n        vertical-align: top;\n    }\n\n    .dataframe thead th {\n        text-align: right;\n    }\n</style>\n<table border=\"1\" class=\"dataframe\">\n  <thead>\n    <tr style=\"text-align: right;\">\n      <th></th>\n      <th>Country Name</th>\n      <th>Country Code</th>\n      <th>Indicator Name</th>\n      <th>Indicator Code</th>\n      <th>1960</th>\n      <th>1961</th>\n      <th>1962</th>\n      <th>1963</th>\n      <th>1964</th>\n      <th>1965</th>\n      <th>...</th>\n      <th>2007</th>\n      <th>2008</th>\n      <th>2009</th>\n      <th>2010</th>\n      <th>2011</th>\n      <th>2012</th>\n      <th>2013</th>\n      <th>2014</th>\n      <th>2015</th>\n      <th>2016</th>\n    </tr>\n  </thead>\n  <tbody>\n    <tr>\n      <th>0</th>\n      <td>Aruba</td>\n      <td>ABW</td>\n      <td>Life expectancy at birth, total (years)</td>\n      <td>SP.DYN.LE00.IN</td>\n      <td>65.662</td>\n      <td>66.074</td>\n      <td>66.444</td>\n      <td>66.787</td>\n      <td>67.113</td>\n      <td>67.435</td>\n      <td>...</td>\n      <td>74.576</td>\n      <td>74.725</td>\n      <td>74.872</td>\n      <td>75.016</td>\n      <td>75.158</td>\n      <td>75.299</td>\n      <td>75.440</td>\n      <td>75.582</td>\n      <td>75.725</td>\n      <td>75.867</td>\n    </tr>\n    <tr>\n      <th>1</th>\n      <td>Afghanistan</td>\n      <td>AFG</td>\n      <td>Life expectancy at birth, total (years)</td>\n      <td>SP.DYN.LE00.IN</td>\n      <td>32.292</td>\n      <td>32.742</td>\n      <td>33.185</td>\n      <td>33.624</td>\n      <td>34.060</td>\n      <td>34.495</td>\n      <td>...</td>\n      <td>59.694</td>\n      <td>60.243</td>\n      <td>60.754</td>\n      <td>61.226</td>\n      <td>61.666</td>\n      <td>62.086</td>\n      <td>62.494</td>\n      <td>62.895</td>\n      <td>63.288</td>\n      <td>63.673</td>\n    </tr>\n    <tr>\n      <th>2</th>\n      <td>Angola</td>\n      <td>AGO</td>\n      <td>Life expectancy at birth, total (years)</td>\n      <td>SP.DYN.LE00.IN</td>\n      <td>33.251</td>\n      <td>33.573</td>\n      <td>33.914</td>\n      <td>34.272</td>\n      <td>34.645</td>\n      <td>35.031</td>\n      <td>...</td>\n      <td>55.096</td>\n      <td>56.189</td>\n      <td>57.231</td>\n      <td>58.192</td>\n      <td>59.042</td>\n      <td>59.770</td>\n      <td>60.373</td>\n      <td>60.858</td>\n      <td>61.241</td>\n      <td>61.547</td>\n    </tr>\n    <tr>\n      <th>3</th>\n      <td>Albania</td>\n      <td>ALB</td>\n      <td>Life expectancy at birth, total (years)</td>\n      <td>SP.DYN.LE00.IN</td>\n      <td>62.279</td>\n      <td>63.298</td>\n      <td>64.187</td>\n      <td>64.911</td>\n      <td>65.461</td>\n      <td>65.848</td>\n      <td>...</td>\n      <td>75.656</td>\n      <td>75.943</td>\n      <td>76.281</td>\n      <td>76.652</td>\n      <td>77.031</td>\n      <td>77.389</td>\n      <td>77.702</td>\n      <td>77.963</td>\n      <td>78.174</td>\n      <td>78.345</td>\n    </tr>\n    <tr>\n      <th>4</th>\n      <td>Andorra</td>\n      <td>AND</td>\n      <td>Life expectancy at birth, total (years)</td>\n      <td>SP.DYN.LE00.IN</td>\n      <td>NaN</td>\n      <td>NaN</td>\n      <td>NaN</td>\n      <td>NaN</td>\n      <td>NaN</td>\n      <td>NaN</td>\n      <td>...</td>\n      <td>NaN</td>\n      <td>NaN</td>\n      <td>NaN</td>\n      <td>NaN</td>\n      <td>NaN</td>\n      <td>NaN</td>\n      <td>NaN</td>\n      <td>NaN</td>\n      <td>NaN</td>\n      <td>NaN</td>\n    </tr>\n  </tbody>\n</table>\n<p>5 rows × 61 columns</p>\n</div>"
     },
     "execution_count": 139,
     "metadata": {},
     "output_type": "execute_result"
    }
   ],
   "source": [
    "life_expectancy.head()"
   ],
   "metadata": {
    "collapsed": false,
    "ExecuteTime": {
     "end_time": "2024-07-11T13:38:32.864449300Z",
     "start_time": "2024-07-11T13:38:32.810984900Z"
    }
   },
   "id": "34eb04259ea96ff8",
   "execution_count": 139
  },
  {
   "cell_type": "code",
   "outputs": [
    {
     "name": "stdout",
     "output_type": "stream",
     "text": [
      "<class 'pandas.core.frame.DataFrame'>\n",
      "RangeIndex: 264 entries, 0 to 263\n",
      "Data columns (total 61 columns):\n",
      " #   Column          Non-Null Count  Dtype  \n",
      "---  ------          --------------  -----  \n",
      " 0   Country Name    264 non-null    object \n",
      " 1   Country Code    264 non-null    object \n",
      " 2   Indicator Name  264 non-null    object \n",
      " 3   Indicator Code  264 non-null    object \n",
      " 4   1960            235 non-null    float64\n",
      " 5   1961            236 non-null    float64\n",
      " 6   1962            236 non-null    float64\n",
      " 7   1963            235 non-null    float64\n",
      " 8   1964            235 non-null    float64\n",
      " 9   1965            236 non-null    float64\n",
      " 10  1966            236 non-null    float64\n",
      " 11  1967            236 non-null    float64\n",
      " 12  1968            236 non-null    float64\n",
      " 13  1969            236 non-null    float64\n",
      " 14  1970            237 non-null    float64\n",
      " 15  1971            236 non-null    float64\n",
      " 16  1972            236 non-null    float64\n",
      " 17  1973            237 non-null    float64\n",
      " 18  1974            236 non-null    float64\n",
      " 19  1975            236 non-null    float64\n",
      " 20  1976            236 non-null    float64\n",
      " 21  1977            236 non-null    float64\n",
      " 22  1978            238 non-null    float64\n",
      " 23  1979            237 non-null    float64\n",
      " 24  1980            239 non-null    float64\n",
      " 25  1981            239 non-null    float64\n",
      " 26  1982            242 non-null    float64\n",
      " 27  1983            240 non-null    float64\n",
      " 28  1984            240 non-null    float64\n",
      " 29  1985            240 non-null    float64\n",
      " 30  1986            241 non-null    float64\n",
      " 31  1987            244 non-null    float64\n",
      " 32  1988            241 non-null    float64\n",
      " 33  1989            241 non-null    float64\n",
      " 34  1990            243 non-null    float64\n",
      " 35  1991            244 non-null    float64\n",
      " 36  1992            244 non-null    float64\n",
      " 37  1993            242 non-null    float64\n",
      " 38  1994            244 non-null    float64\n",
      " 39  1995            244 non-null    float64\n",
      " 40  1996            243 non-null    float64\n",
      " 41  1997            246 non-null    float64\n",
      " 42  1998            243 non-null    float64\n",
      " 43  1999            244 non-null    float64\n",
      " 44  2000            247 non-null    float64\n",
      " 45  2001            245 non-null    float64\n",
      " 46  2002            248 non-null    float64\n",
      " 47  2003            245 non-null    float64\n",
      " 48  2004            245 non-null    float64\n",
      " 49  2005            246 non-null    float64\n",
      " 50  2006            246 non-null    float64\n",
      " 51  2007            247 non-null    float64\n",
      " 52  2008            247 non-null    float64\n",
      " 53  2009            247 non-null    float64\n",
      " 54  2010            246 non-null    float64\n",
      " 55  2011            246 non-null    float64\n",
      " 56  2012            247 non-null    float64\n",
      " 57  2013            245 non-null    float64\n",
      " 58  2014            245 non-null    float64\n",
      " 59  2015            244 non-null    float64\n",
      " 60  2016            245 non-null    float64\n",
      "dtypes: float64(57), object(4)\n",
      "memory usage: 125.9+ KB\n"
     ]
    }
   ],
   "source": [
    "life_expectancy.info()"
   ],
   "metadata": {
    "collapsed": false,
    "ExecuteTime": {
     "end_time": "2024-07-11T13:38:33.400174900Z",
     "start_time": "2024-07-11T13:38:33.301015100Z"
    }
   },
   "id": "c1a5387ca80187ba",
   "execution_count": 140
  },
  {
   "cell_type": "code",
   "outputs": [
    {
     "data": {
      "text/plain": "  Country Code                     Region          IncomeGroup  \\\n0          ABW  Latin America & Caribbean          High income   \n1          AFG                 South Asia           Low income   \n2          AGO         Sub-Saharan Africa  Lower middle income   \n3          ALB      Europe & Central Asia  Upper middle income   \n4          AND      Europe & Central Asia          High income   \n\n                                        SpecialNotes    TableName  Unnamed: 5  \n0  SNA data for 2000-2011 are updated from offici...        Aruba         NaN  \n1  Fiscal year end: March 20; reporting period fo...  Afghanistan         NaN  \n2                                                NaN       Angola         NaN  \n3                                                NaN      Albania         NaN  \n4  WB-3 code changed from ADO to AND to align wit...      Andorra         NaN  ",
      "text/html": "<div>\n<style scoped>\n    .dataframe tbody tr th:only-of-type {\n        vertical-align: middle;\n    }\n\n    .dataframe tbody tr th {\n        vertical-align: top;\n    }\n\n    .dataframe thead th {\n        text-align: right;\n    }\n</style>\n<table border=\"1\" class=\"dataframe\">\n  <thead>\n    <tr style=\"text-align: right;\">\n      <th></th>\n      <th>Country Code</th>\n      <th>Region</th>\n      <th>IncomeGroup</th>\n      <th>SpecialNotes</th>\n      <th>TableName</th>\n      <th>Unnamed: 5</th>\n    </tr>\n  </thead>\n  <tbody>\n    <tr>\n      <th>0</th>\n      <td>ABW</td>\n      <td>Latin America &amp; Caribbean</td>\n      <td>High income</td>\n      <td>SNA data for 2000-2011 are updated from offici...</td>\n      <td>Aruba</td>\n      <td>NaN</td>\n    </tr>\n    <tr>\n      <th>1</th>\n      <td>AFG</td>\n      <td>South Asia</td>\n      <td>Low income</td>\n      <td>Fiscal year end: March 20; reporting period fo...</td>\n      <td>Afghanistan</td>\n      <td>NaN</td>\n    </tr>\n    <tr>\n      <th>2</th>\n      <td>AGO</td>\n      <td>Sub-Saharan Africa</td>\n      <td>Lower middle income</td>\n      <td>NaN</td>\n      <td>Angola</td>\n      <td>NaN</td>\n    </tr>\n    <tr>\n      <th>3</th>\n      <td>ALB</td>\n      <td>Europe &amp; Central Asia</td>\n      <td>Upper middle income</td>\n      <td>NaN</td>\n      <td>Albania</td>\n      <td>NaN</td>\n    </tr>\n    <tr>\n      <th>4</th>\n      <td>AND</td>\n      <td>Europe &amp; Central Asia</td>\n      <td>High income</td>\n      <td>WB-3 code changed from ADO to AND to align wit...</td>\n      <td>Andorra</td>\n      <td>NaN</td>\n    </tr>\n  </tbody>\n</table>\n</div>"
     },
     "execution_count": 141,
     "metadata": {},
     "output_type": "execute_result"
    }
   ],
   "source": [
    "metadata.head()"
   ],
   "metadata": {
    "collapsed": false,
    "ExecuteTime": {
     "end_time": "2024-07-11T13:38:34.670270600Z",
     "start_time": "2024-07-11T13:38:34.611036700Z"
    }
   },
   "id": "f3d5f62dd5792cf6",
   "execution_count": 141
  },
  {
   "cell_type": "code",
   "outputs": [
    {
     "name": "stdout",
     "output_type": "stream",
     "text": [
      "<class 'pandas.core.frame.DataFrame'>\n",
      "RangeIndex: 263 entries, 0 to 262\n",
      "Data columns (total 6 columns):\n",
      " #   Column        Non-Null Count  Dtype  \n",
      "---  ------        --------------  -----  \n",
      " 0   Country Code  263 non-null    object \n",
      " 1   Region        217 non-null    object \n",
      " 2   IncomeGroup   217 non-null    object \n",
      " 3   SpecialNotes  147 non-null    object \n",
      " 4   TableName     263 non-null    object \n",
      " 5   Unnamed: 5    0 non-null      float64\n",
      "dtypes: float64(1), object(5)\n",
      "memory usage: 12.5+ KB\n"
     ]
    }
   ],
   "source": [
    "metadata.info()"
   ],
   "metadata": {
    "collapsed": false,
    "ExecuteTime": {
     "end_time": "2024-07-11T13:38:36.733999300Z",
     "start_time": "2024-07-11T13:38:36.678743Z"
    }
   },
   "id": "11925d6b1d398f7b",
   "execution_count": 142
  },
  {
   "cell_type": "markdown",
   "source": [
    "# Melting Down the dataset"
   ],
   "metadata": {
    "collapsed": false
   },
   "id": "447a224bea23a6d5"
  },
  {
   "cell_type": "markdown",
   "source": [
    "**Melting down the Country's population dataset**"
   ],
   "metadata": {
    "collapsed": false
   },
   "id": "aee82157e2dbac95"
  },
  {
   "cell_type": "code",
   "outputs": [],
   "source": [
    "country_population.drop(columns=['Indicator Name','Indicator Code'], inplace=True)"
   ],
   "metadata": {
    "collapsed": false,
    "ExecuteTime": {
     "end_time": "2024-07-11T13:38:45.781858100Z",
     "start_time": "2024-07-11T13:38:45.726288200Z"
    }
   },
   "id": "7003666de33984a0",
   "execution_count": 143
  },
  {
   "cell_type": "code",
   "outputs": [],
   "source": [
    "country_population_melt = pd.melt(country_population, id_vars=[\"Country Name\", \"Country Code\"], \n",
    "                    var_name=\"Year\", value_name=\"Population\")"
   ],
   "metadata": {
    "collapsed": false,
    "ExecuteTime": {
     "end_time": "2024-07-11T13:38:46.723191500Z",
     "start_time": "2024-07-11T13:38:46.690742200Z"
    }
   },
   "id": "e3cdad91c1bafa0b",
   "execution_count": 144
  },
  {
   "cell_type": "code",
   "outputs": [],
   "source": [
    "country_population_melt['Year'] = country_population_melt['Year'].astype(int)"
   ],
   "metadata": {
    "collapsed": false,
    "ExecuteTime": {
     "end_time": "2024-07-11T13:38:48.451144Z",
     "start_time": "2024-07-11T13:38:48.364603800Z"
    }
   },
   "id": "a60737523c4ab8f8",
   "execution_count": 145
  },
  {
   "cell_type": "code",
   "outputs": [
    {
     "data": {
      "text/plain": "       Country Name Country Code  Year  Population\n0             Aruba          ABW  1960     54211.0\n1       Afghanistan          AFG  1960   8996351.0\n2            Angola          AGO  1960   5643182.0\n3           Albania          ALB  1960   1608800.0\n4           Andorra          AND  1960     13411.0\n...             ...          ...   ...         ...\n15043        Kosovo          XKX  2016   1816200.0\n15044   Yemen, Rep.          YEM  2016  27584213.0\n15045  South Africa          ZAF  2016  56015473.0\n15046        Zambia          ZMB  2016  16591390.0\n15047      Zimbabwe          ZWE  2016  16150362.0\n\n[15048 rows x 4 columns]",
      "text/html": "<div>\n<style scoped>\n    .dataframe tbody tr th:only-of-type {\n        vertical-align: middle;\n    }\n\n    .dataframe tbody tr th {\n        vertical-align: top;\n    }\n\n    .dataframe thead th {\n        text-align: right;\n    }\n</style>\n<table border=\"1\" class=\"dataframe\">\n  <thead>\n    <tr style=\"text-align: right;\">\n      <th></th>\n      <th>Country Name</th>\n      <th>Country Code</th>\n      <th>Year</th>\n      <th>Population</th>\n    </tr>\n  </thead>\n  <tbody>\n    <tr>\n      <th>0</th>\n      <td>Aruba</td>\n      <td>ABW</td>\n      <td>1960</td>\n      <td>54211.0</td>\n    </tr>\n    <tr>\n      <th>1</th>\n      <td>Afghanistan</td>\n      <td>AFG</td>\n      <td>1960</td>\n      <td>8996351.0</td>\n    </tr>\n    <tr>\n      <th>2</th>\n      <td>Angola</td>\n      <td>AGO</td>\n      <td>1960</td>\n      <td>5643182.0</td>\n    </tr>\n    <tr>\n      <th>3</th>\n      <td>Albania</td>\n      <td>ALB</td>\n      <td>1960</td>\n      <td>1608800.0</td>\n    </tr>\n    <tr>\n      <th>4</th>\n      <td>Andorra</td>\n      <td>AND</td>\n      <td>1960</td>\n      <td>13411.0</td>\n    </tr>\n    <tr>\n      <th>...</th>\n      <td>...</td>\n      <td>...</td>\n      <td>...</td>\n      <td>...</td>\n    </tr>\n    <tr>\n      <th>15043</th>\n      <td>Kosovo</td>\n      <td>XKX</td>\n      <td>2016</td>\n      <td>1816200.0</td>\n    </tr>\n    <tr>\n      <th>15044</th>\n      <td>Yemen, Rep.</td>\n      <td>YEM</td>\n      <td>2016</td>\n      <td>27584213.0</td>\n    </tr>\n    <tr>\n      <th>15045</th>\n      <td>South Africa</td>\n      <td>ZAF</td>\n      <td>2016</td>\n      <td>56015473.0</td>\n    </tr>\n    <tr>\n      <th>15046</th>\n      <td>Zambia</td>\n      <td>ZMB</td>\n      <td>2016</td>\n      <td>16591390.0</td>\n    </tr>\n    <tr>\n      <th>15047</th>\n      <td>Zimbabwe</td>\n      <td>ZWE</td>\n      <td>2016</td>\n      <td>16150362.0</td>\n    </tr>\n  </tbody>\n</table>\n<p>15048 rows × 4 columns</p>\n</div>"
     },
     "execution_count": 146,
     "metadata": {},
     "output_type": "execute_result"
    }
   ],
   "source": [
    "country_population_melt"
   ],
   "metadata": {
    "collapsed": false,
    "ExecuteTime": {
     "end_time": "2024-07-11T13:38:49.464739100Z",
     "start_time": "2024-07-11T13:38:49.414901200Z"
    }
   },
   "id": "6ce9a97cb9bf67b0",
   "execution_count": 146
  },
  {
   "cell_type": "markdown",
   "source": [
    "**Melting down fertility_rate dataset**"
   ],
   "metadata": {
    "collapsed": false
   },
   "id": "46118fd9537115b4"
  },
  {
   "cell_type": "code",
   "outputs": [],
   "source": [
    "fertility_rate.drop(columns=['Indicator Name','Indicator Code'], inplace=True)"
   ],
   "metadata": {
    "collapsed": false,
    "ExecuteTime": {
     "end_time": "2024-07-11T13:38:58.478274300Z",
     "start_time": "2024-07-11T13:38:58.441914Z"
    }
   },
   "id": "8d87a6f4a4804d86",
   "execution_count": 147
  },
  {
   "cell_type": "code",
   "outputs": [],
   "source": [
    "fertility_rate_melt = pd.melt(fertility_rate, id_vars=[\"Country Name\", \"Country Code\"], var_name=\"year\", value_name=\"Fertility Rate\")"
   ],
   "metadata": {
    "collapsed": false,
    "ExecuteTime": {
     "end_time": "2024-07-11T13:38:58.807369200Z",
     "start_time": "2024-07-11T13:38:58.786397400Z"
    }
   },
   "id": "6275b3d1b8fefd44",
   "execution_count": 148
  },
  {
   "cell_type": "code",
   "outputs": [],
   "source": [
    "fertility_rate_melt['year'] = fertility_rate_melt['year'].astype(int)"
   ],
   "metadata": {
    "collapsed": false,
    "ExecuteTime": {
     "end_time": "2024-07-11T13:38:59.310096200Z",
     "start_time": "2024-07-11T13:38:59.241615300Z"
    }
   },
   "id": "bcbc75441b9d1697",
   "execution_count": 149
  },
  {
   "cell_type": "code",
   "outputs": [
    {
     "data": {
      "text/plain": "       Country Name Country Code  year  Fertility Rate\n0             Aruba          ABW  1960           4.820\n1       Afghanistan          AFG  1960           7.450\n2            Angola          AGO  1960           7.478\n3           Albania          ALB  1960           6.489\n4           Andorra          AND  1960             NaN\n...             ...          ...   ...             ...\n15043        Kosovo          XKX  2016           2.060\n15044   Yemen, Rep.          YEM  2016           3.995\n15045  South Africa          ZAF  2016           2.458\n15046        Zambia          ZMB  2016           4.981\n15047      Zimbabwe          ZWE  2016           3.760\n\n[15048 rows x 4 columns]",
      "text/html": "<div>\n<style scoped>\n    .dataframe tbody tr th:only-of-type {\n        vertical-align: middle;\n    }\n\n    .dataframe tbody tr th {\n        vertical-align: top;\n    }\n\n    .dataframe thead th {\n        text-align: right;\n    }\n</style>\n<table border=\"1\" class=\"dataframe\">\n  <thead>\n    <tr style=\"text-align: right;\">\n      <th></th>\n      <th>Country Name</th>\n      <th>Country Code</th>\n      <th>year</th>\n      <th>Fertility Rate</th>\n    </tr>\n  </thead>\n  <tbody>\n    <tr>\n      <th>0</th>\n      <td>Aruba</td>\n      <td>ABW</td>\n      <td>1960</td>\n      <td>4.820</td>\n    </tr>\n    <tr>\n      <th>1</th>\n      <td>Afghanistan</td>\n      <td>AFG</td>\n      <td>1960</td>\n      <td>7.450</td>\n    </tr>\n    <tr>\n      <th>2</th>\n      <td>Angola</td>\n      <td>AGO</td>\n      <td>1960</td>\n      <td>7.478</td>\n    </tr>\n    <tr>\n      <th>3</th>\n      <td>Albania</td>\n      <td>ALB</td>\n      <td>1960</td>\n      <td>6.489</td>\n    </tr>\n    <tr>\n      <th>4</th>\n      <td>Andorra</td>\n      <td>AND</td>\n      <td>1960</td>\n      <td>NaN</td>\n    </tr>\n    <tr>\n      <th>...</th>\n      <td>...</td>\n      <td>...</td>\n      <td>...</td>\n      <td>...</td>\n    </tr>\n    <tr>\n      <th>15043</th>\n      <td>Kosovo</td>\n      <td>XKX</td>\n      <td>2016</td>\n      <td>2.060</td>\n    </tr>\n    <tr>\n      <th>15044</th>\n      <td>Yemen, Rep.</td>\n      <td>YEM</td>\n      <td>2016</td>\n      <td>3.995</td>\n    </tr>\n    <tr>\n      <th>15045</th>\n      <td>South Africa</td>\n      <td>ZAF</td>\n      <td>2016</td>\n      <td>2.458</td>\n    </tr>\n    <tr>\n      <th>15046</th>\n      <td>Zambia</td>\n      <td>ZMB</td>\n      <td>2016</td>\n      <td>4.981</td>\n    </tr>\n    <tr>\n      <th>15047</th>\n      <td>Zimbabwe</td>\n      <td>ZWE</td>\n      <td>2016</td>\n      <td>3.760</td>\n    </tr>\n  </tbody>\n</table>\n<p>15048 rows × 4 columns</p>\n</div>"
     },
     "execution_count": 150,
     "metadata": {},
     "output_type": "execute_result"
    }
   ],
   "source": [
    "fertility_rate_melt"
   ],
   "metadata": {
    "collapsed": false,
    "ExecuteTime": {
     "end_time": "2024-07-11T13:39:00.053709600Z",
     "start_time": "2024-07-11T13:38:59.983328600Z"
    }
   },
   "id": "6a07db43d2ac86fc",
   "execution_count": 150
  },
  {
   "cell_type": "markdown",
   "source": [
    "**Melting life_expectency dataset**"
   ],
   "metadata": {
    "collapsed": false
   },
   "id": "34f06a6b53f8f1ed"
  },
  {
   "cell_type": "code",
   "outputs": [],
   "source": [
    "life_expectancy.drop(columns=['Indicator Name','Indicator Code'], inplace=True)"
   ],
   "metadata": {
    "collapsed": false,
    "ExecuteTime": {
     "end_time": "2024-07-11T13:39:09.899409300Z",
     "start_time": "2024-07-11T13:39:09.845148800Z"
    }
   },
   "id": "8b58eb5ab61b0316",
   "execution_count": 151
  },
  {
   "cell_type": "code",
   "outputs": [],
   "source": [
    "life_expectancy_melt = pd.melt(life_expectancy, id_vars=[\"Country Name\", \"Country Code\"], var_name=\"year\", value_name=\"life_expectancy\")\n"
   ],
   "metadata": {
    "collapsed": false,
    "ExecuteTime": {
     "end_time": "2024-07-11T13:39:10.522077300Z",
     "start_time": "2024-07-11T13:39:10.498509800Z"
    }
   },
   "id": "2e26454fdca36712",
   "execution_count": 152
  },
  {
   "cell_type": "code",
   "outputs": [],
   "source": [
    "life_expectancy_melt['year'] = life_expectancy_melt['year'].astype(int)"
   ],
   "metadata": {
    "collapsed": false,
    "ExecuteTime": {
     "end_time": "2024-07-11T13:39:11.244117500Z",
     "start_time": "2024-07-11T13:39:11.211017300Z"
    }
   },
   "id": "70cac99089f95a8a",
   "execution_count": 153
  },
  {
   "cell_type": "code",
   "outputs": [
    {
     "data": {
      "text/plain": "       Country Name Country Code  year  life_expectancy\n0             Aruba          ABW  1960        65.662000\n1       Afghanistan          AFG  1960        32.292000\n2            Angola          AGO  1960        33.251000\n3           Albania          ALB  1960        62.279000\n4           Andorra          AND  1960              NaN\n...             ...          ...   ...              ...\n15043        Kosovo          XKX  2016        71.646341\n15044   Yemen, Rep.          YEM  2016        64.953000\n15045  South Africa          ZAF  2016        62.774000\n15046        Zambia          ZMB  2016        61.874000\n15047      Zimbabwe          ZWE  2016        61.163000\n\n[15048 rows x 4 columns]",
      "text/html": "<div>\n<style scoped>\n    .dataframe tbody tr th:only-of-type {\n        vertical-align: middle;\n    }\n\n    .dataframe tbody tr th {\n        vertical-align: top;\n    }\n\n    .dataframe thead th {\n        text-align: right;\n    }\n</style>\n<table border=\"1\" class=\"dataframe\">\n  <thead>\n    <tr style=\"text-align: right;\">\n      <th></th>\n      <th>Country Name</th>\n      <th>Country Code</th>\n      <th>year</th>\n      <th>life_expectancy</th>\n    </tr>\n  </thead>\n  <tbody>\n    <tr>\n      <th>0</th>\n      <td>Aruba</td>\n      <td>ABW</td>\n      <td>1960</td>\n      <td>65.662000</td>\n    </tr>\n    <tr>\n      <th>1</th>\n      <td>Afghanistan</td>\n      <td>AFG</td>\n      <td>1960</td>\n      <td>32.292000</td>\n    </tr>\n    <tr>\n      <th>2</th>\n      <td>Angola</td>\n      <td>AGO</td>\n      <td>1960</td>\n      <td>33.251000</td>\n    </tr>\n    <tr>\n      <th>3</th>\n      <td>Albania</td>\n      <td>ALB</td>\n      <td>1960</td>\n      <td>62.279000</td>\n    </tr>\n    <tr>\n      <th>4</th>\n      <td>Andorra</td>\n      <td>AND</td>\n      <td>1960</td>\n      <td>NaN</td>\n    </tr>\n    <tr>\n      <th>...</th>\n      <td>...</td>\n      <td>...</td>\n      <td>...</td>\n      <td>...</td>\n    </tr>\n    <tr>\n      <th>15043</th>\n      <td>Kosovo</td>\n      <td>XKX</td>\n      <td>2016</td>\n      <td>71.646341</td>\n    </tr>\n    <tr>\n      <th>15044</th>\n      <td>Yemen, Rep.</td>\n      <td>YEM</td>\n      <td>2016</td>\n      <td>64.953000</td>\n    </tr>\n    <tr>\n      <th>15045</th>\n      <td>South Africa</td>\n      <td>ZAF</td>\n      <td>2016</td>\n      <td>62.774000</td>\n    </tr>\n    <tr>\n      <th>15046</th>\n      <td>Zambia</td>\n      <td>ZMB</td>\n      <td>2016</td>\n      <td>61.874000</td>\n    </tr>\n    <tr>\n      <th>15047</th>\n      <td>Zimbabwe</td>\n      <td>ZWE</td>\n      <td>2016</td>\n      <td>61.163000</td>\n    </tr>\n  </tbody>\n</table>\n<p>15048 rows × 4 columns</p>\n</div>"
     },
     "execution_count": 154,
     "metadata": {},
     "output_type": "execute_result"
    }
   ],
   "source": [
    "life_expectancy_melt"
   ],
   "metadata": {
    "collapsed": false,
    "ExecuteTime": {
     "end_time": "2024-07-11T13:39:12.844804900Z",
     "start_time": "2024-07-11T13:39:12.811568Z"
    }
   },
   "id": "9d67a5b8df254ed5",
   "execution_count": 154
  },
  {
   "cell_type": "code",
   "outputs": [
    {
     "name": "stdout",
     "output_type": "stream",
     "text": [
      "(15048, 4)\n",
      "(15048, 4)\n",
      "(15048, 4)\n",
      "(263, 6)\n"
     ]
    }
   ],
   "source": [
    "print(country_population_melt.shape)\n",
    "print(fertility_rate_melt.shape)\n",
    "print(life_expectancy_melt.shape)\n",
    "print(metadata.shape)"
   ],
   "metadata": {
    "collapsed": false,
    "ExecuteTime": {
     "end_time": "2024-07-11T13:39:17.697063300Z",
     "start_time": "2024-07-11T13:39:17.637082300Z"
    }
   },
   "id": "4dfd7eeeb8b588b3",
   "execution_count": 155
  },
  {
   "cell_type": "markdown",
   "source": [
    "# Handling Missing Value"
   ],
   "metadata": {
    "collapsed": false
   },
   "id": "f190da7e21ffe9a6"
  },
  {
   "cell_type": "code",
   "outputs": [
    {
     "data": {
      "text/plain": "Country Name      0\nCountry Code      0\nYear              0\nPopulation      163\ndtype: int64"
     },
     "execution_count": 156,
     "metadata": {},
     "output_type": "execute_result"
    }
   ],
   "source": [
    "country_population_melt.isna().sum()"
   ],
   "metadata": {
    "collapsed": false,
    "ExecuteTime": {
     "end_time": "2024-07-11T13:39:22.503530800Z",
     "start_time": "2024-07-11T13:39:22.454732100Z"
    }
   },
   "id": "23339fb26aab5aff",
   "execution_count": 156
  },
  {
   "cell_type": "code",
   "outputs": [],
   "source": [
    "country_population_melt.dropna(subset=['Population'], inplace=True)"
   ],
   "metadata": {
    "collapsed": false,
    "ExecuteTime": {
     "end_time": "2024-07-11T13:39:23.717221100Z",
     "start_time": "2024-07-11T13:39:23.656383400Z"
    }
   },
   "id": "ff86b9dcfb8832fd",
   "execution_count": 157
  },
  {
   "cell_type": "code",
   "outputs": [
    {
     "data": {
      "text/plain": "Country Name         0\nCountry Code         0\nyear                 0\nFertility Rate    1278\ndtype: int64"
     },
     "execution_count": 158,
     "metadata": {},
     "output_type": "execute_result"
    }
   ],
   "source": [
    "fertility_rate_melt.isna().sum()"
   ],
   "metadata": {
    "collapsed": false,
    "ExecuteTime": {
     "end_time": "2024-07-11T13:39:40.425207200Z",
     "start_time": "2024-07-11T13:39:40.387775Z"
    }
   },
   "id": "d9e0de871ea735df",
   "execution_count": 158
  },
  {
   "cell_type": "code",
   "outputs": [],
   "source": [
    "fertility_rate_melt.dropna(subset=['Fertility Rate'], inplace=True)"
   ],
   "metadata": {
    "collapsed": false,
    "ExecuteTime": {
     "end_time": "2024-07-11T13:39:42.136519100Z",
     "start_time": "2024-07-11T13:39:42.022198500Z"
    }
   },
   "id": "a67ffe555fc06a5f",
   "execution_count": 159
  },
  {
   "cell_type": "code",
   "outputs": [
    {
     "data": {
      "text/plain": "Country Name          0\nCountry Code          0\nyear                  0\nlife_expectancy    1301\ndtype: int64"
     },
     "execution_count": 160,
     "metadata": {},
     "output_type": "execute_result"
    }
   ],
   "source": [
    "life_expectancy_melt.isna().sum()"
   ],
   "metadata": {
    "collapsed": false,
    "ExecuteTime": {
     "end_time": "2024-07-11T13:39:43.767020400Z",
     "start_time": "2024-07-11T13:39:43.727054600Z"
    }
   },
   "id": "53f2aee40c878171",
   "execution_count": 160
  },
  {
   "cell_type": "code",
   "outputs": [],
   "source": [
    "life_expectancy_melt.dropna(subset=['life_expectancy'], inplace=True)"
   ],
   "metadata": {
    "collapsed": false,
    "ExecuteTime": {
     "end_time": "2024-07-11T13:39:47.167473Z",
     "start_time": "2024-07-11T13:39:47.102315300Z"
    }
   },
   "id": "83e3b3a064b28f1e",
   "execution_count": 161
  },
  {
   "cell_type": "code",
   "outputs": [],
   "source": [
    "metadata.rename(columns={'TableName':'Country Name'},inplace=True)"
   ],
   "metadata": {
    "collapsed": false,
    "ExecuteTime": {
     "end_time": "2024-07-11T13:39:49.773780Z",
     "start_time": "2024-07-11T13:39:49.736734200Z"
    }
   },
   "id": "e547be0bbdaa78e8",
   "execution_count": 162
  },
  {
   "cell_type": "code",
   "outputs": [
    {
     "data": {
      "text/plain": "Region\nEurope & Central Asia         58\nSub-Saharan Africa            48\nLatin America & Caribbean     42\nEast Asia & Pacific           37\nMiddle East & North Africa    21\nSouth Asia                     8\nNorth America                  3\nName: count, dtype: int64"
     },
     "execution_count": 163,
     "metadata": {},
     "output_type": "execute_result"
    }
   ],
   "source": [
    "metadata['Region'].value_counts()"
   ],
   "metadata": {
    "collapsed": false,
    "ExecuteTime": {
     "end_time": "2024-07-11T13:39:50.576542900Z",
     "start_time": "2024-07-11T13:39:50.558054100Z"
    }
   },
   "id": "ea7e7456ca0c7818",
   "execution_count": 163
  },
  {
   "cell_type": "code",
   "outputs": [],
   "source": [
    "metadata.drop(columns=['IncomeGroup','SpecialNotes','Unnamed: 5'], inplace=True)"
   ],
   "metadata": {
    "collapsed": false,
    "ExecuteTime": {
     "end_time": "2024-07-11T13:39:53.721565900Z",
     "start_time": "2024-07-11T13:39:53.686435700Z"
    }
   },
   "id": "11655aba01e56d4d",
   "execution_count": 164
  },
  {
   "cell_type": "code",
   "outputs": [],
   "source": [
    "fertility_rate_melt.rename(columns= {'year' : 'Year'}, inplace=True)"
   ],
   "metadata": {
    "collapsed": false,
    "ExecuteTime": {
     "end_time": "2024-07-11T13:39:56.274865900Z",
     "start_time": "2024-07-11T13:39:56.238533800Z"
    }
   },
   "id": "293936f0d5434df5",
   "execution_count": 165
  },
  {
   "cell_type": "code",
   "outputs": [
    {
     "data": {
      "text/plain": "(14885, 4)"
     },
     "execution_count": 166,
     "metadata": {},
     "output_type": "execute_result"
    }
   ],
   "source": [
    "country_population_melt.shape"
   ],
   "metadata": {
    "collapsed": false,
    "ExecuteTime": {
     "end_time": "2024-07-11T13:39:59.084989400Z",
     "start_time": "2024-07-11T13:39:59.049228500Z"
    }
   },
   "id": "79b7234cd431fbe0",
   "execution_count": 166
  },
  {
   "cell_type": "code",
   "outputs": [
    {
     "data": {
      "text/plain": "(13770, 4)"
     },
     "execution_count": 167,
     "metadata": {},
     "output_type": "execute_result"
    }
   ],
   "source": [
    "fertility_rate_melt.shape"
   ],
   "metadata": {
    "collapsed": false,
    "ExecuteTime": {
     "end_time": "2024-07-11T13:40:01.016206900Z",
     "start_time": "2024-07-11T13:40:00.979368800Z"
    }
   },
   "id": "cf33cc9303256663",
   "execution_count": 167
  },
  {
   "cell_type": "markdown",
   "source": [
    "# Merging Country_population and Fertility_rate"
   ],
   "metadata": {
    "collapsed": false
   },
   "id": "713d617e8bd4a39c"
  },
  {
   "cell_type": "code",
   "outputs": [],
   "source": [
    "merge1 = pd.merge(country_population_melt, fertility_rate_melt, on=['Country Name','Country Code','Year'], how='left')"
   ],
   "metadata": {
    "collapsed": false,
    "ExecuteTime": {
     "end_time": "2024-07-11T13:40:37.296769100Z",
     "start_time": "2024-07-11T13:40:37.262330400Z"
    }
   },
   "id": "2ba690225934bcc9",
   "execution_count": 168
  },
  {
   "cell_type": "code",
   "outputs": [
    {
     "data": {
      "text/plain": "       Country Name Country Code  Year  Population  Fertility Rate\n0             Aruba          ABW  1960     54211.0           4.820\n1       Afghanistan          AFG  1960   8996351.0           7.450\n2            Angola          AGO  1960   5643182.0           7.478\n3           Albania          ALB  1960   1608800.0           6.489\n4           Andorra          AND  1960     13411.0             NaN\n...             ...          ...   ...         ...             ...\n14880        Kosovo          XKX  2016   1816200.0           2.060\n14881   Yemen, Rep.          YEM  2016  27584213.0           3.995\n14882  South Africa          ZAF  2016  56015473.0           2.458\n14883        Zambia          ZMB  2016  16591390.0           4.981\n14884      Zimbabwe          ZWE  2016  16150362.0           3.760\n\n[14885 rows x 5 columns]",
      "text/html": "<div>\n<style scoped>\n    .dataframe tbody tr th:only-of-type {\n        vertical-align: middle;\n    }\n\n    .dataframe tbody tr th {\n        vertical-align: top;\n    }\n\n    .dataframe thead th {\n        text-align: right;\n    }\n</style>\n<table border=\"1\" class=\"dataframe\">\n  <thead>\n    <tr style=\"text-align: right;\">\n      <th></th>\n      <th>Country Name</th>\n      <th>Country Code</th>\n      <th>Year</th>\n      <th>Population</th>\n      <th>Fertility Rate</th>\n    </tr>\n  </thead>\n  <tbody>\n    <tr>\n      <th>0</th>\n      <td>Aruba</td>\n      <td>ABW</td>\n      <td>1960</td>\n      <td>54211.0</td>\n      <td>4.820</td>\n    </tr>\n    <tr>\n      <th>1</th>\n      <td>Afghanistan</td>\n      <td>AFG</td>\n      <td>1960</td>\n      <td>8996351.0</td>\n      <td>7.450</td>\n    </tr>\n    <tr>\n      <th>2</th>\n      <td>Angola</td>\n      <td>AGO</td>\n      <td>1960</td>\n      <td>5643182.0</td>\n      <td>7.478</td>\n    </tr>\n    <tr>\n      <th>3</th>\n      <td>Albania</td>\n      <td>ALB</td>\n      <td>1960</td>\n      <td>1608800.0</td>\n      <td>6.489</td>\n    </tr>\n    <tr>\n      <th>4</th>\n      <td>Andorra</td>\n      <td>AND</td>\n      <td>1960</td>\n      <td>13411.0</td>\n      <td>NaN</td>\n    </tr>\n    <tr>\n      <th>...</th>\n      <td>...</td>\n      <td>...</td>\n      <td>...</td>\n      <td>...</td>\n      <td>...</td>\n    </tr>\n    <tr>\n      <th>14880</th>\n      <td>Kosovo</td>\n      <td>XKX</td>\n      <td>2016</td>\n      <td>1816200.0</td>\n      <td>2.060</td>\n    </tr>\n    <tr>\n      <th>14881</th>\n      <td>Yemen, Rep.</td>\n      <td>YEM</td>\n      <td>2016</td>\n      <td>27584213.0</td>\n      <td>3.995</td>\n    </tr>\n    <tr>\n      <th>14882</th>\n      <td>South Africa</td>\n      <td>ZAF</td>\n      <td>2016</td>\n      <td>56015473.0</td>\n      <td>2.458</td>\n    </tr>\n    <tr>\n      <th>14883</th>\n      <td>Zambia</td>\n      <td>ZMB</td>\n      <td>2016</td>\n      <td>16591390.0</td>\n      <td>4.981</td>\n    </tr>\n    <tr>\n      <th>14884</th>\n      <td>Zimbabwe</td>\n      <td>ZWE</td>\n      <td>2016</td>\n      <td>16150362.0</td>\n      <td>3.760</td>\n    </tr>\n  </tbody>\n</table>\n<p>14885 rows × 5 columns</p>\n</div>"
     },
     "execution_count": 169,
     "metadata": {},
     "output_type": "execute_result"
    }
   ],
   "source": [
    "merge1"
   ],
   "metadata": {
    "collapsed": false,
    "ExecuteTime": {
     "end_time": "2024-07-11T13:40:41.195083700Z",
     "start_time": "2024-07-11T13:40:41.163007600Z"
    }
   },
   "id": "8da3afd177302a77",
   "execution_count": 169
  },
  {
   "cell_type": "code",
   "outputs": [
    {
     "data": {
      "text/plain": "(14885, 5)"
     },
     "execution_count": 170,
     "metadata": {},
     "output_type": "execute_result"
    }
   ],
   "source": [
    "merge1.shape"
   ],
   "metadata": {
    "collapsed": false,
    "ExecuteTime": {
     "end_time": "2024-07-11T13:40:45.167980300Z",
     "start_time": "2024-07-11T13:40:45.110632600Z"
    }
   },
   "id": "8b07526adde5cf75",
   "execution_count": 170
  },
  {
   "cell_type": "code",
   "outputs": [
    {
     "data": {
      "text/plain": "Country Name         0\nCountry Code         0\nYear                 0\nPopulation           0\nFertility Rate    1127\ndtype: int64"
     },
     "execution_count": 171,
     "metadata": {},
     "output_type": "execute_result"
    }
   ],
   "source": [
    "merge1.isna().sum()"
   ],
   "metadata": {
    "collapsed": false,
    "ExecuteTime": {
     "end_time": "2024-07-11T13:40:45.983484500Z",
     "start_time": "2024-07-11T13:40:45.946655700Z"
    }
   },
   "id": "724a449203dd4b20",
   "execution_count": 171
  },
  {
   "cell_type": "code",
   "outputs": [],
   "source": [
    "#metadata.dropna(subset=['Region'],inplace=True)"
   ],
   "metadata": {
    "collapsed": false,
    "ExecuteTime": {
     "end_time": "2024-07-11T13:41:03.841405900Z",
     "start_time": "2024-07-11T13:41:03.821156400Z"
    }
   },
   "id": "8c6871842b804db8",
   "execution_count": 172
  },
  {
   "cell_type": "code",
   "outputs": [
    {
     "data": {
      "text/plain": "Country Code     0\nRegion          46\nCountry Name     0\ndtype: int64"
     },
     "execution_count": 173,
     "metadata": {},
     "output_type": "execute_result"
    }
   ],
   "source": [
    "metadata.isna().sum()"
   ],
   "metadata": {
    "collapsed": false,
    "ExecuteTime": {
     "end_time": "2024-07-11T13:41:08.628878300Z",
     "start_time": "2024-07-11T13:41:08.589565300Z"
    }
   },
   "id": "a8c71d54005ac1e5",
   "execution_count": 173
  },
  {
   "cell_type": "markdown",
   "source": [
    "# Merging Life_expectancy and meta data"
   ],
   "metadata": {
    "collapsed": false
   },
   "id": "5f4ca4791b94c1bd"
  },
  {
   "cell_type": "code",
   "outputs": [],
   "source": [
    "merge2 = pd.merge(life_expectancy_melt, metadata, on=[\"Country Code\",\"Country Name\"], how='left')"
   ],
   "metadata": {
    "collapsed": false,
    "ExecuteTime": {
     "end_time": "2024-07-11T13:41:47.315563100Z",
     "start_time": "2024-07-11T13:41:47.268330Z"
    }
   },
   "id": "7d4da056673d6b4d",
   "execution_count": 174
  },
  {
   "cell_type": "code",
   "outputs": [
    {
     "data": {
      "text/plain": "       Country Name Country Code  year  life_expectancy  \\\n0             Aruba          ABW  1960        65.662000   \n1       Afghanistan          AFG  1960        32.292000   \n2            Angola          AGO  1960        33.251000   \n3           Albania          ALB  1960        62.279000   \n4        Arab World          ARB  1960        46.825065   \n...             ...          ...   ...              ...   \n13742        Kosovo          XKX  2016        71.646341   \n13743   Yemen, Rep.          YEM  2016        64.953000   \n13744  South Africa          ZAF  2016        62.774000   \n13745        Zambia          ZMB  2016        61.874000   \n13746      Zimbabwe          ZWE  2016        61.163000   \n\n                           Region  \n0       Latin America & Caribbean  \n1                      South Asia  \n2              Sub-Saharan Africa  \n3           Europe & Central Asia  \n4                             NaN  \n...                           ...  \n13742       Europe & Central Asia  \n13743  Middle East & North Africa  \n13744          Sub-Saharan Africa  \n13745          Sub-Saharan Africa  \n13746          Sub-Saharan Africa  \n\n[13747 rows x 5 columns]",
      "text/html": "<div>\n<style scoped>\n    .dataframe tbody tr th:only-of-type {\n        vertical-align: middle;\n    }\n\n    .dataframe tbody tr th {\n        vertical-align: top;\n    }\n\n    .dataframe thead th {\n        text-align: right;\n    }\n</style>\n<table border=\"1\" class=\"dataframe\">\n  <thead>\n    <tr style=\"text-align: right;\">\n      <th></th>\n      <th>Country Name</th>\n      <th>Country Code</th>\n      <th>year</th>\n      <th>life_expectancy</th>\n      <th>Region</th>\n    </tr>\n  </thead>\n  <tbody>\n    <tr>\n      <th>0</th>\n      <td>Aruba</td>\n      <td>ABW</td>\n      <td>1960</td>\n      <td>65.662000</td>\n      <td>Latin America &amp; Caribbean</td>\n    </tr>\n    <tr>\n      <th>1</th>\n      <td>Afghanistan</td>\n      <td>AFG</td>\n      <td>1960</td>\n      <td>32.292000</td>\n      <td>South Asia</td>\n    </tr>\n    <tr>\n      <th>2</th>\n      <td>Angola</td>\n      <td>AGO</td>\n      <td>1960</td>\n      <td>33.251000</td>\n      <td>Sub-Saharan Africa</td>\n    </tr>\n    <tr>\n      <th>3</th>\n      <td>Albania</td>\n      <td>ALB</td>\n      <td>1960</td>\n      <td>62.279000</td>\n      <td>Europe &amp; Central Asia</td>\n    </tr>\n    <tr>\n      <th>4</th>\n      <td>Arab World</td>\n      <td>ARB</td>\n      <td>1960</td>\n      <td>46.825065</td>\n      <td>NaN</td>\n    </tr>\n    <tr>\n      <th>...</th>\n      <td>...</td>\n      <td>...</td>\n      <td>...</td>\n      <td>...</td>\n      <td>...</td>\n    </tr>\n    <tr>\n      <th>13742</th>\n      <td>Kosovo</td>\n      <td>XKX</td>\n      <td>2016</td>\n      <td>71.646341</td>\n      <td>Europe &amp; Central Asia</td>\n    </tr>\n    <tr>\n      <th>13743</th>\n      <td>Yemen, Rep.</td>\n      <td>YEM</td>\n      <td>2016</td>\n      <td>64.953000</td>\n      <td>Middle East &amp; North Africa</td>\n    </tr>\n    <tr>\n      <th>13744</th>\n      <td>South Africa</td>\n      <td>ZAF</td>\n      <td>2016</td>\n      <td>62.774000</td>\n      <td>Sub-Saharan Africa</td>\n    </tr>\n    <tr>\n      <th>13745</th>\n      <td>Zambia</td>\n      <td>ZMB</td>\n      <td>2016</td>\n      <td>61.874000</td>\n      <td>Sub-Saharan Africa</td>\n    </tr>\n    <tr>\n      <th>13746</th>\n      <td>Zimbabwe</td>\n      <td>ZWE</td>\n      <td>2016</td>\n      <td>61.163000</td>\n      <td>Sub-Saharan Africa</td>\n    </tr>\n  </tbody>\n</table>\n<p>13747 rows × 5 columns</p>\n</div>"
     },
     "execution_count": 175,
     "metadata": {},
     "output_type": "execute_result"
    }
   ],
   "source": [
    "merge2"
   ],
   "metadata": {
    "collapsed": false,
    "ExecuteTime": {
     "end_time": "2024-07-11T13:41:47.812185700Z",
     "start_time": "2024-07-11T13:41:47.777103800Z"
    }
   },
   "id": "5e702d45f9804a9d",
   "execution_count": 175
  },
  {
   "cell_type": "code",
   "outputs": [
    {
     "data": {
      "text/plain": "(13747, 5)"
     },
     "execution_count": 176,
     "metadata": {},
     "output_type": "execute_result"
    }
   ],
   "source": [
    "merge2.shape"
   ],
   "metadata": {
    "collapsed": false,
    "ExecuteTime": {
     "end_time": "2024-07-11T13:41:48.745326Z",
     "start_time": "2024-07-11T13:41:48.696949700Z"
    }
   },
   "id": "abbd50fc6c895e9",
   "execution_count": 176
  },
  {
   "cell_type": "code",
   "outputs": [],
   "source": [
    "merge2.rename(columns={'year':'Year'},inplace=True)"
   ],
   "metadata": {
    "collapsed": false,
    "ExecuteTime": {
     "end_time": "2024-07-11T13:43:08.692195800Z",
     "start_time": "2024-07-11T13:43:08.654932900Z"
    }
   },
   "id": "57c9d85e6f632fa4",
   "execution_count": 188
  },
  {
   "cell_type": "markdown",
   "source": [
    "# Merging merge1 and merge2 "
   ],
   "metadata": {
    "collapsed": false
   },
   "id": "88606c4186a81f4b"
  },
  {
   "cell_type": "code",
   "outputs": [],
   "source": [
    "df=pd.merge(left=merge1, right=merge2, on=['Country Code','Country Name','Year'], how='left')"
   ],
   "metadata": {
    "collapsed": false,
    "ExecuteTime": {
     "end_time": "2024-07-11T14:09:52.981310300Z",
     "start_time": "2024-07-11T14:09:52.907691400Z"
    }
   },
   "id": "18972abb70993d10",
   "execution_count": 218
  },
  {
   "cell_type": "code",
   "outputs": [
    {
     "data": {
      "text/plain": "       Country Name Country Code  Year  Population  Fertility Rate  \\\n0             Aruba          ABW  1960     54211.0           4.820   \n1       Afghanistan          AFG  1960   8996351.0           7.450   \n2            Angola          AGO  1960   5643182.0           7.478   \n3           Albania          ALB  1960   1608800.0           6.489   \n4           Andorra          AND  1960     13411.0             NaN   \n...             ...          ...   ...         ...             ...   \n14880        Kosovo          XKX  2016   1816200.0           2.060   \n14881   Yemen, Rep.          YEM  2016  27584213.0           3.995   \n14882  South Africa          ZAF  2016  56015473.0           2.458   \n14883        Zambia          ZMB  2016  16591390.0           4.981   \n14884      Zimbabwe          ZWE  2016  16150362.0           3.760   \n\n       life_expectancy                      Region  \n0            65.662000   Latin America & Caribbean  \n1            32.292000                  South Asia  \n2            33.251000          Sub-Saharan Africa  \n3            62.279000       Europe & Central Asia  \n4                  NaN                         NaN  \n...                ...                         ...  \n14880        71.646341       Europe & Central Asia  \n14881        64.953000  Middle East & North Africa  \n14882        62.774000          Sub-Saharan Africa  \n14883        61.874000          Sub-Saharan Africa  \n14884        61.163000          Sub-Saharan Africa  \n\n[14885 rows x 7 columns]",
      "text/html": "<div>\n<style scoped>\n    .dataframe tbody tr th:only-of-type {\n        vertical-align: middle;\n    }\n\n    .dataframe tbody tr th {\n        vertical-align: top;\n    }\n\n    .dataframe thead th {\n        text-align: right;\n    }\n</style>\n<table border=\"1\" class=\"dataframe\">\n  <thead>\n    <tr style=\"text-align: right;\">\n      <th></th>\n      <th>Country Name</th>\n      <th>Country Code</th>\n      <th>Year</th>\n      <th>Population</th>\n      <th>Fertility Rate</th>\n      <th>life_expectancy</th>\n      <th>Region</th>\n    </tr>\n  </thead>\n  <tbody>\n    <tr>\n      <th>0</th>\n      <td>Aruba</td>\n      <td>ABW</td>\n      <td>1960</td>\n      <td>54211.0</td>\n      <td>4.820</td>\n      <td>65.662000</td>\n      <td>Latin America &amp; Caribbean</td>\n    </tr>\n    <tr>\n      <th>1</th>\n      <td>Afghanistan</td>\n      <td>AFG</td>\n      <td>1960</td>\n      <td>8996351.0</td>\n      <td>7.450</td>\n      <td>32.292000</td>\n      <td>South Asia</td>\n    </tr>\n    <tr>\n      <th>2</th>\n      <td>Angola</td>\n      <td>AGO</td>\n      <td>1960</td>\n      <td>5643182.0</td>\n      <td>7.478</td>\n      <td>33.251000</td>\n      <td>Sub-Saharan Africa</td>\n    </tr>\n    <tr>\n      <th>3</th>\n      <td>Albania</td>\n      <td>ALB</td>\n      <td>1960</td>\n      <td>1608800.0</td>\n      <td>6.489</td>\n      <td>62.279000</td>\n      <td>Europe &amp; Central Asia</td>\n    </tr>\n    <tr>\n      <th>4</th>\n      <td>Andorra</td>\n      <td>AND</td>\n      <td>1960</td>\n      <td>13411.0</td>\n      <td>NaN</td>\n      <td>NaN</td>\n      <td>NaN</td>\n    </tr>\n    <tr>\n      <th>...</th>\n      <td>...</td>\n      <td>...</td>\n      <td>...</td>\n      <td>...</td>\n      <td>...</td>\n      <td>...</td>\n      <td>...</td>\n    </tr>\n    <tr>\n      <th>14880</th>\n      <td>Kosovo</td>\n      <td>XKX</td>\n      <td>2016</td>\n      <td>1816200.0</td>\n      <td>2.060</td>\n      <td>71.646341</td>\n      <td>Europe &amp; Central Asia</td>\n    </tr>\n    <tr>\n      <th>14881</th>\n      <td>Yemen, Rep.</td>\n      <td>YEM</td>\n      <td>2016</td>\n      <td>27584213.0</td>\n      <td>3.995</td>\n      <td>64.953000</td>\n      <td>Middle East &amp; North Africa</td>\n    </tr>\n    <tr>\n      <th>14882</th>\n      <td>South Africa</td>\n      <td>ZAF</td>\n      <td>2016</td>\n      <td>56015473.0</td>\n      <td>2.458</td>\n      <td>62.774000</td>\n      <td>Sub-Saharan Africa</td>\n    </tr>\n    <tr>\n      <th>14883</th>\n      <td>Zambia</td>\n      <td>ZMB</td>\n      <td>2016</td>\n      <td>16591390.0</td>\n      <td>4.981</td>\n      <td>61.874000</td>\n      <td>Sub-Saharan Africa</td>\n    </tr>\n    <tr>\n      <th>14884</th>\n      <td>Zimbabwe</td>\n      <td>ZWE</td>\n      <td>2016</td>\n      <td>16150362.0</td>\n      <td>3.760</td>\n      <td>61.163000</td>\n      <td>Sub-Saharan Africa</td>\n    </tr>\n  </tbody>\n</table>\n<p>14885 rows × 7 columns</p>\n</div>"
     },
     "execution_count": 219,
     "metadata": {},
     "output_type": "execute_result"
    }
   ],
   "source": [
    "df"
   ],
   "metadata": {
    "collapsed": false,
    "ExecuteTime": {
     "end_time": "2024-07-11T14:09:54.005875600Z",
     "start_time": "2024-07-11T14:09:53.936608800Z"
    }
   },
   "id": "f6f9c1e4e7a28daa",
   "execution_count": 219
  },
  {
   "cell_type": "code",
   "outputs": [
    {
     "data": {
      "text/plain": "(14885, 7)"
     },
     "execution_count": 220,
     "metadata": {},
     "output_type": "execute_result"
    }
   ],
   "source": [
    "df.shape"
   ],
   "metadata": {
    "collapsed": false,
    "ExecuteTime": {
     "end_time": "2024-07-11T14:09:55.906672300Z",
     "start_time": "2024-07-11T14:09:55.814451Z"
    }
   },
   "id": "5f2117314fcc04de",
   "execution_count": 220
  },
  {
   "cell_type": "code",
   "outputs": [
    {
     "name": "stdout",
     "output_type": "stream",
     "text": [
      "<class 'pandas.core.frame.DataFrame'>\n",
      "RangeIndex: 14885 entries, 0 to 14884\n",
      "Data columns (total 7 columns):\n",
      " #   Column           Non-Null Count  Dtype  \n",
      "---  ------           --------------  -----  \n",
      " 0   Country Name     14885 non-null  object \n",
      " 1   Country Code     14885 non-null  object \n",
      " 2   Year             14885 non-null  int64  \n",
      " 3   Population       14885 non-null  float64\n",
      " 4   Fertility Rate   13758 non-null  float64\n",
      " 5   life_expectancy  13739 non-null  float64\n",
      " 6   Region           10939 non-null  object \n",
      "dtypes: float64(3), int64(1), object(3)\n",
      "memory usage: 814.2+ KB\n"
     ]
    }
   ],
   "source": [
    "df.info()"
   ],
   "metadata": {
    "collapsed": false,
    "ExecuteTime": {
     "end_time": "2024-07-11T14:09:59.856573700Z",
     "start_time": "2024-07-11T14:09:59.802342400Z"
    }
   },
   "id": "55980aceb47ad20f",
   "execution_count": 221
  },
  {
   "cell_type": "code",
   "outputs": [
    {
     "data": {
      "text/plain": "Country Name          0\nCountry Code          0\nYear                  0\nPopulation            0\nFertility Rate     1127\nlife_expectancy    1146\nRegion             3946\ndtype: int64"
     },
     "execution_count": 222,
     "metadata": {},
     "output_type": "execute_result"
    }
   ],
   "source": [
    "df.isna().sum()"
   ],
   "metadata": {
    "collapsed": false,
    "ExecuteTime": {
     "end_time": "2024-07-11T14:10:00.485502200Z",
     "start_time": "2024-07-11T14:10:00.450307100Z"
    }
   },
   "id": "c7c1f000a0074f8",
   "execution_count": 222
  },
  {
   "cell_type": "code",
   "outputs": [],
   "source": [
    "df.dropna(subset=['life_expectancy','Fertility Rate'], inplace=True)"
   ],
   "metadata": {
    "collapsed": false,
    "ExecuteTime": {
     "end_time": "2024-07-11T14:10:01.550045400Z",
     "start_time": "2024-07-11T14:10:01.486573600Z"
    }
   },
   "id": "97cc63ef90c99cda",
   "execution_count": 223
  },
  {
   "cell_type": "code",
   "outputs": [
    {
     "data": {
      "text/plain": "Country Name          0\nCountry Code          0\nYear                  0\nPopulation            0\nFertility Rate        0\nlife_expectancy       0\nRegion             2800\ndtype: int64"
     },
     "execution_count": 224,
     "metadata": {},
     "output_type": "execute_result"
    }
   ],
   "source": [
    "df.isna().sum()"
   ],
   "metadata": {
    "collapsed": false,
    "ExecuteTime": {
     "end_time": "2024-07-11T14:10:02.381874300Z",
     "start_time": "2024-07-11T14:10:02.307365300Z"
    }
   },
   "id": "bba3ca1376c54136",
   "execution_count": 224
  },
  {
   "cell_type": "code",
   "outputs": [
    {
     "data": {
      "text/plain": "Country Name\nArab World                                              57\nCentral Europe and the Baltics                          57\nCote d'Ivoire                                           57\nCaribbean small states                                  57\nEast Asia & Pacific (excluding high income)             57\nEarly-demographic dividend                              57\nEast Asia & Pacific                                     57\nEurope & Central Asia (excluding high income)           57\nEurope & Central Asia                                   57\nEuro area                                               57\nEuropean Union                                          57\nFragile and conflict affected situations                57\nHigh income                                             57\nHeavily indebted poor countries (HIPC)                  57\nIBRD only                                               57\nIDA & IBRD total                                        57\nIDA total                                               57\nIDA blend                                               57\nIDA only                                                57\nLatin America & Caribbean (excluding high income)       57\nLatin America & Caribbean                               57\nLeast developed countries: UN classification            57\nLow income                                              57\nLower middle income                                     57\nLow & middle income                                     57\nLate-demographic dividend                               57\nMiddle East & North Africa                              57\nMiddle income                                           57\nMiddle East & North Africa (excluding high income)      57\nNorth America                                           57\nOECD members                                            57\nOther small states                                      57\nPre-demographic dividend                                57\nKorea, Dem. People’s Rep.                               57\nPacific island small states                             57\nPost-demographic dividend                               57\nSouth Asia                                              57\nSub-Saharan Africa (excluding high income)              57\nSub-Saharan Africa                                      57\nSmall states                                            57\nSao Tome and Principe                                   57\nEast Asia & Pacific (IDA & IBRD countries)              57\nEurope & Central Asia (IDA & IBRD countries)            57\nLatin America & the Caribbean (IDA & IBRD countries)    57\nMiddle East & North Africa (IDA & IBRD countries)       57\nSouth Asia (IDA & IBRD)                                 57\nSub-Saharan Africa (IDA & IBRD countries)               57\nUpper middle income                                     57\nWorld                                                   57\nCuracao                                                  7\nName: count, dtype: int64"
     },
     "execution_count": 225,
     "metadata": {},
     "output_type": "execute_result"
    }
   ],
   "source": [
    "df[df['Region'].isna()]['Country Name'].value_counts()"
   ],
   "metadata": {
    "collapsed": false,
    "ExecuteTime": {
     "end_time": "2024-07-11T14:10:03.369026900Z",
     "start_time": "2024-07-11T14:10:03.237535100Z"
    }
   },
   "id": "5019a0e37be024fc",
   "execution_count": 225
  },
  {
   "cell_type": "code",
   "outputs": [
    {
     "data": {
      "text/plain": "array(['Latin America & Caribbean', 'South Asia', 'Sub-Saharan Africa',\n       'Europe & Central Asia', nan, 'Middle East & North Africa',\n       'East Asia & Pacific', 'North America'], dtype=object)"
     },
     "execution_count": 226,
     "metadata": {},
     "output_type": "execute_result"
    }
   ],
   "source": [
    "df['Region'].unique()"
   ],
   "metadata": {
    "collapsed": false,
    "ExecuteTime": {
     "end_time": "2024-07-11T14:10:04.766579700Z",
     "start_time": "2024-07-11T14:10:04.706669600Z"
    }
   },
   "id": "8938a9d0fa1a750f",
   "execution_count": 226
  },
  {
   "cell_type": "code",
   "outputs": [],
   "source": [
    "country_to_region = {\n",
    "    'Arab World': 'Middle East & North Africa',\n",
    "    'Central Europe and the Baltics': 'Europe & Central Asia',\n",
    "    'Cote d\\'Ivoire': 'Sub-Saharan Africa',\n",
    "    'Caribbean small states': 'Latin America & Caribbean',\n",
    "    'East Asia & Pacific': 'East Asia & Pacific',\n",
    "    'Europe & Central Asia': 'Europe & Central Asia',\n",
    "    'Euro area': 'Europe & Central Asia',\n",
    "    'European Union': 'Europe & Central Asia',\n",
    "    'Latin America & Caribbean': 'Latin America & Caribbean',\n",
    "    'Middle East & North Africa': 'Middle East & North Africa',\n",
    "    'North America': 'North America',\n",
    "    'Korea, Dem. People’s Rep.': 'East Asia & Pacific',\n",
    "    'South Asia': 'South Asia',\n",
    "    'Sub-Saharan Africa': 'Sub-Saharan Africa',\n",
    "    'Sao Tome and Principe': 'Sub-Saharan Africa',\n",
    "    'Curacao': 'Latin America & Caribbean'\n",
    "}"
   ],
   "metadata": {
    "collapsed": false,
    "ExecuteTime": {
     "end_time": "2024-07-11T14:10:05.436204Z",
     "start_time": "2024-07-11T14:10:05.356107700Z"
    }
   },
   "id": "d8f97671b1de1c31",
   "execution_count": 227
  },
  {
   "cell_type": "code",
   "outputs": [],
   "source": [
    "standard_country_names = set(country_to_region.keys())"
   ],
   "metadata": {
    "collapsed": false,
    "ExecuteTime": {
     "end_time": "2024-07-11T14:10:06.188280300Z",
     "start_time": "2024-07-11T14:10:06.136704200Z"
    }
   },
   "id": "fa632900804d1180",
   "execution_count": 228
  },
  {
   "cell_type": "code",
   "outputs": [
    {
     "name": "stdout",
     "output_type": "stream",
     "text": [
      "{'Curacao', 'North America', 'East Asia & Pacific', 'Middle East & North Africa', 'South Asia', 'Sao Tome and Principe', 'Latin America & Caribbean', 'Caribbean small states', 'Korea, Dem. People’s Rep.', 'Sub-Saharan Africa', 'Arab World', 'European Union', 'Euro area', 'Central Europe and the Baltics', \"Cote d'Ivoire\", 'Europe & Central Asia'}\n"
     ]
    }
   ],
   "source": [
    "print(standard_country_names)"
   ],
   "metadata": {
    "collapsed": false,
    "ExecuteTime": {
     "end_time": "2024-07-11T14:10:06.578023600Z",
     "start_time": "2024-07-11T14:10:06.542933700Z"
    }
   },
   "id": "98b81caef6182ccd",
   "execution_count": 229
  },
  {
   "cell_type": "code",
   "outputs": [],
   "source": [
    "df['Region'] = df.apply(\n",
    "    lambda row: country_to_region.get(row['Country Name'], row['Region']) \n",
    "    if row['Country Name'] in standard_country_names else row['Region'], axis=1)"
   ],
   "metadata": {
    "collapsed": false,
    "ExecuteTime": {
     "end_time": "2024-07-11T14:10:07.478802200Z",
     "start_time": "2024-07-11T14:10:07.328445400Z"
    }
   },
   "id": "723514cea52bb779",
   "execution_count": 230
  },
  {
   "cell_type": "code",
   "outputs": [
    {
     "data": {
      "text/plain": "Country Name\nEast Asia & Pacific (excluding high income)             57\nEarly-demographic dividend                              57\nEurope & Central Asia (excluding high income)           57\nFragile and conflict affected situations                57\nHigh income                                             57\nHeavily indebted poor countries (HIPC)                  57\nIBRD only                                               57\nIDA & IBRD total                                        57\nIDA total                                               57\nIDA blend                                               57\nIDA only                                                57\nLatin America & Caribbean (excluding high income)       57\nLeast developed countries: UN classification            57\nLow income                                              57\nLower middle income                                     57\nLow & middle income                                     57\nLate-demographic dividend                               57\nMiddle income                                           57\nMiddle East & North Africa (excluding high income)      57\nOECD members                                            57\nOther small states                                      57\nPre-demographic dividend                                57\nPacific island small states                             57\nPost-demographic dividend                               57\nSub-Saharan Africa (excluding high income)              57\nSmall states                                            57\nEast Asia & Pacific (IDA & IBRD countries)              57\nEurope & Central Asia (IDA & IBRD countries)            57\nLatin America & the Caribbean (IDA & IBRD countries)    57\nMiddle East & North Africa (IDA & IBRD countries)       57\nSouth Asia (IDA & IBRD)                                 57\nSub-Saharan Africa (IDA & IBRD countries)               57\nUpper middle income                                     57\nWorld                                                   57\nName: count, dtype: int64"
     },
     "execution_count": 231,
     "metadata": {},
     "output_type": "execute_result"
    }
   ],
   "source": [
    "df[df['Region'].isna()]['Country Name'].value_counts()"
   ],
   "metadata": {
    "collapsed": false,
    "ExecuteTime": {
     "end_time": "2024-07-11T14:10:07.960196600Z",
     "start_time": "2024-07-11T14:10:07.913118200Z"
    }
   },
   "id": "8a2030ee797b1d21",
   "execution_count": 231
  },
  {
   "cell_type": "code",
   "outputs": [
    {
     "data": {
      "text/plain": "Country Name          0\nCountry Code          0\nYear                  0\nPopulation            0\nFertility Rate        0\nlife_expectancy       0\nRegion             1938\ndtype: int64"
     },
     "execution_count": 232,
     "metadata": {},
     "output_type": "execute_result"
    }
   ],
   "source": [
    "df.isna().sum()"
   ],
   "metadata": {
    "collapsed": false,
    "ExecuteTime": {
     "end_time": "2024-07-11T14:10:08.642205900Z",
     "start_time": "2024-07-11T14:10:08.624013600Z"
    }
   },
   "id": "daff342a852cb755",
   "execution_count": 232
  },
  {
   "cell_type": "code",
   "outputs": [],
   "source": [
    "df.dropna(subset=['Region'], inplace=True)"
   ],
   "metadata": {
    "collapsed": false,
    "ExecuteTime": {
     "end_time": "2024-07-11T14:10:09.310094100Z",
     "start_time": "2024-07-11T14:10:09.288343500Z"
    }
   },
   "id": "f6e30b22543d599a",
   "execution_count": 233
  },
  {
   "cell_type": "code",
   "outputs": [
    {
     "data": {
      "text/plain": "Country Name       0\nCountry Code       0\nYear               0\nPopulation         0\nFertility Rate     0\nlife_expectancy    0\nRegion             0\ndtype: int64"
     },
     "execution_count": 234,
     "metadata": {},
     "output_type": "execute_result"
    }
   ],
   "source": [
    "df.isna().sum()"
   ],
   "metadata": {
    "collapsed": false,
    "ExecuteTime": {
     "end_time": "2024-07-11T14:10:14.047926100Z",
     "start_time": "2024-07-11T14:10:13.977125400Z"
    }
   },
   "id": "18f65c79e5756b31",
   "execution_count": 234
  },
  {
   "cell_type": "code",
   "outputs": [
    {
     "name": "stdout",
     "output_type": "stream",
     "text": [
      "<class 'pandas.core.frame.DataFrame'>\n",
      "Index: 11772 entries, 0 to 14884\n",
      "Data columns (total 7 columns):\n",
      " #   Column           Non-Null Count  Dtype  \n",
      "---  ------           --------------  -----  \n",
      " 0   Country Name     11772 non-null  object \n",
      " 1   Country Code     11772 non-null  object \n",
      " 2   Year             11772 non-null  int64  \n",
      " 3   Population       11772 non-null  float64\n",
      " 4   Fertility Rate   11772 non-null  float64\n",
      " 5   life_expectancy  11772 non-null  float64\n",
      " 6   Region           11772 non-null  object \n",
      "dtypes: float64(3), int64(1), object(3)\n",
      "memory usage: 735.8+ KB\n"
     ]
    }
   ],
   "source": [
    "df.info()"
   ],
   "metadata": {
    "collapsed": false,
    "ExecuteTime": {
     "end_time": "2024-07-11T14:10:15.062782200Z",
     "start_time": "2024-07-11T14:10:14.974801300Z"
    }
   },
   "id": "c1b45ce51d1a08e6",
   "execution_count": 235
  },
  {
   "cell_type": "code",
   "outputs": [],
   "source": [
    "from gapminder import gapminder"
   ],
   "metadata": {
    "collapsed": false,
    "ExecuteTime": {
     "end_time": "2024-07-11T14:07:51.413024500Z",
     "start_time": "2024-07-11T14:07:51.366108900Z"
    }
   },
   "id": "8c27ca862887ae8b",
   "execution_count": 214
  },
  {
   "cell_type": "code",
   "outputs": [],
   "source": [
    "data = gapminder.loc[gapminder.year == 2007]"
   ],
   "metadata": {
    "collapsed": false
   },
   "id": "cfb36636c056631e",
   "execution_count": null
  },
  {
   "cell_type": "code",
   "outputs": [],
   "source": [
    "data.info()"
   ],
   "metadata": {
    "collapsed": false
   },
   "id": "45d9443a01b1ac96",
   "execution_count": null
  },
  {
   "cell_type": "code",
   "outputs": [],
   "source": [
    "sns.scatterplot(data=data, x=\"gdpPercap\", y=\"lifeExp\", size=\"pop\", legend=False, sizes=(20, 2000))\n",
    "\n",
    "# show the graph\n",
    "plt.show()"
   ],
   "metadata": {
    "collapsed": false
   },
   "id": "7db6fd61d8ad18fa",
   "execution_count": null
  },
  {
   "cell_type": "code",
   "outputs": [],
   "source": [
    "import plotly.express as px"
   ],
   "metadata": {
    "collapsed": false,
    "ExecuteTime": {
     "end_time": "2024-07-11T14:09:24.065553900Z",
     "start_time": "2024-07-11T14:09:24.019334400Z"
    }
   },
   "id": "8d146c01ee130730",
   "execution_count": 216
  },
  {
   "cell_type": "code",
   "outputs": [
    {
     "data": {
      "text/plain": "  Country Name Country Code  Year  Population  Fertility Rate  \\\n0        Aruba          ABW  1960     54211.0        4.820000   \n1  Afghanistan          AFG  1960   8996351.0        7.450000   \n2       Angola          AGO  1960   5643182.0        7.478000   \n3      Albania          ALB  1960   1608800.0        6.489000   \n5   Arab World          ARB  1960  92490932.0        6.948747   \n\n   life_expectancy                      Region  \n0        65.662000   Latin America & Caribbean  \n1        32.292000                  South Asia  \n2        33.251000          Sub-Saharan Africa  \n3        62.279000       Europe & Central Asia  \n5        46.825065  Middle East & North Africa  ",
      "text/html": "<div>\n<style scoped>\n    .dataframe tbody tr th:only-of-type {\n        vertical-align: middle;\n    }\n\n    .dataframe tbody tr th {\n        vertical-align: top;\n    }\n\n    .dataframe thead th {\n        text-align: right;\n    }\n</style>\n<table border=\"1\" class=\"dataframe\">\n  <thead>\n    <tr style=\"text-align: right;\">\n      <th></th>\n      <th>Country Name</th>\n      <th>Country Code</th>\n      <th>Year</th>\n      <th>Population</th>\n      <th>Fertility Rate</th>\n      <th>life_expectancy</th>\n      <th>Region</th>\n    </tr>\n  </thead>\n  <tbody>\n    <tr>\n      <th>0</th>\n      <td>Aruba</td>\n      <td>ABW</td>\n      <td>1960</td>\n      <td>54211.0</td>\n      <td>4.820000</td>\n      <td>65.662000</td>\n      <td>Latin America &amp; Caribbean</td>\n    </tr>\n    <tr>\n      <th>1</th>\n      <td>Afghanistan</td>\n      <td>AFG</td>\n      <td>1960</td>\n      <td>8996351.0</td>\n      <td>7.450000</td>\n      <td>32.292000</td>\n      <td>South Asia</td>\n    </tr>\n    <tr>\n      <th>2</th>\n      <td>Angola</td>\n      <td>AGO</td>\n      <td>1960</td>\n      <td>5643182.0</td>\n      <td>7.478000</td>\n      <td>33.251000</td>\n      <td>Sub-Saharan Africa</td>\n    </tr>\n    <tr>\n      <th>3</th>\n      <td>Albania</td>\n      <td>ALB</td>\n      <td>1960</td>\n      <td>1608800.0</td>\n      <td>6.489000</td>\n      <td>62.279000</td>\n      <td>Europe &amp; Central Asia</td>\n    </tr>\n    <tr>\n      <th>5</th>\n      <td>Arab World</td>\n      <td>ARB</td>\n      <td>1960</td>\n      <td>92490932.0</td>\n      <td>6.948747</td>\n      <td>46.825065</td>\n      <td>Middle East &amp; North Africa</td>\n    </tr>\n  </tbody>\n</table>\n</div>"
     },
     "execution_count": 251,
     "metadata": {},
     "output_type": "execute_result"
    }
   ],
   "source": [
    "df.head()"
   ],
   "metadata": {
    "collapsed": false,
    "ExecuteTime": {
     "end_time": "2024-07-11T14:25:42.700999500Z",
     "start_time": "2024-07-11T14:25:42.643602900Z"
    }
   },
   "id": "8a95af58f2d5db1f",
   "execution_count": 251
  },
  {
   "cell_type": "code",
   "outputs": [],
   "source": [
    "d = px.data.gapminder().query(\"country=='Canada'\")"
   ],
   "metadata": {
    "collapsed": false,
    "ExecuteTime": {
     "end_time": "2024-07-11T14:11:14.841078700Z",
     "start_time": "2024-07-11T14:11:14.757568300Z"
    }
   },
   "id": "e9da305f9b7982a5",
   "execution_count": 237
  },
  {
   "cell_type": "code",
   "outputs": [
    {
     "data": {
      "text/plain": "    country continent  year  lifeExp       pop    gdpPercap iso_alpha  iso_num\n240  Canada  Americas  1952   68.750  14785584  11367.16112       CAN      124\n241  Canada  Americas  1957   69.960  17010154  12489.95006       CAN      124\n242  Canada  Americas  1962   71.300  18985849  13462.48555       CAN      124\n243  Canada  Americas  1967   72.130  20819767  16076.58803       CAN      124\n244  Canada  Americas  1972   72.880  22284500  18970.57086       CAN      124\n245  Canada  Americas  1977   74.210  23796400  22090.88306       CAN      124\n246  Canada  Americas  1982   75.760  25201900  22898.79214       CAN      124\n247  Canada  Americas  1987   76.860  26549700  26626.51503       CAN      124\n248  Canada  Americas  1992   77.950  28523502  26342.88426       CAN      124\n249  Canada  Americas  1997   78.610  30305843  28954.92589       CAN      124\n250  Canada  Americas  2002   79.770  31902268  33328.96507       CAN      124\n251  Canada  Americas  2007   80.653  33390141  36319.23501       CAN      124",
      "text/html": "<div>\n<style scoped>\n    .dataframe tbody tr th:only-of-type {\n        vertical-align: middle;\n    }\n\n    .dataframe tbody tr th {\n        vertical-align: top;\n    }\n\n    .dataframe thead th {\n        text-align: right;\n    }\n</style>\n<table border=\"1\" class=\"dataframe\">\n  <thead>\n    <tr style=\"text-align: right;\">\n      <th></th>\n      <th>country</th>\n      <th>continent</th>\n      <th>year</th>\n      <th>lifeExp</th>\n      <th>pop</th>\n      <th>gdpPercap</th>\n      <th>iso_alpha</th>\n      <th>iso_num</th>\n    </tr>\n  </thead>\n  <tbody>\n    <tr>\n      <th>240</th>\n      <td>Canada</td>\n      <td>Americas</td>\n      <td>1952</td>\n      <td>68.750</td>\n      <td>14785584</td>\n      <td>11367.16112</td>\n      <td>CAN</td>\n      <td>124</td>\n    </tr>\n    <tr>\n      <th>241</th>\n      <td>Canada</td>\n      <td>Americas</td>\n      <td>1957</td>\n      <td>69.960</td>\n      <td>17010154</td>\n      <td>12489.95006</td>\n      <td>CAN</td>\n      <td>124</td>\n    </tr>\n    <tr>\n      <th>242</th>\n      <td>Canada</td>\n      <td>Americas</td>\n      <td>1962</td>\n      <td>71.300</td>\n      <td>18985849</td>\n      <td>13462.48555</td>\n      <td>CAN</td>\n      <td>124</td>\n    </tr>\n    <tr>\n      <th>243</th>\n      <td>Canada</td>\n      <td>Americas</td>\n      <td>1967</td>\n      <td>72.130</td>\n      <td>20819767</td>\n      <td>16076.58803</td>\n      <td>CAN</td>\n      <td>124</td>\n    </tr>\n    <tr>\n      <th>244</th>\n      <td>Canada</td>\n      <td>Americas</td>\n      <td>1972</td>\n      <td>72.880</td>\n      <td>22284500</td>\n      <td>18970.57086</td>\n      <td>CAN</td>\n      <td>124</td>\n    </tr>\n    <tr>\n      <th>245</th>\n      <td>Canada</td>\n      <td>Americas</td>\n      <td>1977</td>\n      <td>74.210</td>\n      <td>23796400</td>\n      <td>22090.88306</td>\n      <td>CAN</td>\n      <td>124</td>\n    </tr>\n    <tr>\n      <th>246</th>\n      <td>Canada</td>\n      <td>Americas</td>\n      <td>1982</td>\n      <td>75.760</td>\n      <td>25201900</td>\n      <td>22898.79214</td>\n      <td>CAN</td>\n      <td>124</td>\n    </tr>\n    <tr>\n      <th>247</th>\n      <td>Canada</td>\n      <td>Americas</td>\n      <td>1987</td>\n      <td>76.860</td>\n      <td>26549700</td>\n      <td>26626.51503</td>\n      <td>CAN</td>\n      <td>124</td>\n    </tr>\n    <tr>\n      <th>248</th>\n      <td>Canada</td>\n      <td>Americas</td>\n      <td>1992</td>\n      <td>77.950</td>\n      <td>28523502</td>\n      <td>26342.88426</td>\n      <td>CAN</td>\n      <td>124</td>\n    </tr>\n    <tr>\n      <th>249</th>\n      <td>Canada</td>\n      <td>Americas</td>\n      <td>1997</td>\n      <td>78.610</td>\n      <td>30305843</td>\n      <td>28954.92589</td>\n      <td>CAN</td>\n      <td>124</td>\n    </tr>\n    <tr>\n      <th>250</th>\n      <td>Canada</td>\n      <td>Americas</td>\n      <td>2002</td>\n      <td>79.770</td>\n      <td>31902268</td>\n      <td>33328.96507</td>\n      <td>CAN</td>\n      <td>124</td>\n    </tr>\n    <tr>\n      <th>251</th>\n      <td>Canada</td>\n      <td>Americas</td>\n      <td>2007</td>\n      <td>80.653</td>\n      <td>33390141</td>\n      <td>36319.23501</td>\n      <td>CAN</td>\n      <td>124</td>\n    </tr>\n  </tbody>\n</table>\n</div>"
     },
     "execution_count": 238,
     "metadata": {},
     "output_type": "execute_result"
    }
   ],
   "source": [
    "d"
   ],
   "metadata": {
    "collapsed": false,
    "ExecuteTime": {
     "end_time": "2024-07-11T14:11:16.613753900Z",
     "start_time": "2024-07-11T14:11:16.562051500Z"
    }
   },
   "id": "c0f86948f2d08ab0",
   "execution_count": 238
  },
  {
   "cell_type": "code",
   "outputs": [],
   "source": [
    "i = df[df['Country Name'] == 'India']"
   ],
   "metadata": {
    "collapsed": false,
    "ExecuteTime": {
     "end_time": "2024-07-11T14:12:00.685897500Z",
     "start_time": "2024-07-11T14:12:00.637894700Z"
    }
   },
   "id": "e433630f37995267",
   "execution_count": 240
  },
  {
   "cell_type": "code",
   "outputs": [
    {
     "data": {
      "text/plain": "      Country Name Country Code  Year    Population  Fertility Rate  \\\n107          India          IND  1960  4.494806e+08           5.906   \n367          India          IND  1961  4.584950e+08           5.902   \n627          India          IND  1962  4.678525e+08           5.894   \n887          India          IND  1963  4.775280e+08           5.880   \n1147         India          IND  1964  4.874845e+08           5.859   \n1407         India          IND  1965  4.977024e+08           5.830   \n1667         India          IND  1966  5.081619e+08           5.794   \n1927         India          IND  1967  5.188898e+08           5.751   \n2187         India          IND  1968  5.299673e+08           5.702   \n2447         India          IND  1969  5.415051e+08           5.648   \n2707         India          IND  1970  5.535785e+08           5.587   \n2967         India          IND  1971  5.662248e+08           5.519   \n3227         India          IND  1972  5.794115e+08           5.444   \n3487         India          IND  1973  5.930589e+08           5.363   \n3747         India          IND  1974  6.070503e+08           5.278   \n4007         India          IND  1975  6.213017e+08           5.192   \n4267         India          IND  1976  6.357717e+08           5.108   \n4527         India          IND  1977  6.504850e+08           5.029   \n4787         India          IND  1978  6.655023e+08           4.956   \n5047         India          IND  1979  6.809158e+08           4.889   \n5307         India          IND  1980  6.967835e+08           4.827   \n5567         India          IND  1981  7.131180e+08           4.766   \n5827         India          IND  1982  7.298680e+08           4.703   \n6087         India          IND  1983  7.469491e+08           4.636   \n6347         India          IND  1984  7.642452e+08           4.563   \n6607         India          IND  1985  7.816667e+08           4.484   \n6867         India          IND  1986  7.991814e+08           4.399   \n7127         India          IND  1987  8.167927e+08           4.311   \n7387         India          IND  1988  8.344893e+08           4.222   \n7647         India          IND  1989  8.522700e+08           4.132   \n7907         India          IND  1990  8.701335e+08           4.045   \n8169         India          IND  1991  8.880549e+08           3.959   \n8431         India          IND  1992  9.060211e+08           3.877   \n8692         India          IND  1993  9.240578e+08           3.799   \n8953         India          IND  1994  9.422042e+08           3.723   \n9214         India          IND  1995  9.604828e+08           3.651   \n9476         India          IND  1996  9.788932e+08           3.582   \n9738         India          IND  1997  9.974053e+08           3.514   \n10000        India          IND  1998  1.015974e+09           3.446   \n10263        India          IND  1999  1.034539e+09           3.379   \n10526        India          IND  2000  1.053051e+09           3.311   \n10789        India          IND  2001  1.071478e+09           3.243   \n11052        India          IND  2002  1.089807e+09           3.175   \n11315        India          IND  2003  1.108028e+09           3.107   \n11578        India          IND  2004  1.126136e+09           3.038   \n11841        India          IND  2005  1.144119e+09           2.969   \n12104        India          IND  2006  1.161978e+09           2.897   \n12367        India          IND  2007  1.179681e+09           2.823   \n12630        India          IND  2008  1.197147e+09           2.748   \n12893        India          IND  2009  1.214270e+09           2.673   \n13156        India          IND  2010  1.230981e+09           2.601   \n13419        India          IND  2011  1.247236e+09           2.534   \n13681        India          IND  2012  1.263066e+09           2.475   \n13943        India          IND  2013  1.278562e+09           2.425   \n14205        India          IND  2014  1.293859e+09           2.384   \n14467        India          IND  2015  1.309054e+09           2.352   \n14729        India          IND  2016  1.324171e+09           2.326   \n\n       life_expectancy      Region  \n107             41.174  South Asia  \n367             41.794  South Asia  \n627             42.421  South Asia  \n887             43.057  South Asia  \n1147            43.702  South Asia  \n1407            44.356  South Asia  \n1667            45.020  South Asia  \n1927            45.691  South Asia  \n2187            46.366  South Asia  \n2447            47.043  South Asia  \n2707            47.721  South Asia  \n2967            48.399  South Asia  \n3227            49.075  South Asia  \n3487            49.746  South Asia  \n3747            50.405  South Asia  \n4007            51.047  South Asia  \n4267            51.665  South Asia  \n4527            52.257  South Asia  \n4787            52.819  South Asia  \n5047            53.349  South Asia  \n5307            53.842  South Asia  \n5567            54.295  South Asia  \n5827            54.711  South Asia  \n6087            55.099  South Asia  \n6347            55.468  South Asia  \n6607            55.830  South Asia  \n6867            56.201  South Asia  \n7127            56.589  South Asia  \n7387            57.003  South Asia  \n7647            57.445  South Asia  \n7907            57.915  South Asia  \n8169            58.409  South Asia  \n8431            58.915  South Asia  \n8692            59.421  South Asia  \n8953            59.921  South Asia  \n9214            60.408  South Asia  \n9476            60.877  South Asia  \n9738            61.327  South Asia  \n10000           61.761  South Asia  \n10263           62.179  South Asia  \n10526           62.582  South Asia  \n10789           62.977  South Asia  \n11052           63.368  South Asia  \n11315           63.759  South Asia  \n11578           64.154  South Asia  \n11841           64.556  South Asia  \n12104           64.966  South Asia  \n12367           65.383  South Asia  \n12630           65.802  South Asia  \n12893           66.219  South Asia  \n13156           66.625  South Asia  \n13419           67.013  South Asia  \n13681           67.377  South Asia  \n13943           67.714  South Asia  \n14205           68.021  South Asia  \n14467           68.302  South Asia  \n14729           68.560  South Asia  ",
      "text/html": "<div>\n<style scoped>\n    .dataframe tbody tr th:only-of-type {\n        vertical-align: middle;\n    }\n\n    .dataframe tbody tr th {\n        vertical-align: top;\n    }\n\n    .dataframe thead th {\n        text-align: right;\n    }\n</style>\n<table border=\"1\" class=\"dataframe\">\n  <thead>\n    <tr style=\"text-align: right;\">\n      <th></th>\n      <th>Country Name</th>\n      <th>Country Code</th>\n      <th>Year</th>\n      <th>Population</th>\n      <th>Fertility Rate</th>\n      <th>life_expectancy</th>\n      <th>Region</th>\n    </tr>\n  </thead>\n  <tbody>\n    <tr>\n      <th>107</th>\n      <td>India</td>\n      <td>IND</td>\n      <td>1960</td>\n      <td>4.494806e+08</td>\n      <td>5.906</td>\n      <td>41.174</td>\n      <td>South Asia</td>\n    </tr>\n    <tr>\n      <th>367</th>\n      <td>India</td>\n      <td>IND</td>\n      <td>1961</td>\n      <td>4.584950e+08</td>\n      <td>5.902</td>\n      <td>41.794</td>\n      <td>South Asia</td>\n    </tr>\n    <tr>\n      <th>627</th>\n      <td>India</td>\n      <td>IND</td>\n      <td>1962</td>\n      <td>4.678525e+08</td>\n      <td>5.894</td>\n      <td>42.421</td>\n      <td>South Asia</td>\n    </tr>\n    <tr>\n      <th>887</th>\n      <td>India</td>\n      <td>IND</td>\n      <td>1963</td>\n      <td>4.775280e+08</td>\n      <td>5.880</td>\n      <td>43.057</td>\n      <td>South Asia</td>\n    </tr>\n    <tr>\n      <th>1147</th>\n      <td>India</td>\n      <td>IND</td>\n      <td>1964</td>\n      <td>4.874845e+08</td>\n      <td>5.859</td>\n      <td>43.702</td>\n      <td>South Asia</td>\n    </tr>\n    <tr>\n      <th>1407</th>\n      <td>India</td>\n      <td>IND</td>\n      <td>1965</td>\n      <td>4.977024e+08</td>\n      <td>5.830</td>\n      <td>44.356</td>\n      <td>South Asia</td>\n    </tr>\n    <tr>\n      <th>1667</th>\n      <td>India</td>\n      <td>IND</td>\n      <td>1966</td>\n      <td>5.081619e+08</td>\n      <td>5.794</td>\n      <td>45.020</td>\n      <td>South Asia</td>\n    </tr>\n    <tr>\n      <th>1927</th>\n      <td>India</td>\n      <td>IND</td>\n      <td>1967</td>\n      <td>5.188898e+08</td>\n      <td>5.751</td>\n      <td>45.691</td>\n      <td>South Asia</td>\n    </tr>\n    <tr>\n      <th>2187</th>\n      <td>India</td>\n      <td>IND</td>\n      <td>1968</td>\n      <td>5.299673e+08</td>\n      <td>5.702</td>\n      <td>46.366</td>\n      <td>South Asia</td>\n    </tr>\n    <tr>\n      <th>2447</th>\n      <td>India</td>\n      <td>IND</td>\n      <td>1969</td>\n      <td>5.415051e+08</td>\n      <td>5.648</td>\n      <td>47.043</td>\n      <td>South Asia</td>\n    </tr>\n    <tr>\n      <th>2707</th>\n      <td>India</td>\n      <td>IND</td>\n      <td>1970</td>\n      <td>5.535785e+08</td>\n      <td>5.587</td>\n      <td>47.721</td>\n      <td>South Asia</td>\n    </tr>\n    <tr>\n      <th>2967</th>\n      <td>India</td>\n      <td>IND</td>\n      <td>1971</td>\n      <td>5.662248e+08</td>\n      <td>5.519</td>\n      <td>48.399</td>\n      <td>South Asia</td>\n    </tr>\n    <tr>\n      <th>3227</th>\n      <td>India</td>\n      <td>IND</td>\n      <td>1972</td>\n      <td>5.794115e+08</td>\n      <td>5.444</td>\n      <td>49.075</td>\n      <td>South Asia</td>\n    </tr>\n    <tr>\n      <th>3487</th>\n      <td>India</td>\n      <td>IND</td>\n      <td>1973</td>\n      <td>5.930589e+08</td>\n      <td>5.363</td>\n      <td>49.746</td>\n      <td>South Asia</td>\n    </tr>\n    <tr>\n      <th>3747</th>\n      <td>India</td>\n      <td>IND</td>\n      <td>1974</td>\n      <td>6.070503e+08</td>\n      <td>5.278</td>\n      <td>50.405</td>\n      <td>South Asia</td>\n    </tr>\n    <tr>\n      <th>4007</th>\n      <td>India</td>\n      <td>IND</td>\n      <td>1975</td>\n      <td>6.213017e+08</td>\n      <td>5.192</td>\n      <td>51.047</td>\n      <td>South Asia</td>\n    </tr>\n    <tr>\n      <th>4267</th>\n      <td>India</td>\n      <td>IND</td>\n      <td>1976</td>\n      <td>6.357717e+08</td>\n      <td>5.108</td>\n      <td>51.665</td>\n      <td>South Asia</td>\n    </tr>\n    <tr>\n      <th>4527</th>\n      <td>India</td>\n      <td>IND</td>\n      <td>1977</td>\n      <td>6.504850e+08</td>\n      <td>5.029</td>\n      <td>52.257</td>\n      <td>South Asia</td>\n    </tr>\n    <tr>\n      <th>4787</th>\n      <td>India</td>\n      <td>IND</td>\n      <td>1978</td>\n      <td>6.655023e+08</td>\n      <td>4.956</td>\n      <td>52.819</td>\n      <td>South Asia</td>\n    </tr>\n    <tr>\n      <th>5047</th>\n      <td>India</td>\n      <td>IND</td>\n      <td>1979</td>\n      <td>6.809158e+08</td>\n      <td>4.889</td>\n      <td>53.349</td>\n      <td>South Asia</td>\n    </tr>\n    <tr>\n      <th>5307</th>\n      <td>India</td>\n      <td>IND</td>\n      <td>1980</td>\n      <td>6.967835e+08</td>\n      <td>4.827</td>\n      <td>53.842</td>\n      <td>South Asia</td>\n    </tr>\n    <tr>\n      <th>5567</th>\n      <td>India</td>\n      <td>IND</td>\n      <td>1981</td>\n      <td>7.131180e+08</td>\n      <td>4.766</td>\n      <td>54.295</td>\n      <td>South Asia</td>\n    </tr>\n    <tr>\n      <th>5827</th>\n      <td>India</td>\n      <td>IND</td>\n      <td>1982</td>\n      <td>7.298680e+08</td>\n      <td>4.703</td>\n      <td>54.711</td>\n      <td>South Asia</td>\n    </tr>\n    <tr>\n      <th>6087</th>\n      <td>India</td>\n      <td>IND</td>\n      <td>1983</td>\n      <td>7.469491e+08</td>\n      <td>4.636</td>\n      <td>55.099</td>\n      <td>South Asia</td>\n    </tr>\n    <tr>\n      <th>6347</th>\n      <td>India</td>\n      <td>IND</td>\n      <td>1984</td>\n      <td>7.642452e+08</td>\n      <td>4.563</td>\n      <td>55.468</td>\n      <td>South Asia</td>\n    </tr>\n    <tr>\n      <th>6607</th>\n      <td>India</td>\n      <td>IND</td>\n      <td>1985</td>\n      <td>7.816667e+08</td>\n      <td>4.484</td>\n      <td>55.830</td>\n      <td>South Asia</td>\n    </tr>\n    <tr>\n      <th>6867</th>\n      <td>India</td>\n      <td>IND</td>\n      <td>1986</td>\n      <td>7.991814e+08</td>\n      <td>4.399</td>\n      <td>56.201</td>\n      <td>South Asia</td>\n    </tr>\n    <tr>\n      <th>7127</th>\n      <td>India</td>\n      <td>IND</td>\n      <td>1987</td>\n      <td>8.167927e+08</td>\n      <td>4.311</td>\n      <td>56.589</td>\n      <td>South Asia</td>\n    </tr>\n    <tr>\n      <th>7387</th>\n      <td>India</td>\n      <td>IND</td>\n      <td>1988</td>\n      <td>8.344893e+08</td>\n      <td>4.222</td>\n      <td>57.003</td>\n      <td>South Asia</td>\n    </tr>\n    <tr>\n      <th>7647</th>\n      <td>India</td>\n      <td>IND</td>\n      <td>1989</td>\n      <td>8.522700e+08</td>\n      <td>4.132</td>\n      <td>57.445</td>\n      <td>South Asia</td>\n    </tr>\n    <tr>\n      <th>7907</th>\n      <td>India</td>\n      <td>IND</td>\n      <td>1990</td>\n      <td>8.701335e+08</td>\n      <td>4.045</td>\n      <td>57.915</td>\n      <td>South Asia</td>\n    </tr>\n    <tr>\n      <th>8169</th>\n      <td>India</td>\n      <td>IND</td>\n      <td>1991</td>\n      <td>8.880549e+08</td>\n      <td>3.959</td>\n      <td>58.409</td>\n      <td>South Asia</td>\n    </tr>\n    <tr>\n      <th>8431</th>\n      <td>India</td>\n      <td>IND</td>\n      <td>1992</td>\n      <td>9.060211e+08</td>\n      <td>3.877</td>\n      <td>58.915</td>\n      <td>South Asia</td>\n    </tr>\n    <tr>\n      <th>8692</th>\n      <td>India</td>\n      <td>IND</td>\n      <td>1993</td>\n      <td>9.240578e+08</td>\n      <td>3.799</td>\n      <td>59.421</td>\n      <td>South Asia</td>\n    </tr>\n    <tr>\n      <th>8953</th>\n      <td>India</td>\n      <td>IND</td>\n      <td>1994</td>\n      <td>9.422042e+08</td>\n      <td>3.723</td>\n      <td>59.921</td>\n      <td>South Asia</td>\n    </tr>\n    <tr>\n      <th>9214</th>\n      <td>India</td>\n      <td>IND</td>\n      <td>1995</td>\n      <td>9.604828e+08</td>\n      <td>3.651</td>\n      <td>60.408</td>\n      <td>South Asia</td>\n    </tr>\n    <tr>\n      <th>9476</th>\n      <td>India</td>\n      <td>IND</td>\n      <td>1996</td>\n      <td>9.788932e+08</td>\n      <td>3.582</td>\n      <td>60.877</td>\n      <td>South Asia</td>\n    </tr>\n    <tr>\n      <th>9738</th>\n      <td>India</td>\n      <td>IND</td>\n      <td>1997</td>\n      <td>9.974053e+08</td>\n      <td>3.514</td>\n      <td>61.327</td>\n      <td>South Asia</td>\n    </tr>\n    <tr>\n      <th>10000</th>\n      <td>India</td>\n      <td>IND</td>\n      <td>1998</td>\n      <td>1.015974e+09</td>\n      <td>3.446</td>\n      <td>61.761</td>\n      <td>South Asia</td>\n    </tr>\n    <tr>\n      <th>10263</th>\n      <td>India</td>\n      <td>IND</td>\n      <td>1999</td>\n      <td>1.034539e+09</td>\n      <td>3.379</td>\n      <td>62.179</td>\n      <td>South Asia</td>\n    </tr>\n    <tr>\n      <th>10526</th>\n      <td>India</td>\n      <td>IND</td>\n      <td>2000</td>\n      <td>1.053051e+09</td>\n      <td>3.311</td>\n      <td>62.582</td>\n      <td>South Asia</td>\n    </tr>\n    <tr>\n      <th>10789</th>\n      <td>India</td>\n      <td>IND</td>\n      <td>2001</td>\n      <td>1.071478e+09</td>\n      <td>3.243</td>\n      <td>62.977</td>\n      <td>South Asia</td>\n    </tr>\n    <tr>\n      <th>11052</th>\n      <td>India</td>\n      <td>IND</td>\n      <td>2002</td>\n      <td>1.089807e+09</td>\n      <td>3.175</td>\n      <td>63.368</td>\n      <td>South Asia</td>\n    </tr>\n    <tr>\n      <th>11315</th>\n      <td>India</td>\n      <td>IND</td>\n      <td>2003</td>\n      <td>1.108028e+09</td>\n      <td>3.107</td>\n      <td>63.759</td>\n      <td>South Asia</td>\n    </tr>\n    <tr>\n      <th>11578</th>\n      <td>India</td>\n      <td>IND</td>\n      <td>2004</td>\n      <td>1.126136e+09</td>\n      <td>3.038</td>\n      <td>64.154</td>\n      <td>South Asia</td>\n    </tr>\n    <tr>\n      <th>11841</th>\n      <td>India</td>\n      <td>IND</td>\n      <td>2005</td>\n      <td>1.144119e+09</td>\n      <td>2.969</td>\n      <td>64.556</td>\n      <td>South Asia</td>\n    </tr>\n    <tr>\n      <th>12104</th>\n      <td>India</td>\n      <td>IND</td>\n      <td>2006</td>\n      <td>1.161978e+09</td>\n      <td>2.897</td>\n      <td>64.966</td>\n      <td>South Asia</td>\n    </tr>\n    <tr>\n      <th>12367</th>\n      <td>India</td>\n      <td>IND</td>\n      <td>2007</td>\n      <td>1.179681e+09</td>\n      <td>2.823</td>\n      <td>65.383</td>\n      <td>South Asia</td>\n    </tr>\n    <tr>\n      <th>12630</th>\n      <td>India</td>\n      <td>IND</td>\n      <td>2008</td>\n      <td>1.197147e+09</td>\n      <td>2.748</td>\n      <td>65.802</td>\n      <td>South Asia</td>\n    </tr>\n    <tr>\n      <th>12893</th>\n      <td>India</td>\n      <td>IND</td>\n      <td>2009</td>\n      <td>1.214270e+09</td>\n      <td>2.673</td>\n      <td>66.219</td>\n      <td>South Asia</td>\n    </tr>\n    <tr>\n      <th>13156</th>\n      <td>India</td>\n      <td>IND</td>\n      <td>2010</td>\n      <td>1.230981e+09</td>\n      <td>2.601</td>\n      <td>66.625</td>\n      <td>South Asia</td>\n    </tr>\n    <tr>\n      <th>13419</th>\n      <td>India</td>\n      <td>IND</td>\n      <td>2011</td>\n      <td>1.247236e+09</td>\n      <td>2.534</td>\n      <td>67.013</td>\n      <td>South Asia</td>\n    </tr>\n    <tr>\n      <th>13681</th>\n      <td>India</td>\n      <td>IND</td>\n      <td>2012</td>\n      <td>1.263066e+09</td>\n      <td>2.475</td>\n      <td>67.377</td>\n      <td>South Asia</td>\n    </tr>\n    <tr>\n      <th>13943</th>\n      <td>India</td>\n      <td>IND</td>\n      <td>2013</td>\n      <td>1.278562e+09</td>\n      <td>2.425</td>\n      <td>67.714</td>\n      <td>South Asia</td>\n    </tr>\n    <tr>\n      <th>14205</th>\n      <td>India</td>\n      <td>IND</td>\n      <td>2014</td>\n      <td>1.293859e+09</td>\n      <td>2.384</td>\n      <td>68.021</td>\n      <td>South Asia</td>\n    </tr>\n    <tr>\n      <th>14467</th>\n      <td>India</td>\n      <td>IND</td>\n      <td>2015</td>\n      <td>1.309054e+09</td>\n      <td>2.352</td>\n      <td>68.302</td>\n      <td>South Asia</td>\n    </tr>\n    <tr>\n      <th>14729</th>\n      <td>India</td>\n      <td>IND</td>\n      <td>2016</td>\n      <td>1.324171e+09</td>\n      <td>2.326</td>\n      <td>68.560</td>\n      <td>South Asia</td>\n    </tr>\n  </tbody>\n</table>\n</div>"
     },
     "execution_count": 241,
     "metadata": {},
     "output_type": "execute_result"
    }
   ],
   "source": [
    "i"
   ],
   "metadata": {
    "collapsed": false,
    "ExecuteTime": {
     "end_time": "2024-07-11T14:12:02.741105100Z",
     "start_time": "2024-07-11T14:12:02.677865900Z"
    }
   },
   "id": "d7151a8d837752e3",
   "execution_count": 241
  },
  {
   "cell_type": "code",
   "outputs": [
    {
     "data": {
      "application/vnd.plotly.v1+json": {
       "data": [
        {
         "hovertemplate": "Year=%{x}<br>Population=%{y}<extra></extra>",
         "legendgroup": "",
         "line": {
          "color": "#636efa",
          "dash": "solid"
         },
         "marker": {
          "symbol": "circle"
         },
         "mode": "lines",
         "name": "",
         "orientation": "v",
         "showlegend": false,
         "x": [
          1960,
          1961,
          1962,
          1963,
          1964,
          1965,
          1966,
          1967,
          1968,
          1969,
          1970,
          1971,
          1972,
          1973,
          1974,
          1975,
          1976,
          1977,
          1978,
          1979,
          1980,
          1981,
          1982,
          1983,
          1984,
          1985,
          1986,
          1987,
          1988,
          1989,
          1990,
          1991,
          1992,
          1993,
          1994,
          1995,
          1996,
          1997,
          1998,
          1999,
          2000,
          2001,
          2002,
          2003,
          2004,
          2005,
          2006,
          2007,
          2008,
          2009,
          2010,
          2011,
          2012,
          2013,
          2014,
          2015,
          2016
         ],
         "xaxis": "x",
         "y": [
          4.49480608E8,
          4.58494963E8,
          4.67852537E8,
          4.7752797E8,
          4.87484535E8,
          4.97702365E8,
          5.08161935E8,
          5.18889779E8,
          5.29967317E8,
          5.41505076E8,
          5.53578513E8,
          5.66224812E8,
          5.79411513E8,
          5.93058926E8,
          6.07050255E8,
          6.2130172E8,
          6.35771734E8,
          6.5048503E8,
          6.65502284E8,
          6.80915804E8,
          6.96783517E8,
          7.13118032E8,
          7.29868013E8,
          7.46949067E8,
          7.64245202E8,
          7.81666671E8,
          7.99181436E8,
          8.16792741E8,
          8.34489322E8,
          8.52270034E8,
          8.7013348E8,
          8.88054875E8,
          9.06021106E8,
          9.24057817E8,
          9.42204249E8,
          9.60482795E8,
          9.78893217E8,
          9.97405318E8,
          1.015974042E9,
          1.034539214E9,
          1.053050912E9,
          1.071477855E9,
          1.089807112E9,
          1.108027848E9,
          1.126135777E9,
          1.144118674E9,
          1.161977719E9,
          1.179681239E9,
          1.197146906E9,
          1.214270132E9,
          1.230980691E9,
          1.247236029E9,
          1.263065852E9,
          1.278562207E9,
          1.293859294E9,
          1.30905398E9,
          1.324171354E9
         ],
         "yaxis": "y",
         "type": "scatter"
        }
       ],
       "layout": {
        "template": {
         "data": {
          "histogram2dcontour": [
           {
            "type": "histogram2dcontour",
            "colorbar": {
             "outlinewidth": 0,
             "ticks": ""
            },
            "colorscale": [
             [
              0.0,
              "#0d0887"
             ],
             [
              0.1111111111111111,
              "#46039f"
             ],
             [
              0.2222222222222222,
              "#7201a8"
             ],
             [
              0.3333333333333333,
              "#9c179e"
             ],
             [
              0.4444444444444444,
              "#bd3786"
             ],
             [
              0.5555555555555556,
              "#d8576b"
             ],
             [
              0.6666666666666666,
              "#ed7953"
             ],
             [
              0.7777777777777778,
              "#fb9f3a"
             ],
             [
              0.8888888888888888,
              "#fdca26"
             ],
             [
              1.0,
              "#f0f921"
             ]
            ]
           }
          ],
          "choropleth": [
           {
            "type": "choropleth",
            "colorbar": {
             "outlinewidth": 0,
             "ticks": ""
            }
           }
          ],
          "histogram2d": [
           {
            "type": "histogram2d",
            "colorbar": {
             "outlinewidth": 0,
             "ticks": ""
            },
            "colorscale": [
             [
              0.0,
              "#0d0887"
             ],
             [
              0.1111111111111111,
              "#46039f"
             ],
             [
              0.2222222222222222,
              "#7201a8"
             ],
             [
              0.3333333333333333,
              "#9c179e"
             ],
             [
              0.4444444444444444,
              "#bd3786"
             ],
             [
              0.5555555555555556,
              "#d8576b"
             ],
             [
              0.6666666666666666,
              "#ed7953"
             ],
             [
              0.7777777777777778,
              "#fb9f3a"
             ],
             [
              0.8888888888888888,
              "#fdca26"
             ],
             [
              1.0,
              "#f0f921"
             ]
            ]
           }
          ],
          "heatmap": [
           {
            "type": "heatmap",
            "colorbar": {
             "outlinewidth": 0,
             "ticks": ""
            },
            "colorscale": [
             [
              0.0,
              "#0d0887"
             ],
             [
              0.1111111111111111,
              "#46039f"
             ],
             [
              0.2222222222222222,
              "#7201a8"
             ],
             [
              0.3333333333333333,
              "#9c179e"
             ],
             [
              0.4444444444444444,
              "#bd3786"
             ],
             [
              0.5555555555555556,
              "#d8576b"
             ],
             [
              0.6666666666666666,
              "#ed7953"
             ],
             [
              0.7777777777777778,
              "#fb9f3a"
             ],
             [
              0.8888888888888888,
              "#fdca26"
             ],
             [
              1.0,
              "#f0f921"
             ]
            ]
           }
          ],
          "heatmapgl": [
           {
            "type": "heatmapgl",
            "colorbar": {
             "outlinewidth": 0,
             "ticks": ""
            },
            "colorscale": [
             [
              0.0,
              "#0d0887"
             ],
             [
              0.1111111111111111,
              "#46039f"
             ],
             [
              0.2222222222222222,
              "#7201a8"
             ],
             [
              0.3333333333333333,
              "#9c179e"
             ],
             [
              0.4444444444444444,
              "#bd3786"
             ],
             [
              0.5555555555555556,
              "#d8576b"
             ],
             [
              0.6666666666666666,
              "#ed7953"
             ],
             [
              0.7777777777777778,
              "#fb9f3a"
             ],
             [
              0.8888888888888888,
              "#fdca26"
             ],
             [
              1.0,
              "#f0f921"
             ]
            ]
           }
          ],
          "contourcarpet": [
           {
            "type": "contourcarpet",
            "colorbar": {
             "outlinewidth": 0,
             "ticks": ""
            }
           }
          ],
          "contour": [
           {
            "type": "contour",
            "colorbar": {
             "outlinewidth": 0,
             "ticks": ""
            },
            "colorscale": [
             [
              0.0,
              "#0d0887"
             ],
             [
              0.1111111111111111,
              "#46039f"
             ],
             [
              0.2222222222222222,
              "#7201a8"
             ],
             [
              0.3333333333333333,
              "#9c179e"
             ],
             [
              0.4444444444444444,
              "#bd3786"
             ],
             [
              0.5555555555555556,
              "#d8576b"
             ],
             [
              0.6666666666666666,
              "#ed7953"
             ],
             [
              0.7777777777777778,
              "#fb9f3a"
             ],
             [
              0.8888888888888888,
              "#fdca26"
             ],
             [
              1.0,
              "#f0f921"
             ]
            ]
           }
          ],
          "surface": [
           {
            "type": "surface",
            "colorbar": {
             "outlinewidth": 0,
             "ticks": ""
            },
            "colorscale": [
             [
              0.0,
              "#0d0887"
             ],
             [
              0.1111111111111111,
              "#46039f"
             ],
             [
              0.2222222222222222,
              "#7201a8"
             ],
             [
              0.3333333333333333,
              "#9c179e"
             ],
             [
              0.4444444444444444,
              "#bd3786"
             ],
             [
              0.5555555555555556,
              "#d8576b"
             ],
             [
              0.6666666666666666,
              "#ed7953"
             ],
             [
              0.7777777777777778,
              "#fb9f3a"
             ],
             [
              0.8888888888888888,
              "#fdca26"
             ],
             [
              1.0,
              "#f0f921"
             ]
            ]
           }
          ],
          "mesh3d": [
           {
            "type": "mesh3d",
            "colorbar": {
             "outlinewidth": 0,
             "ticks": ""
            }
           }
          ],
          "scatter": [
           {
            "fillpattern": {
             "fillmode": "overlay",
             "size": 10,
             "solidity": 0.2
            },
            "type": "scatter"
           }
          ],
          "parcoords": [
           {
            "type": "parcoords",
            "line": {
             "colorbar": {
              "outlinewidth": 0,
              "ticks": ""
             }
            }
           }
          ],
          "scatterpolargl": [
           {
            "type": "scatterpolargl",
            "marker": {
             "colorbar": {
              "outlinewidth": 0,
              "ticks": ""
             }
            }
           }
          ],
          "bar": [
           {
            "error_x": {
             "color": "#2a3f5f"
            },
            "error_y": {
             "color": "#2a3f5f"
            },
            "marker": {
             "line": {
              "color": "#E5ECF6",
              "width": 0.5
             },
             "pattern": {
              "fillmode": "overlay",
              "size": 10,
              "solidity": 0.2
             }
            },
            "type": "bar"
           }
          ],
          "scattergeo": [
           {
            "type": "scattergeo",
            "marker": {
             "colorbar": {
              "outlinewidth": 0,
              "ticks": ""
             }
            }
           }
          ],
          "scatterpolar": [
           {
            "type": "scatterpolar",
            "marker": {
             "colorbar": {
              "outlinewidth": 0,
              "ticks": ""
             }
            }
           }
          ],
          "histogram": [
           {
            "marker": {
             "pattern": {
              "fillmode": "overlay",
              "size": 10,
              "solidity": 0.2
             }
            },
            "type": "histogram"
           }
          ],
          "scattergl": [
           {
            "type": "scattergl",
            "marker": {
             "colorbar": {
              "outlinewidth": 0,
              "ticks": ""
             }
            }
           }
          ],
          "scatter3d": [
           {
            "type": "scatter3d",
            "line": {
             "colorbar": {
              "outlinewidth": 0,
              "ticks": ""
             }
            },
            "marker": {
             "colorbar": {
              "outlinewidth": 0,
              "ticks": ""
             }
            }
           }
          ],
          "scattermapbox": [
           {
            "type": "scattermapbox",
            "marker": {
             "colorbar": {
              "outlinewidth": 0,
              "ticks": ""
             }
            }
           }
          ],
          "scatterternary": [
           {
            "type": "scatterternary",
            "marker": {
             "colorbar": {
              "outlinewidth": 0,
              "ticks": ""
             }
            }
           }
          ],
          "scattercarpet": [
           {
            "type": "scattercarpet",
            "marker": {
             "colorbar": {
              "outlinewidth": 0,
              "ticks": ""
             }
            }
           }
          ],
          "carpet": [
           {
            "aaxis": {
             "endlinecolor": "#2a3f5f",
             "gridcolor": "white",
             "linecolor": "white",
             "minorgridcolor": "white",
             "startlinecolor": "#2a3f5f"
            },
            "baxis": {
             "endlinecolor": "#2a3f5f",
             "gridcolor": "white",
             "linecolor": "white",
             "minorgridcolor": "white",
             "startlinecolor": "#2a3f5f"
            },
            "type": "carpet"
           }
          ],
          "table": [
           {
            "cells": {
             "fill": {
              "color": "#EBF0F8"
             },
             "line": {
              "color": "white"
             }
            },
            "header": {
             "fill": {
              "color": "#C8D4E3"
             },
             "line": {
              "color": "white"
             }
            },
            "type": "table"
           }
          ],
          "barpolar": [
           {
            "marker": {
             "line": {
              "color": "#E5ECF6",
              "width": 0.5
             },
             "pattern": {
              "fillmode": "overlay",
              "size": 10,
              "solidity": 0.2
             }
            },
            "type": "barpolar"
           }
          ],
          "pie": [
           {
            "automargin": true,
            "type": "pie"
           }
          ]
         },
         "layout": {
          "autotypenumbers": "strict",
          "colorway": [
           "#636efa",
           "#EF553B",
           "#00cc96",
           "#ab63fa",
           "#FFA15A",
           "#19d3f3",
           "#FF6692",
           "#B6E880",
           "#FF97FF",
           "#FECB52"
          ],
          "font": {
           "color": "#2a3f5f"
          },
          "hovermode": "closest",
          "hoverlabel": {
           "align": "left"
          },
          "paper_bgcolor": "white",
          "plot_bgcolor": "#E5ECF6",
          "polar": {
           "bgcolor": "#E5ECF6",
           "angularaxis": {
            "gridcolor": "white",
            "linecolor": "white",
            "ticks": ""
           },
           "radialaxis": {
            "gridcolor": "white",
            "linecolor": "white",
            "ticks": ""
           }
          },
          "ternary": {
           "bgcolor": "#E5ECF6",
           "aaxis": {
            "gridcolor": "white",
            "linecolor": "white",
            "ticks": ""
           },
           "baxis": {
            "gridcolor": "white",
            "linecolor": "white",
            "ticks": ""
           },
           "caxis": {
            "gridcolor": "white",
            "linecolor": "white",
            "ticks": ""
           }
          },
          "coloraxis": {
           "colorbar": {
            "outlinewidth": 0,
            "ticks": ""
           }
          },
          "colorscale": {
           "sequential": [
            [
             0.0,
             "#0d0887"
            ],
            [
             0.1111111111111111,
             "#46039f"
            ],
            [
             0.2222222222222222,
             "#7201a8"
            ],
            [
             0.3333333333333333,
             "#9c179e"
            ],
            [
             0.4444444444444444,
             "#bd3786"
            ],
            [
             0.5555555555555556,
             "#d8576b"
            ],
            [
             0.6666666666666666,
             "#ed7953"
            ],
            [
             0.7777777777777778,
             "#fb9f3a"
            ],
            [
             0.8888888888888888,
             "#fdca26"
            ],
            [
             1.0,
             "#f0f921"
            ]
           ],
           "sequentialminus": [
            [
             0.0,
             "#0d0887"
            ],
            [
             0.1111111111111111,
             "#46039f"
            ],
            [
             0.2222222222222222,
             "#7201a8"
            ],
            [
             0.3333333333333333,
             "#9c179e"
            ],
            [
             0.4444444444444444,
             "#bd3786"
            ],
            [
             0.5555555555555556,
             "#d8576b"
            ],
            [
             0.6666666666666666,
             "#ed7953"
            ],
            [
             0.7777777777777778,
             "#fb9f3a"
            ],
            [
             0.8888888888888888,
             "#fdca26"
            ],
            [
             1.0,
             "#f0f921"
            ]
           ],
           "diverging": [
            [
             0,
             "#8e0152"
            ],
            [
             0.1,
             "#c51b7d"
            ],
            [
             0.2,
             "#de77ae"
            ],
            [
             0.3,
             "#f1b6da"
            ],
            [
             0.4,
             "#fde0ef"
            ],
            [
             0.5,
             "#f7f7f7"
            ],
            [
             0.6,
             "#e6f5d0"
            ],
            [
             0.7,
             "#b8e186"
            ],
            [
             0.8,
             "#7fbc41"
            ],
            [
             0.9,
             "#4d9221"
            ],
            [
             1,
             "#276419"
            ]
           ]
          },
          "xaxis": {
           "gridcolor": "white",
           "linecolor": "white",
           "ticks": "",
           "title": {
            "standoff": 15
           },
           "zerolinecolor": "white",
           "automargin": true,
           "zerolinewidth": 2
          },
          "yaxis": {
           "gridcolor": "white",
           "linecolor": "white",
           "ticks": "",
           "title": {
            "standoff": 15
           },
           "zerolinecolor": "white",
           "automargin": true,
           "zerolinewidth": 2
          },
          "scene": {
           "xaxis": {
            "backgroundcolor": "#E5ECF6",
            "gridcolor": "white",
            "linecolor": "white",
            "showbackground": true,
            "ticks": "",
            "zerolinecolor": "white",
            "gridwidth": 2
           },
           "yaxis": {
            "backgroundcolor": "#E5ECF6",
            "gridcolor": "white",
            "linecolor": "white",
            "showbackground": true,
            "ticks": "",
            "zerolinecolor": "white",
            "gridwidth": 2
           },
           "zaxis": {
            "backgroundcolor": "#E5ECF6",
            "gridcolor": "white",
            "linecolor": "white",
            "showbackground": true,
            "ticks": "",
            "zerolinecolor": "white",
            "gridwidth": 2
           }
          },
          "shapedefaults": {
           "line": {
            "color": "#2a3f5f"
           }
          },
          "annotationdefaults": {
           "arrowcolor": "#2a3f5f",
           "arrowhead": 0,
           "arrowwidth": 1
          },
          "geo": {
           "bgcolor": "white",
           "landcolor": "#E5ECF6",
           "subunitcolor": "white",
           "showland": true,
           "showlakes": true,
           "lakecolor": "white"
          },
          "title": {
           "x": 0.05
          },
          "mapbox": {
           "style": "light"
          }
         }
        },
        "xaxis": {
         "anchor": "y",
         "domain": [
          0.0,
          1.0
         ],
         "title": {
          "text": "Year"
         }
        },
        "yaxis": {
         "anchor": "x",
         "domain": [
          0.0,
          1.0
         ],
         "title": {
          "text": "Population"
         }
        },
        "legend": {
         "tracegroupgap": 0
        },
        "title": {
         "text": "Population trends in india"
        }
       },
       "config": {
        "plotlyServerURL": "https://plot.ly"
       }
      },
      "text/html": "<div>                            <div id=\"085046c8-1987-4f6a-a386-59830b3de1da\" class=\"plotly-graph-div\" style=\"height:525px; width:100%;\"></div>            <script type=\"text/javascript\">                require([\"plotly\"], function(Plotly) {                    window.PLOTLYENV=window.PLOTLYENV || {};                                    if (document.getElementById(\"085046c8-1987-4f6a-a386-59830b3de1da\")) {                    Plotly.newPlot(                        \"085046c8-1987-4f6a-a386-59830b3de1da\",                        [{\"hovertemplate\":\"Year=%{x}\\u003cbr\\u003ePopulation=%{y}\\u003cextra\\u003e\\u003c\\u002fextra\\u003e\",\"legendgroup\":\"\",\"line\":{\"color\":\"#636efa\",\"dash\":\"solid\"},\"marker\":{\"symbol\":\"circle\"},\"mode\":\"lines\",\"name\":\"\",\"orientation\":\"v\",\"showlegend\":false,\"x\":[1960,1961,1962,1963,1964,1965,1966,1967,1968,1969,1970,1971,1972,1973,1974,1975,1976,1977,1978,1979,1980,1981,1982,1983,1984,1985,1986,1987,1988,1989,1990,1991,1992,1993,1994,1995,1996,1997,1998,1999,2000,2001,2002,2003,2004,2005,2006,2007,2008,2009,2010,2011,2012,2013,2014,2015,2016],\"xaxis\":\"x\",\"y\":[449480608.0,458494963.0,467852537.0,477527970.0,487484535.0,497702365.0,508161935.0,518889779.0,529967317.0,541505076.0,553578513.0,566224812.0,579411513.0,593058926.0,607050255.0,621301720.0,635771734.0,650485030.0,665502284.0,680915804.0,696783517.0,713118032.0,729868013.0,746949067.0,764245202.0,781666671.0,799181436.0,816792741.0,834489322.0,852270034.0,870133480.0,888054875.0,906021106.0,924057817.0,942204249.0,960482795.0,978893217.0,997405318.0,1015974042.0,1034539214.0,1053050912.0,1071477855.0,1089807112.0,1108027848.0,1126135777.0,1144118674.0,1161977719.0,1179681239.0,1197146906.0,1214270132.0,1230980691.0,1247236029.0,1263065852.0,1278562207.0,1293859294.0,1309053980.0,1324171354.0],\"yaxis\":\"y\",\"type\":\"scatter\"}],                        {\"template\":{\"data\":{\"histogram2dcontour\":[{\"type\":\"histogram2dcontour\",\"colorbar\":{\"outlinewidth\":0,\"ticks\":\"\"},\"colorscale\":[[0.0,\"#0d0887\"],[0.1111111111111111,\"#46039f\"],[0.2222222222222222,\"#7201a8\"],[0.3333333333333333,\"#9c179e\"],[0.4444444444444444,\"#bd3786\"],[0.5555555555555556,\"#d8576b\"],[0.6666666666666666,\"#ed7953\"],[0.7777777777777778,\"#fb9f3a\"],[0.8888888888888888,\"#fdca26\"],[1.0,\"#f0f921\"]]}],\"choropleth\":[{\"type\":\"choropleth\",\"colorbar\":{\"outlinewidth\":0,\"ticks\":\"\"}}],\"histogram2d\":[{\"type\":\"histogram2d\",\"colorbar\":{\"outlinewidth\":0,\"ticks\":\"\"},\"colorscale\":[[0.0,\"#0d0887\"],[0.1111111111111111,\"#46039f\"],[0.2222222222222222,\"#7201a8\"],[0.3333333333333333,\"#9c179e\"],[0.4444444444444444,\"#bd3786\"],[0.5555555555555556,\"#d8576b\"],[0.6666666666666666,\"#ed7953\"],[0.7777777777777778,\"#fb9f3a\"],[0.8888888888888888,\"#fdca26\"],[1.0,\"#f0f921\"]]}],\"heatmap\":[{\"type\":\"heatmap\",\"colorbar\":{\"outlinewidth\":0,\"ticks\":\"\"},\"colorscale\":[[0.0,\"#0d0887\"],[0.1111111111111111,\"#46039f\"],[0.2222222222222222,\"#7201a8\"],[0.3333333333333333,\"#9c179e\"],[0.4444444444444444,\"#bd3786\"],[0.5555555555555556,\"#d8576b\"],[0.6666666666666666,\"#ed7953\"],[0.7777777777777778,\"#fb9f3a\"],[0.8888888888888888,\"#fdca26\"],[1.0,\"#f0f921\"]]}],\"heatmapgl\":[{\"type\":\"heatmapgl\",\"colorbar\":{\"outlinewidth\":0,\"ticks\":\"\"},\"colorscale\":[[0.0,\"#0d0887\"],[0.1111111111111111,\"#46039f\"],[0.2222222222222222,\"#7201a8\"],[0.3333333333333333,\"#9c179e\"],[0.4444444444444444,\"#bd3786\"],[0.5555555555555556,\"#d8576b\"],[0.6666666666666666,\"#ed7953\"],[0.7777777777777778,\"#fb9f3a\"],[0.8888888888888888,\"#fdca26\"],[1.0,\"#f0f921\"]]}],\"contourcarpet\":[{\"type\":\"contourcarpet\",\"colorbar\":{\"outlinewidth\":0,\"ticks\":\"\"}}],\"contour\":[{\"type\":\"contour\",\"colorbar\":{\"outlinewidth\":0,\"ticks\":\"\"},\"colorscale\":[[0.0,\"#0d0887\"],[0.1111111111111111,\"#46039f\"],[0.2222222222222222,\"#7201a8\"],[0.3333333333333333,\"#9c179e\"],[0.4444444444444444,\"#bd3786\"],[0.5555555555555556,\"#d8576b\"],[0.6666666666666666,\"#ed7953\"],[0.7777777777777778,\"#fb9f3a\"],[0.8888888888888888,\"#fdca26\"],[1.0,\"#f0f921\"]]}],\"surface\":[{\"type\":\"surface\",\"colorbar\":{\"outlinewidth\":0,\"ticks\":\"\"},\"colorscale\":[[0.0,\"#0d0887\"],[0.1111111111111111,\"#46039f\"],[0.2222222222222222,\"#7201a8\"],[0.3333333333333333,\"#9c179e\"],[0.4444444444444444,\"#bd3786\"],[0.5555555555555556,\"#d8576b\"],[0.6666666666666666,\"#ed7953\"],[0.7777777777777778,\"#fb9f3a\"],[0.8888888888888888,\"#fdca26\"],[1.0,\"#f0f921\"]]}],\"mesh3d\":[{\"type\":\"mesh3d\",\"colorbar\":{\"outlinewidth\":0,\"ticks\":\"\"}}],\"scatter\":[{\"fillpattern\":{\"fillmode\":\"overlay\",\"size\":10,\"solidity\":0.2},\"type\":\"scatter\"}],\"parcoords\":[{\"type\":\"parcoords\",\"line\":{\"colorbar\":{\"outlinewidth\":0,\"ticks\":\"\"}}}],\"scatterpolargl\":[{\"type\":\"scatterpolargl\",\"marker\":{\"colorbar\":{\"outlinewidth\":0,\"ticks\":\"\"}}}],\"bar\":[{\"error_x\":{\"color\":\"#2a3f5f\"},\"error_y\":{\"color\":\"#2a3f5f\"},\"marker\":{\"line\":{\"color\":\"#E5ECF6\",\"width\":0.5},\"pattern\":{\"fillmode\":\"overlay\",\"size\":10,\"solidity\":0.2}},\"type\":\"bar\"}],\"scattergeo\":[{\"type\":\"scattergeo\",\"marker\":{\"colorbar\":{\"outlinewidth\":0,\"ticks\":\"\"}}}],\"scatterpolar\":[{\"type\":\"scatterpolar\",\"marker\":{\"colorbar\":{\"outlinewidth\":0,\"ticks\":\"\"}}}],\"histogram\":[{\"marker\":{\"pattern\":{\"fillmode\":\"overlay\",\"size\":10,\"solidity\":0.2}},\"type\":\"histogram\"}],\"scattergl\":[{\"type\":\"scattergl\",\"marker\":{\"colorbar\":{\"outlinewidth\":0,\"ticks\":\"\"}}}],\"scatter3d\":[{\"type\":\"scatter3d\",\"line\":{\"colorbar\":{\"outlinewidth\":0,\"ticks\":\"\"}},\"marker\":{\"colorbar\":{\"outlinewidth\":0,\"ticks\":\"\"}}}],\"scattermapbox\":[{\"type\":\"scattermapbox\",\"marker\":{\"colorbar\":{\"outlinewidth\":0,\"ticks\":\"\"}}}],\"scatterternary\":[{\"type\":\"scatterternary\",\"marker\":{\"colorbar\":{\"outlinewidth\":0,\"ticks\":\"\"}}}],\"scattercarpet\":[{\"type\":\"scattercarpet\",\"marker\":{\"colorbar\":{\"outlinewidth\":0,\"ticks\":\"\"}}}],\"carpet\":[{\"aaxis\":{\"endlinecolor\":\"#2a3f5f\",\"gridcolor\":\"white\",\"linecolor\":\"white\",\"minorgridcolor\":\"white\",\"startlinecolor\":\"#2a3f5f\"},\"baxis\":{\"endlinecolor\":\"#2a3f5f\",\"gridcolor\":\"white\",\"linecolor\":\"white\",\"minorgridcolor\":\"white\",\"startlinecolor\":\"#2a3f5f\"},\"type\":\"carpet\"}],\"table\":[{\"cells\":{\"fill\":{\"color\":\"#EBF0F8\"},\"line\":{\"color\":\"white\"}},\"header\":{\"fill\":{\"color\":\"#C8D4E3\"},\"line\":{\"color\":\"white\"}},\"type\":\"table\"}],\"barpolar\":[{\"marker\":{\"line\":{\"color\":\"#E5ECF6\",\"width\":0.5},\"pattern\":{\"fillmode\":\"overlay\",\"size\":10,\"solidity\":0.2}},\"type\":\"barpolar\"}],\"pie\":[{\"automargin\":true,\"type\":\"pie\"}]},\"layout\":{\"autotypenumbers\":\"strict\",\"colorway\":[\"#636efa\",\"#EF553B\",\"#00cc96\",\"#ab63fa\",\"#FFA15A\",\"#19d3f3\",\"#FF6692\",\"#B6E880\",\"#FF97FF\",\"#FECB52\"],\"font\":{\"color\":\"#2a3f5f\"},\"hovermode\":\"closest\",\"hoverlabel\":{\"align\":\"left\"},\"paper_bgcolor\":\"white\",\"plot_bgcolor\":\"#E5ECF6\",\"polar\":{\"bgcolor\":\"#E5ECF6\",\"angularaxis\":{\"gridcolor\":\"white\",\"linecolor\":\"white\",\"ticks\":\"\"},\"radialaxis\":{\"gridcolor\":\"white\",\"linecolor\":\"white\",\"ticks\":\"\"}},\"ternary\":{\"bgcolor\":\"#E5ECF6\",\"aaxis\":{\"gridcolor\":\"white\",\"linecolor\":\"white\",\"ticks\":\"\"},\"baxis\":{\"gridcolor\":\"white\",\"linecolor\":\"white\",\"ticks\":\"\"},\"caxis\":{\"gridcolor\":\"white\",\"linecolor\":\"white\",\"ticks\":\"\"}},\"coloraxis\":{\"colorbar\":{\"outlinewidth\":0,\"ticks\":\"\"}},\"colorscale\":{\"sequential\":[[0.0,\"#0d0887\"],[0.1111111111111111,\"#46039f\"],[0.2222222222222222,\"#7201a8\"],[0.3333333333333333,\"#9c179e\"],[0.4444444444444444,\"#bd3786\"],[0.5555555555555556,\"#d8576b\"],[0.6666666666666666,\"#ed7953\"],[0.7777777777777778,\"#fb9f3a\"],[0.8888888888888888,\"#fdca26\"],[1.0,\"#f0f921\"]],\"sequentialminus\":[[0.0,\"#0d0887\"],[0.1111111111111111,\"#46039f\"],[0.2222222222222222,\"#7201a8\"],[0.3333333333333333,\"#9c179e\"],[0.4444444444444444,\"#bd3786\"],[0.5555555555555556,\"#d8576b\"],[0.6666666666666666,\"#ed7953\"],[0.7777777777777778,\"#fb9f3a\"],[0.8888888888888888,\"#fdca26\"],[1.0,\"#f0f921\"]],\"diverging\":[[0,\"#8e0152\"],[0.1,\"#c51b7d\"],[0.2,\"#de77ae\"],[0.3,\"#f1b6da\"],[0.4,\"#fde0ef\"],[0.5,\"#f7f7f7\"],[0.6,\"#e6f5d0\"],[0.7,\"#b8e186\"],[0.8,\"#7fbc41\"],[0.9,\"#4d9221\"],[1,\"#276419\"]]},\"xaxis\":{\"gridcolor\":\"white\",\"linecolor\":\"white\",\"ticks\":\"\",\"title\":{\"standoff\":15},\"zerolinecolor\":\"white\",\"automargin\":true,\"zerolinewidth\":2},\"yaxis\":{\"gridcolor\":\"white\",\"linecolor\":\"white\",\"ticks\":\"\",\"title\":{\"standoff\":15},\"zerolinecolor\":\"white\",\"automargin\":true,\"zerolinewidth\":2},\"scene\":{\"xaxis\":{\"backgroundcolor\":\"#E5ECF6\",\"gridcolor\":\"white\",\"linecolor\":\"white\",\"showbackground\":true,\"ticks\":\"\",\"zerolinecolor\":\"white\",\"gridwidth\":2},\"yaxis\":{\"backgroundcolor\":\"#E5ECF6\",\"gridcolor\":\"white\",\"linecolor\":\"white\",\"showbackground\":true,\"ticks\":\"\",\"zerolinecolor\":\"white\",\"gridwidth\":2},\"zaxis\":{\"backgroundcolor\":\"#E5ECF6\",\"gridcolor\":\"white\",\"linecolor\":\"white\",\"showbackground\":true,\"ticks\":\"\",\"zerolinecolor\":\"white\",\"gridwidth\":2}},\"shapedefaults\":{\"line\":{\"color\":\"#2a3f5f\"}},\"annotationdefaults\":{\"arrowcolor\":\"#2a3f5f\",\"arrowhead\":0,\"arrowwidth\":1},\"geo\":{\"bgcolor\":\"white\",\"landcolor\":\"#E5ECF6\",\"subunitcolor\":\"white\",\"showland\":true,\"showlakes\":true,\"lakecolor\":\"white\"},\"title\":{\"x\":0.05},\"mapbox\":{\"style\":\"light\"}}},\"xaxis\":{\"anchor\":\"y\",\"domain\":[0.0,1.0],\"title\":{\"text\":\"Year\"}},\"yaxis\":{\"anchor\":\"x\",\"domain\":[0.0,1.0],\"title\":{\"text\":\"Population\"}},\"legend\":{\"tracegroupgap\":0},\"title\":{\"text\":\"Population trends in india\"}},                        {\"responsive\": true}                    ).then(function(){\n                            \nvar gd = document.getElementById('085046c8-1987-4f6a-a386-59830b3de1da');\nvar x = new MutationObserver(function (mutations, observer) {{\n        var display = window.getComputedStyle(gd).display;\n        if (!display || display === 'none') {{\n            console.log([gd, 'removed!']);\n            Plotly.purge(gd);\n            observer.disconnect();\n        }}\n}});\n\n// Listen for the removal of the full notebook cells\nvar notebookContainer = gd.closest('#notebook-container');\nif (notebookContainer) {{\n    x.observe(notebookContainer, {childList: true});\n}}\n\n// Listen for the clearing of the current output cell\nvar outputEl = gd.closest('.output');\nif (outputEl) {{\n    x.observe(outputEl, {childList: true});\n}}\n\n                        })                };                });            </script>        </div>"
     },
     "metadata": {},
     "output_type": "display_data"
    }
   ],
   "source": [
    "fig = px.line(i, x=\"Year\", y=\"Population\", title='Population trends in india')\n",
    "fig.show()"
   ],
   "metadata": {
    "collapsed": false,
    "ExecuteTime": {
     "end_time": "2024-07-11T14:13:40.449363800Z",
     "start_time": "2024-07-11T14:13:40.358322100Z"
    }
   },
   "id": "26761d00b0103eed",
   "execution_count": 242
  },
  {
   "cell_type": "code",
   "outputs": [
    {
     "data": {
      "text/plain": "Region\nEast Asia & Pacific           1830\nEurope & Central Asia         3106\nLatin America & Caribbean     2107\nMiddle East & North Africa    1274\nNorth America                  188\nSouth Asia                     513\nSub-Saharan Africa            2754\nName: Country Name, dtype: int64"
     },
     "execution_count": 250,
     "metadata": {},
     "output_type": "execute_result"
    }
   ],
   "source": [
    "df.groupby('Region')['Country Name'].count()"
   ],
   "metadata": {
    "collapsed": false,
    "ExecuteTime": {
     "end_time": "2024-07-11T14:23:58.864988500Z",
     "start_time": "2024-07-11T14:23:58.805405600Z"
    }
   },
   "id": "7e75ffb5c10df84c",
   "execution_count": 250
  },
  {
   "cell_type": "code",
   "outputs": [
    {
     "data": {
      "text/plain": "                       Region  Number of Countries\n0         East Asia & Pacific                   34\n1       Europe & Central Asia                   59\n2   Latin America & Caribbean                   41\n3  Middle East & North Africa                   23\n4               North America                    4\n5                  South Asia                    9\n6          Sub-Saharan Africa                   49",
      "text/html": "<div>\n<style scoped>\n    .dataframe tbody tr th:only-of-type {\n        vertical-align: middle;\n    }\n\n    .dataframe tbody tr th {\n        vertical-align: top;\n    }\n\n    .dataframe thead th {\n        text-align: right;\n    }\n</style>\n<table border=\"1\" class=\"dataframe\">\n  <thead>\n    <tr style=\"text-align: right;\">\n      <th></th>\n      <th>Region</th>\n      <th>Number of Countries</th>\n    </tr>\n  </thead>\n  <tbody>\n    <tr>\n      <th>0</th>\n      <td>East Asia &amp; Pacific</td>\n      <td>34</td>\n    </tr>\n    <tr>\n      <th>1</th>\n      <td>Europe &amp; Central Asia</td>\n      <td>59</td>\n    </tr>\n    <tr>\n      <th>2</th>\n      <td>Latin America &amp; Caribbean</td>\n      <td>41</td>\n    </tr>\n    <tr>\n      <th>3</th>\n      <td>Middle East &amp; North Africa</td>\n      <td>23</td>\n    </tr>\n    <tr>\n      <th>4</th>\n      <td>North America</td>\n      <td>4</td>\n    </tr>\n    <tr>\n      <th>5</th>\n      <td>South Asia</td>\n      <td>9</td>\n    </tr>\n    <tr>\n      <th>6</th>\n      <td>Sub-Saharan Africa</td>\n      <td>49</td>\n    </tr>\n  </tbody>\n</table>\n</div>"
     },
     "execution_count": 253,
     "metadata": {},
     "output_type": "execute_result"
    }
   ],
   "source": [
    "region_counts = df.groupby('Region')['Country Name'].nunique().reset_index(name='Number of Countries')\n",
    "\n",
    "region_counts"
   ],
   "metadata": {
    "collapsed": false,
    "ExecuteTime": {
     "end_time": "2024-07-11T14:45:08.653379800Z",
     "start_time": "2024-07-11T14:45:08.625629500Z"
    }
   },
   "id": "291ffe0b16bd663a",
   "execution_count": 253
  },
  {
   "cell_type": "code",
   "outputs": [],
   "source": [
    "from dash import Dash, dcc, html, Input, Output\n",
    "import plotly.express as px\n",
    "\n",
    "app = Dash(__name__)\n",
    "\n",
    "app.layout = html.Div([\n",
    "    html.H4('Life expentancy progression of countries per continents'),\n",
    "    dcc.Graph(id=\"graph\"),\n",
    "    dcc.Checklist(\n",
    "        id=\"checklist\",\n",
    "        options=[\"East Asia & Pacific\", \"Europe & Central Asia\", \"Middle East & North Africa\",\"Latin Americas & Caribbean\",\"North America\",\"South Asia\",\"Sub-Saharan African\"],\n",
    "        value=[\"North America\", \"South Asia\"],\n",
    "        inline=True\n",
    "    ),\n",
    "])\n",
    "\n",
    "@app.callback(\n",
    "    Output(\"graph\", \"figure\"), \n",
    "    Input(\"checklist\", \"value\"))\n",
    "def update_line_chart(continents):\n",
    "    dfs = df # replace with your own data source\n",
    "    mask = dfs.Region.isin(continents)\n",
    "    fig = px.line(dfs[mask], \n",
    "        x=\"Year\", y=\"life_expectancy\", color='Country Name')\n",
    "    return fig"
   ],
   "metadata": {
    "collapsed": false,
    "ExecuteTime": {
     "end_time": "2024-07-11T14:51:38.888148Z",
     "start_time": "2024-07-11T14:51:38.845789700Z"
    }
   },
   "id": "e59804b57a7fb9ab",
   "execution_count": 262
  },
  {
   "cell_type": "code",
   "outputs": [
    {
     "data": {
      "text/plain": "<IPython.lib.display.IFrame at 0x13e67336cd0>",
      "text/html": "\n        <iframe\n            width=\"100%\"\n            height=\"650\"\n            src=\"http://127.0.0.1:8050/\"\n            frameborder=\"0\"\n            allowfullscreen\n            \n        ></iframe>\n        "
     },
     "metadata": {},
     "output_type": "display_data"
    }
   ],
   "source": [
    "app.run_server(debug=True)"
   ],
   "metadata": {
    "collapsed": false,
    "ExecuteTime": {
     "end_time": "2024-07-11T14:51:39.890984200Z",
     "start_time": "2024-07-11T14:51:39.681295900Z"
    }
   },
   "id": "c0c9044d4b6922d2",
   "execution_count": 263
  },
  {
   "cell_type": "code",
   "outputs": [
    {
     "data": {
      "text/plain": "       Country Name Country Code  Year  Population  Fertility Rate  \\\n0             Aruba          ABW  1960     54211.0        4.820000   \n1       Afghanistan          AFG  1960   8996351.0        7.450000   \n2            Angola          AGO  1960   5643182.0        7.478000   \n3           Albania          ALB  1960   1608800.0        6.489000   \n5        Arab World          ARB  1960  92490932.0        6.948747   \n...             ...          ...   ...         ...             ...   \n14880        Kosovo          XKX  2016   1816200.0        2.060000   \n14881   Yemen, Rep.          YEM  2016  27584213.0        3.995000   \n14882  South Africa          ZAF  2016  56015473.0        2.458000   \n14883        Zambia          ZMB  2016  16591390.0        4.981000   \n14884      Zimbabwe          ZWE  2016  16150362.0        3.760000   \n\n       life_expectancy                      Region  \n0            65.662000   Latin America & Caribbean  \n1            32.292000                  South Asia  \n2            33.251000          Sub-Saharan Africa  \n3            62.279000       Europe & Central Asia  \n5            46.825065  Middle East & North Africa  \n...                ...                         ...  \n14880        71.646341       Europe & Central Asia  \n14881        64.953000  Middle East & North Africa  \n14882        62.774000          Sub-Saharan Africa  \n14883        61.874000          Sub-Saharan Africa  \n14884        61.163000          Sub-Saharan Africa  \n\n[11772 rows x 7 columns]",
      "text/html": "<div>\n<style scoped>\n    .dataframe tbody tr th:only-of-type {\n        vertical-align: middle;\n    }\n\n    .dataframe tbody tr th {\n        vertical-align: top;\n    }\n\n    .dataframe thead th {\n        text-align: right;\n    }\n</style>\n<table border=\"1\" class=\"dataframe\">\n  <thead>\n    <tr style=\"text-align: right;\">\n      <th></th>\n      <th>Country Name</th>\n      <th>Country Code</th>\n      <th>Year</th>\n      <th>Population</th>\n      <th>Fertility Rate</th>\n      <th>life_expectancy</th>\n      <th>Region</th>\n    </tr>\n  </thead>\n  <tbody>\n    <tr>\n      <th>0</th>\n      <td>Aruba</td>\n      <td>ABW</td>\n      <td>1960</td>\n      <td>54211.0</td>\n      <td>4.820000</td>\n      <td>65.662000</td>\n      <td>Latin America &amp; Caribbean</td>\n    </tr>\n    <tr>\n      <th>1</th>\n      <td>Afghanistan</td>\n      <td>AFG</td>\n      <td>1960</td>\n      <td>8996351.0</td>\n      <td>7.450000</td>\n      <td>32.292000</td>\n      <td>South Asia</td>\n    </tr>\n    <tr>\n      <th>2</th>\n      <td>Angola</td>\n      <td>AGO</td>\n      <td>1960</td>\n      <td>5643182.0</td>\n      <td>7.478000</td>\n      <td>33.251000</td>\n      <td>Sub-Saharan Africa</td>\n    </tr>\n    <tr>\n      <th>3</th>\n      <td>Albania</td>\n      <td>ALB</td>\n      <td>1960</td>\n      <td>1608800.0</td>\n      <td>6.489000</td>\n      <td>62.279000</td>\n      <td>Europe &amp; Central Asia</td>\n    </tr>\n    <tr>\n      <th>5</th>\n      <td>Arab World</td>\n      <td>ARB</td>\n      <td>1960</td>\n      <td>92490932.0</td>\n      <td>6.948747</td>\n      <td>46.825065</td>\n      <td>Middle East &amp; North Africa</td>\n    </tr>\n    <tr>\n      <th>...</th>\n      <td>...</td>\n      <td>...</td>\n      <td>...</td>\n      <td>...</td>\n      <td>...</td>\n      <td>...</td>\n      <td>...</td>\n    </tr>\n    <tr>\n      <th>14880</th>\n      <td>Kosovo</td>\n      <td>XKX</td>\n      <td>2016</td>\n      <td>1816200.0</td>\n      <td>2.060000</td>\n      <td>71.646341</td>\n      <td>Europe &amp; Central Asia</td>\n    </tr>\n    <tr>\n      <th>14881</th>\n      <td>Yemen, Rep.</td>\n      <td>YEM</td>\n      <td>2016</td>\n      <td>27584213.0</td>\n      <td>3.995000</td>\n      <td>64.953000</td>\n      <td>Middle East &amp; North Africa</td>\n    </tr>\n    <tr>\n      <th>14882</th>\n      <td>South Africa</td>\n      <td>ZAF</td>\n      <td>2016</td>\n      <td>56015473.0</td>\n      <td>2.458000</td>\n      <td>62.774000</td>\n      <td>Sub-Saharan Africa</td>\n    </tr>\n    <tr>\n      <th>14883</th>\n      <td>Zambia</td>\n      <td>ZMB</td>\n      <td>2016</td>\n      <td>16591390.0</td>\n      <td>4.981000</td>\n      <td>61.874000</td>\n      <td>Sub-Saharan Africa</td>\n    </tr>\n    <tr>\n      <th>14884</th>\n      <td>Zimbabwe</td>\n      <td>ZWE</td>\n      <td>2016</td>\n      <td>16150362.0</td>\n      <td>3.760000</td>\n      <td>61.163000</td>\n      <td>Sub-Saharan Africa</td>\n    </tr>\n  </tbody>\n</table>\n<p>11772 rows × 7 columns</p>\n</div>"
     },
     "execution_count": 261,
     "metadata": {},
     "output_type": "execute_result"
    }
   ],
   "source": [
    "df"
   ],
   "metadata": {
    "collapsed": false,
    "ExecuteTime": {
     "end_time": "2024-07-11T14:50:19.935066100Z",
     "start_time": "2024-07-11T14:50:19.890147900Z"
    }
   },
   "id": "4f528909ed1f42a5",
   "execution_count": 261
  },
  {
   "cell_type": "code",
   "outputs": [],
   "source": [],
   "metadata": {
    "collapsed": false
   },
   "id": "57e92f27d7b1452f"
  }
 ],
 "metadata": {
  "kernelspec": {
   "display_name": "Python 3",
   "language": "python",
   "name": "python3"
  },
  "language_info": {
   "codemirror_mode": {
    "name": "ipython",
    "version": 2
   },
   "file_extension": ".py",
   "mimetype": "text/x-python",
   "name": "python",
   "nbconvert_exporter": "python",
   "pygments_lexer": "ipython2",
   "version": "2.7.6"
  }
 },
 "nbformat": 4,
 "nbformat_minor": 5
}
