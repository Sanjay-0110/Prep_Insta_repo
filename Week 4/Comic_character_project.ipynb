{
 "cells": [
  {
   "cell_type": "code",
   "execution_count": 33,
   "id": "initial_id",
   "metadata": {
    "collapsed": true,
    "ExecuteTime": {
     "end_time": "2024-07-13T05:26:26.133277700Z",
     "start_time": "2024-07-13T05:26:26.119895200Z"
    }
   },
   "outputs": [],
   "source": [
    "import numpy as np\n",
    "import pandas as pd"
   ]
  },
  {
   "cell_type": "code",
   "outputs": [],
   "source": [
    "dc = pd.read_csv(\"Dataset/dc-wikia-data.csv\")\n",
    "marvel = pd.read_csv(\"Dataset/marvel-wikia-data.csv\")"
   ],
   "metadata": {
    "collapsed": false,
    "ExecuteTime": {
     "end_time": "2024-07-13T05:26:26.534656100Z",
     "start_time": "2024-07-13T05:26:26.478563600Z"
    }
   },
   "id": "8f330e127caee754",
   "execution_count": 34
  },
  {
   "cell_type": "code",
   "outputs": [
    {
     "data": {
      "text/plain": "   page_id                         name                              urlslug  \\\n0     1422         Batman (Bruce Wayne)         \\/wiki\\/Batman_(Bruce_Wayne)   \n1    23387        Superman (Clark Kent)        \\/wiki\\/Superman_(Clark_Kent)   \n2     1458   Green Lantern (Hal Jordan)   \\/wiki\\/Green_Lantern_(Hal_Jordan)   \n3     1659     James Gordon (New Earth)     \\/wiki\\/James_Gordon_(New_Earth)   \n4     1576  Richard Grayson (New Earth)  \\/wiki\\/Richard_Grayson_(New_Earth)   \n\n                ID            ALIGN         EYE        HAIR              SEX  \\\n0  Secret Identity  Good Characters   Blue Eyes  Black Hair  Male Characters   \n1  Secret Identity  Good Characters   Blue Eyes  Black Hair  Male Characters   \n2  Secret Identity  Good Characters  Brown Eyes  Brown Hair  Male Characters   \n3  Public Identity  Good Characters  Brown Eyes  White Hair  Male Characters   \n4  Secret Identity  Good Characters   Blue Eyes  Black Hair  Male Characters   \n\n   GSM              ALIVE  APPEARANCES FIRST APPEARANCE    YEAR  \n0  NaN  Living Characters       3093.0        1939, May  1939.0  \n1  NaN  Living Characters       2496.0    1986, October  1986.0  \n2  NaN  Living Characters       1565.0    1959, October  1959.0  \n3  NaN  Living Characters       1316.0   1987, February  1987.0  \n4  NaN  Living Characters       1237.0      1940, April  1940.0  ",
      "text/html": "<div>\n<style scoped>\n    .dataframe tbody tr th:only-of-type {\n        vertical-align: middle;\n    }\n\n    .dataframe tbody tr th {\n        vertical-align: top;\n    }\n\n    .dataframe thead th {\n        text-align: right;\n    }\n</style>\n<table border=\"1\" class=\"dataframe\">\n  <thead>\n    <tr style=\"text-align: right;\">\n      <th></th>\n      <th>page_id</th>\n      <th>name</th>\n      <th>urlslug</th>\n      <th>ID</th>\n      <th>ALIGN</th>\n      <th>EYE</th>\n      <th>HAIR</th>\n      <th>SEX</th>\n      <th>GSM</th>\n      <th>ALIVE</th>\n      <th>APPEARANCES</th>\n      <th>FIRST APPEARANCE</th>\n      <th>YEAR</th>\n    </tr>\n  </thead>\n  <tbody>\n    <tr>\n      <th>0</th>\n      <td>1422</td>\n      <td>Batman (Bruce Wayne)</td>\n      <td>\\/wiki\\/Batman_(Bruce_Wayne)</td>\n      <td>Secret Identity</td>\n      <td>Good Characters</td>\n      <td>Blue Eyes</td>\n      <td>Black Hair</td>\n      <td>Male Characters</td>\n      <td>NaN</td>\n      <td>Living Characters</td>\n      <td>3093.0</td>\n      <td>1939, May</td>\n      <td>1939.0</td>\n    </tr>\n    <tr>\n      <th>1</th>\n      <td>23387</td>\n      <td>Superman (Clark Kent)</td>\n      <td>\\/wiki\\/Superman_(Clark_Kent)</td>\n      <td>Secret Identity</td>\n      <td>Good Characters</td>\n      <td>Blue Eyes</td>\n      <td>Black Hair</td>\n      <td>Male Characters</td>\n      <td>NaN</td>\n      <td>Living Characters</td>\n      <td>2496.0</td>\n      <td>1986, October</td>\n      <td>1986.0</td>\n    </tr>\n    <tr>\n      <th>2</th>\n      <td>1458</td>\n      <td>Green Lantern (Hal Jordan)</td>\n      <td>\\/wiki\\/Green_Lantern_(Hal_Jordan)</td>\n      <td>Secret Identity</td>\n      <td>Good Characters</td>\n      <td>Brown Eyes</td>\n      <td>Brown Hair</td>\n      <td>Male Characters</td>\n      <td>NaN</td>\n      <td>Living Characters</td>\n      <td>1565.0</td>\n      <td>1959, October</td>\n      <td>1959.0</td>\n    </tr>\n    <tr>\n      <th>3</th>\n      <td>1659</td>\n      <td>James Gordon (New Earth)</td>\n      <td>\\/wiki\\/James_Gordon_(New_Earth)</td>\n      <td>Public Identity</td>\n      <td>Good Characters</td>\n      <td>Brown Eyes</td>\n      <td>White Hair</td>\n      <td>Male Characters</td>\n      <td>NaN</td>\n      <td>Living Characters</td>\n      <td>1316.0</td>\n      <td>1987, February</td>\n      <td>1987.0</td>\n    </tr>\n    <tr>\n      <th>4</th>\n      <td>1576</td>\n      <td>Richard Grayson (New Earth)</td>\n      <td>\\/wiki\\/Richard_Grayson_(New_Earth)</td>\n      <td>Secret Identity</td>\n      <td>Good Characters</td>\n      <td>Blue Eyes</td>\n      <td>Black Hair</td>\n      <td>Male Characters</td>\n      <td>NaN</td>\n      <td>Living Characters</td>\n      <td>1237.0</td>\n      <td>1940, April</td>\n      <td>1940.0</td>\n    </tr>\n  </tbody>\n</table>\n</div>"
     },
     "execution_count": 35,
     "metadata": {},
     "output_type": "execute_result"
    }
   ],
   "source": [
    "dc.head(5)"
   ],
   "metadata": {
    "collapsed": false,
    "ExecuteTime": {
     "end_time": "2024-07-13T05:26:26.796787900Z",
     "start_time": "2024-07-13T05:26:26.786156200Z"
    }
   },
   "id": "68651b5f85d40c71",
   "execution_count": 35
  },
  {
   "cell_type": "code",
   "outputs": [
    {
     "data": {
      "text/plain": "(6896, 13)"
     },
     "execution_count": 36,
     "metadata": {},
     "output_type": "execute_result"
    }
   ],
   "source": [
    "dc.shape"
   ],
   "metadata": {
    "collapsed": false,
    "ExecuteTime": {
     "end_time": "2024-07-13T05:26:27.138233500Z",
     "start_time": "2024-07-13T05:26:27.130634Z"
    }
   },
   "id": "f0640b98093fdb30",
   "execution_count": 36
  },
  {
   "cell_type": "code",
   "outputs": [
    {
     "data": {
      "text/plain": "page_id                0\nname                   0\nurlslug                0\nID                  2013\nALIGN                601\nEYE                 3628\nHAIR                2274\nSEX                  125\nGSM                 6832\nALIVE                  3\nAPPEARANCES          355\nFIRST APPEARANCE      69\nYEAR                  69\ndtype: int64"
     },
     "execution_count": 37,
     "metadata": {},
     "output_type": "execute_result"
    }
   ],
   "source": [
    "dc.isna().sum()"
   ],
   "metadata": {
    "collapsed": false,
    "ExecuteTime": {
     "end_time": "2024-07-13T05:26:27.429607300Z",
     "start_time": "2024-07-13T05:26:27.422773200Z"
    }
   },
   "id": "1e3df42d23c5c277",
   "execution_count": 37
  },
  {
   "cell_type": "code",
   "outputs": [],
   "source": [
    "dc['alter_ego'] = dc['name'].str.extract(r'\\((.*?)\\)')"
   ],
   "metadata": {
    "collapsed": false,
    "ExecuteTime": {
     "end_time": "2024-07-13T05:26:27.737060400Z",
     "start_time": "2024-07-13T05:26:27.720231100Z"
    }
   },
   "id": "57ea72469c117818",
   "execution_count": 38
  },
  {
   "cell_type": "code",
   "outputs": [],
   "source": [
    "dc['name'] = dc['name'].str.replace(r' \\(.*?\\)', '', regex=True)"
   ],
   "metadata": {
    "collapsed": false,
    "ExecuteTime": {
     "end_time": "2024-07-13T05:26:28.040849600Z",
     "start_time": "2024-07-13T05:26:28.034821500Z"
    }
   },
   "id": "ef16df4f3686dc1c",
   "execution_count": 39
  },
  {
   "cell_type": "code",
   "outputs": [
    {
     "data": {
      "text/plain": "      page_id              name                               urlslug  \\\n0        1422            Batman          \\/wiki\\/Batman_(Bruce_Wayne)   \n1       23387          Superman         \\/wiki\\/Superman_(Clark_Kent)   \n2        1458     Green Lantern    \\/wiki\\/Green_Lantern_(Hal_Jordan)   \n3        1659      James Gordon      \\/wiki\\/James_Gordon_(New_Earth)   \n4        1576   Richard Grayson   \\/wiki\\/Richard_Grayson_(New_Earth)   \n...       ...               ...                                   ...   \n6891    66302       Nadine West       \\/wiki\\/Nadine_West_(New_Earth)   \n6892   283475    Warren Harding    \\/wiki\\/Warren_Harding_(New_Earth)   \n6893   283478  William Harrison  \\/wiki\\/William_Harrison_(New_Earth)   \n6894   283471  William McKinley  \\/wiki\\/William_McKinley_(New_Earth)   \n6895   150660            Mookie            \\/wiki\\/Mookie_(New_Earth)   \n\n                   ID            ALIGN         EYE        HAIR  \\\n0     Secret Identity  Good Characters   Blue Eyes  Black Hair   \n1     Secret Identity  Good Characters   Blue Eyes  Black Hair   \n2     Secret Identity  Good Characters  Brown Eyes  Brown Hair   \n3     Public Identity  Good Characters  Brown Eyes  White Hair   \n4     Secret Identity  Good Characters   Blue Eyes  Black Hair   \n...               ...              ...         ...         ...   \n6891  Public Identity  Good Characters         NaN         NaN   \n6892  Public Identity  Good Characters         NaN         NaN   \n6893  Public Identity  Good Characters         NaN         NaN   \n6894  Public Identity  Good Characters         NaN         NaN   \n6895  Public Identity   Bad Characters   Blue Eyes  Blond Hair   \n\n                    SEX  GSM              ALIVE  APPEARANCES FIRST APPEARANCE  \\\n0       Male Characters  NaN  Living Characters       3093.0        1939, May   \n1       Male Characters  NaN  Living Characters       2496.0    1986, October   \n2       Male Characters  NaN  Living Characters       1565.0    1959, October   \n3       Male Characters  NaN  Living Characters       1316.0   1987, February   \n4       Male Characters  NaN  Living Characters       1237.0      1940, April   \n...                 ...  ...                ...          ...              ...   \n6891  Female Characters  NaN  Living Characters          NaN              NaN   \n6892    Male Characters  NaN  Living Characters          NaN              NaN   \n6893    Male Characters  NaN  Living Characters          NaN              NaN   \n6894    Male Characters  NaN  Living Characters          NaN              NaN   \n6895    Male Characters  NaN  Living Characters          NaN              NaN   \n\n        YEAR    alter_ego  \n0     1939.0  Bruce Wayne  \n1     1986.0   Clark Kent  \n2     1959.0   Hal Jordan  \n3     1987.0    New Earth  \n4     1940.0    New Earth  \n...      ...          ...  \n6891     NaN    New Earth  \n6892     NaN    New Earth  \n6893     NaN    New Earth  \n6894     NaN    New Earth  \n6895     NaN    New Earth  \n\n[6896 rows x 14 columns]",
      "text/html": "<div>\n<style scoped>\n    .dataframe tbody tr th:only-of-type {\n        vertical-align: middle;\n    }\n\n    .dataframe tbody tr th {\n        vertical-align: top;\n    }\n\n    .dataframe thead th {\n        text-align: right;\n    }\n</style>\n<table border=\"1\" class=\"dataframe\">\n  <thead>\n    <tr style=\"text-align: right;\">\n      <th></th>\n      <th>page_id</th>\n      <th>name</th>\n      <th>urlslug</th>\n      <th>ID</th>\n      <th>ALIGN</th>\n      <th>EYE</th>\n      <th>HAIR</th>\n      <th>SEX</th>\n      <th>GSM</th>\n      <th>ALIVE</th>\n      <th>APPEARANCES</th>\n      <th>FIRST APPEARANCE</th>\n      <th>YEAR</th>\n      <th>alter_ego</th>\n    </tr>\n  </thead>\n  <tbody>\n    <tr>\n      <th>0</th>\n      <td>1422</td>\n      <td>Batman</td>\n      <td>\\/wiki\\/Batman_(Bruce_Wayne)</td>\n      <td>Secret Identity</td>\n      <td>Good Characters</td>\n      <td>Blue Eyes</td>\n      <td>Black Hair</td>\n      <td>Male Characters</td>\n      <td>NaN</td>\n      <td>Living Characters</td>\n      <td>3093.0</td>\n      <td>1939, May</td>\n      <td>1939.0</td>\n      <td>Bruce Wayne</td>\n    </tr>\n    <tr>\n      <th>1</th>\n      <td>23387</td>\n      <td>Superman</td>\n      <td>\\/wiki\\/Superman_(Clark_Kent)</td>\n      <td>Secret Identity</td>\n      <td>Good Characters</td>\n      <td>Blue Eyes</td>\n      <td>Black Hair</td>\n      <td>Male Characters</td>\n      <td>NaN</td>\n      <td>Living Characters</td>\n      <td>2496.0</td>\n      <td>1986, October</td>\n      <td>1986.0</td>\n      <td>Clark Kent</td>\n    </tr>\n    <tr>\n      <th>2</th>\n      <td>1458</td>\n      <td>Green Lantern</td>\n      <td>\\/wiki\\/Green_Lantern_(Hal_Jordan)</td>\n      <td>Secret Identity</td>\n      <td>Good Characters</td>\n      <td>Brown Eyes</td>\n      <td>Brown Hair</td>\n      <td>Male Characters</td>\n      <td>NaN</td>\n      <td>Living Characters</td>\n      <td>1565.0</td>\n      <td>1959, October</td>\n      <td>1959.0</td>\n      <td>Hal Jordan</td>\n    </tr>\n    <tr>\n      <th>3</th>\n      <td>1659</td>\n      <td>James Gordon</td>\n      <td>\\/wiki\\/James_Gordon_(New_Earth)</td>\n      <td>Public Identity</td>\n      <td>Good Characters</td>\n      <td>Brown Eyes</td>\n      <td>White Hair</td>\n      <td>Male Characters</td>\n      <td>NaN</td>\n      <td>Living Characters</td>\n      <td>1316.0</td>\n      <td>1987, February</td>\n      <td>1987.0</td>\n      <td>New Earth</td>\n    </tr>\n    <tr>\n      <th>4</th>\n      <td>1576</td>\n      <td>Richard Grayson</td>\n      <td>\\/wiki\\/Richard_Grayson_(New_Earth)</td>\n      <td>Secret Identity</td>\n      <td>Good Characters</td>\n      <td>Blue Eyes</td>\n      <td>Black Hair</td>\n      <td>Male Characters</td>\n      <td>NaN</td>\n      <td>Living Characters</td>\n      <td>1237.0</td>\n      <td>1940, April</td>\n      <td>1940.0</td>\n      <td>New Earth</td>\n    </tr>\n    <tr>\n      <th>...</th>\n      <td>...</td>\n      <td>...</td>\n      <td>...</td>\n      <td>...</td>\n      <td>...</td>\n      <td>...</td>\n      <td>...</td>\n      <td>...</td>\n      <td>...</td>\n      <td>...</td>\n      <td>...</td>\n      <td>...</td>\n      <td>...</td>\n      <td>...</td>\n    </tr>\n    <tr>\n      <th>6891</th>\n      <td>66302</td>\n      <td>Nadine West</td>\n      <td>\\/wiki\\/Nadine_West_(New_Earth)</td>\n      <td>Public Identity</td>\n      <td>Good Characters</td>\n      <td>NaN</td>\n      <td>NaN</td>\n      <td>Female Characters</td>\n      <td>NaN</td>\n      <td>Living Characters</td>\n      <td>NaN</td>\n      <td>NaN</td>\n      <td>NaN</td>\n      <td>New Earth</td>\n    </tr>\n    <tr>\n      <th>6892</th>\n      <td>283475</td>\n      <td>Warren Harding</td>\n      <td>\\/wiki\\/Warren_Harding_(New_Earth)</td>\n      <td>Public Identity</td>\n      <td>Good Characters</td>\n      <td>NaN</td>\n      <td>NaN</td>\n      <td>Male Characters</td>\n      <td>NaN</td>\n      <td>Living Characters</td>\n      <td>NaN</td>\n      <td>NaN</td>\n      <td>NaN</td>\n      <td>New Earth</td>\n    </tr>\n    <tr>\n      <th>6893</th>\n      <td>283478</td>\n      <td>William Harrison</td>\n      <td>\\/wiki\\/William_Harrison_(New_Earth)</td>\n      <td>Public Identity</td>\n      <td>Good Characters</td>\n      <td>NaN</td>\n      <td>NaN</td>\n      <td>Male Characters</td>\n      <td>NaN</td>\n      <td>Living Characters</td>\n      <td>NaN</td>\n      <td>NaN</td>\n      <td>NaN</td>\n      <td>New Earth</td>\n    </tr>\n    <tr>\n      <th>6894</th>\n      <td>283471</td>\n      <td>William McKinley</td>\n      <td>\\/wiki\\/William_McKinley_(New_Earth)</td>\n      <td>Public Identity</td>\n      <td>Good Characters</td>\n      <td>NaN</td>\n      <td>NaN</td>\n      <td>Male Characters</td>\n      <td>NaN</td>\n      <td>Living Characters</td>\n      <td>NaN</td>\n      <td>NaN</td>\n      <td>NaN</td>\n      <td>New Earth</td>\n    </tr>\n    <tr>\n      <th>6895</th>\n      <td>150660</td>\n      <td>Mookie</td>\n      <td>\\/wiki\\/Mookie_(New_Earth)</td>\n      <td>Public Identity</td>\n      <td>Bad Characters</td>\n      <td>Blue Eyes</td>\n      <td>Blond Hair</td>\n      <td>Male Characters</td>\n      <td>NaN</td>\n      <td>Living Characters</td>\n      <td>NaN</td>\n      <td>NaN</td>\n      <td>NaN</td>\n      <td>New Earth</td>\n    </tr>\n  </tbody>\n</table>\n<p>6896 rows × 14 columns</p>\n</div>"
     },
     "execution_count": 40,
     "metadata": {},
     "output_type": "execute_result"
    }
   ],
   "source": [
    "dc"
   ],
   "metadata": {
    "collapsed": false,
    "ExecuteTime": {
     "end_time": "2024-07-13T05:26:28.483627900Z",
     "start_time": "2024-07-13T05:26:28.472221400Z"
    }
   },
   "id": "b784632510c15bac",
   "execution_count": 40
  },
  {
   "cell_type": "code",
   "outputs": [
    {
     "data": {
      "text/plain": "ID\nPublic Identity     2466\nSecret Identity     2408\nIdentity Unknown       9\nName: count, dtype: int64"
     },
     "execution_count": 41,
     "metadata": {},
     "output_type": "execute_result"
    }
   ],
   "source": [
    "dc['ID'].value_counts()"
   ],
   "metadata": {
    "collapsed": false,
    "ExecuteTime": {
     "end_time": "2024-07-13T05:26:28.805032Z",
     "start_time": "2024-07-13T05:26:28.792055200Z"
    }
   },
   "id": "fce11f7a864ab487",
   "execution_count": 41
  },
  {
   "cell_type": "code",
   "outputs": [],
   "source": [
    "dc.drop(columns='urlslug', inplace=True)"
   ],
   "metadata": {
    "collapsed": false,
    "ExecuteTime": {
     "end_time": "2024-07-13T05:26:29.528044900Z",
     "start_time": "2024-07-13T05:26:29.516948Z"
    }
   },
   "id": "4c6d0554e2b22e32",
   "execution_count": 42
  },
  {
   "cell_type": "code",
   "outputs": [],
   "source": [
    "dc.drop(columns='GSM', inplace=True)"
   ],
   "metadata": {
    "collapsed": false,
    "ExecuteTime": {
     "end_time": "2024-07-13T05:46:38.536474500Z",
     "start_time": "2024-07-13T05:46:38.531703900Z"
    }
   },
   "id": "5ffc33dfed511629",
   "execution_count": 56
  },
  {
   "cell_type": "code",
   "outputs": [
    {
     "data": {
      "text/plain": "0                 Batman\n1               Superman\n2          Green Lantern\n3           James Gordon\n4        Richard Grayson\n              ...       \n6890      James Garfield\n6891         Nadine West\n6892      Warren Harding\n6893    William Harrison\n6894    William McKinley\nName: name, Length: 2832, dtype: object"
     },
     "execution_count": 43,
     "metadata": {},
     "output_type": "execute_result"
    }
   ],
   "source": [
    "dc[dc['ALIGN'] == 'Good Characters']['name']"
   ],
   "metadata": {
    "collapsed": false,
    "ExecuteTime": {
     "end_time": "2024-07-13T05:26:30.072002100Z",
     "start_time": "2024-07-13T05:26:30.064979300Z"
    }
   },
   "id": "3e0505252614eb38",
   "execution_count": 43
  },
  {
   "cell_type": "code",
   "outputs": [
    {
     "data": {
      "text/plain": "19       Alexander Luthor\n30                  Joker\n44                   Uxas\n66            Harvey Dent\n107        Jonathan Crane\n              ...        \n6874    Bartholomew Magan\n6879                Dmane\n6881           Doris Zuel\n6884          Basil Karlo\n6895               Mookie\nName: name, Length: 2895, dtype: object"
     },
     "execution_count": 44,
     "metadata": {},
     "output_type": "execute_result"
    }
   ],
   "source": [
    "dc[dc['ALIGN'] == 'Bad Characters']['name']"
   ],
   "metadata": {
    "collapsed": false,
    "ExecuteTime": {
     "end_time": "2024-07-13T05:26:30.692785100Z",
     "start_time": "2024-07-13T05:26:30.672343200Z"
    }
   },
   "id": "a8c6130bc582fc4c",
   "execution_count": 44
  },
  {
   "cell_type": "code",
   "outputs": [
    {
     "data": {
      "text/plain": "SEX\nMale Characters          1843\nFemale Characters         953\nGenderless Characters       6\nName: count, dtype: int64"
     },
     "execution_count": 45,
     "metadata": {},
     "output_type": "execute_result"
    }
   ],
   "source": [
    "dc[dc['ALIGN'] == 'Good Characters']['SEX'].value_counts()"
   ],
   "metadata": {
    "collapsed": false,
    "ExecuteTime": {
     "end_time": "2024-07-13T05:26:32.593813100Z",
     "start_time": "2024-07-13T05:26:32.573281900Z"
    }
   },
   "id": "8d0f283e7a13db81",
   "execution_count": 45
  },
  {
   "cell_type": "code",
   "outputs": [
    {
     "data": {
      "text/plain": "SEX\nMale Characters           2223\nFemale Characters          597\nGenderless Characters       11\nTransgender Characters       1\nName: count, dtype: int64"
     },
     "execution_count": 46,
     "metadata": {},
     "output_type": "execute_result"
    }
   ],
   "source": [
    "dc[dc['ALIGN'] == 'Bad Characters']['SEX'].value_counts()"
   ],
   "metadata": {
    "collapsed": false,
    "ExecuteTime": {
     "end_time": "2024-07-13T05:26:34.480313700Z",
     "start_time": "2024-07-13T05:26:34.469579900Z"
    }
   },
   "id": "2ac4b3823a3d1087",
   "execution_count": 46
  },
  {
   "cell_type": "code",
   "outputs": [],
   "source": [
    "dc.dropna(subset=['APPEARANCES'], inplace=True)"
   ],
   "metadata": {
    "collapsed": false,
    "ExecuteTime": {
     "end_time": "2024-07-13T05:27:06.989944600Z",
     "start_time": "2024-07-13T05:27:06.971059200Z"
    }
   },
   "id": "8ef5affa11afd916",
   "execution_count": 47
  },
  {
   "cell_type": "code",
   "outputs": [
    {
     "data": {
      "text/plain": "page_id                0\nname                   0\nID                  1883\nALIGN                566\nEYE                 3426\nHAIR                2093\nSEX                  114\nGSM                 6477\nALIVE                  2\nAPPEARANCES            0\nFIRST APPEARANCE      60\nYEAR                  60\nalter_ego              5\ndtype: int64"
     },
     "execution_count": 48,
     "metadata": {},
     "output_type": "execute_result"
    }
   ],
   "source": [
    "dc.isna().sum()"
   ],
   "metadata": {
    "collapsed": false,
    "ExecuteTime": {
     "end_time": "2024-07-13T05:27:07.576248400Z",
     "start_time": "2024-07-13T05:27:07.571643700Z"
    }
   },
   "id": "58941f29076c7e86",
   "execution_count": 48
  },
  {
   "cell_type": "code",
   "outputs": [],
   "source": [
    "dc.sort_values(by='APPEARANCES', ascending =False, inplace=True)"
   ],
   "metadata": {
    "collapsed": false,
    "ExecuteTime": {
     "end_time": "2024-07-13T05:30:00.894200500Z",
     "start_time": "2024-07-13T05:30:00.864756200Z"
    }
   },
   "id": "c8b9be6b94843047",
   "execution_count": 51
  },
  {
   "cell_type": "code",
   "outputs": [
    {
     "data": {
      "text/plain": "0                Batman\n1              Superman\n2         Green Lantern\n4       Richard Grayson\n7         Timothy Drake\n             ...       \n6290          Abe Crane\n6301         Jake Tyler\n6405           C.A.P.D.\n6482           Heimdall\n6526        Green Arrow\nName: name, Length: 811, dtype: object"
     },
     "execution_count": 55,
     "metadata": {},
     "output_type": "execute_result"
    }
   ],
   "source": [
    "dc[(dc['ALIGN'] == 'Good Characters') & (dc['ID']=='Secret Identity')]['name']"
   ],
   "metadata": {
    "collapsed": false,
    "ExecuteTime": {
     "end_time": "2024-07-13T05:43:28.264785300Z",
     "start_time": "2024-07-13T05:43:28.251398500Z"
    }
   },
   "id": "cc4c2e5e8389065e",
   "execution_count": 55
  },
  {
   "cell_type": "code",
   "outputs": [
    {
     "data": {
      "text/plain": "      page_id              name               ID            ALIGN         EYE  \\\n0        1422            Batman  Secret Identity  Good Characters   Blue Eyes   \n1       23387          Superman  Secret Identity  Good Characters   Blue Eyes   \n2        1458     Green Lantern  Secret Identity  Good Characters  Brown Eyes   \n3        1659      James Gordon  Public Identity  Good Characters  Brown Eyes   \n4        1576   Richard Grayson  Secret Identity  Good Characters   Blue Eyes   \n...       ...               ...              ...              ...         ...   \n6526     1510       Green Arrow  Secret Identity  Good Characters  Green Eyes   \n6525    23576  Frederick Devere              NaN   Bad Characters         NaN   \n6524    23574     Brenda Forest              NaN              NaN         NaN   \n6523   366214   Carnie Callahan  Public Identity  Good Characters         NaN   \n6522   277385               Kay  Public Identity  Good Characters         NaN   \n\n            HAIR                SEX              ALIVE  APPEARANCES  \\\n0     Black Hair    Male Characters  Living Characters       3093.0   \n1     Black Hair    Male Characters  Living Characters       2496.0   \n2     Brown Hair    Male Characters  Living Characters       1565.0   \n3     White Hair    Male Characters  Living Characters       1316.0   \n4     Black Hair    Male Characters  Living Characters       1237.0   \n...          ...                ...                ...          ...   \n6526  Blond Hair    Male Characters  Living Characters          1.0   \n6525         NaN    Male Characters  Living Characters          1.0   \n6524  Brown Hair  Female Characters  Living Characters          1.0   \n6523         NaN    Male Characters  Living Characters          1.0   \n6522         NaN    Male Characters  Living Characters          1.0   \n\n     FIRST APPEARANCE    YEAR     alter_ego  \n0           1939, May  1939.0   Bruce Wayne  \n1       1986, October  1986.0    Clark Kent  \n2       1959, October  1959.0    Hal Jordan  \n3      1987, February  1987.0     New Earth  \n4         1940, April  1940.0     New Earth  \n...               ...     ...           ...  \n6526   1941, November  1941.0  Oliver Queen  \n6525       1941, June  1941.0     New Earth  \n6524       1941, June  1941.0     New Earth  \n6523        1944, May  1944.0     New Earth  \n6522     1946, August  1946.0     New Earth  \n\n[6541 rows x 12 columns]",
      "text/html": "<div>\n<style scoped>\n    .dataframe tbody tr th:only-of-type {\n        vertical-align: middle;\n    }\n\n    .dataframe tbody tr th {\n        vertical-align: top;\n    }\n\n    .dataframe thead th {\n        text-align: right;\n    }\n</style>\n<table border=\"1\" class=\"dataframe\">\n  <thead>\n    <tr style=\"text-align: right;\">\n      <th></th>\n      <th>page_id</th>\n      <th>name</th>\n      <th>ID</th>\n      <th>ALIGN</th>\n      <th>EYE</th>\n      <th>HAIR</th>\n      <th>SEX</th>\n      <th>ALIVE</th>\n      <th>APPEARANCES</th>\n      <th>FIRST APPEARANCE</th>\n      <th>YEAR</th>\n      <th>alter_ego</th>\n    </tr>\n  </thead>\n  <tbody>\n    <tr>\n      <th>0</th>\n      <td>1422</td>\n      <td>Batman</td>\n      <td>Secret Identity</td>\n      <td>Good Characters</td>\n      <td>Blue Eyes</td>\n      <td>Black Hair</td>\n      <td>Male Characters</td>\n      <td>Living Characters</td>\n      <td>3093.0</td>\n      <td>1939, May</td>\n      <td>1939.0</td>\n      <td>Bruce Wayne</td>\n    </tr>\n    <tr>\n      <th>1</th>\n      <td>23387</td>\n      <td>Superman</td>\n      <td>Secret Identity</td>\n      <td>Good Characters</td>\n      <td>Blue Eyes</td>\n      <td>Black Hair</td>\n      <td>Male Characters</td>\n      <td>Living Characters</td>\n      <td>2496.0</td>\n      <td>1986, October</td>\n      <td>1986.0</td>\n      <td>Clark Kent</td>\n    </tr>\n    <tr>\n      <th>2</th>\n      <td>1458</td>\n      <td>Green Lantern</td>\n      <td>Secret Identity</td>\n      <td>Good Characters</td>\n      <td>Brown Eyes</td>\n      <td>Brown Hair</td>\n      <td>Male Characters</td>\n      <td>Living Characters</td>\n      <td>1565.0</td>\n      <td>1959, October</td>\n      <td>1959.0</td>\n      <td>Hal Jordan</td>\n    </tr>\n    <tr>\n      <th>3</th>\n      <td>1659</td>\n      <td>James Gordon</td>\n      <td>Public Identity</td>\n      <td>Good Characters</td>\n      <td>Brown Eyes</td>\n      <td>White Hair</td>\n      <td>Male Characters</td>\n      <td>Living Characters</td>\n      <td>1316.0</td>\n      <td>1987, February</td>\n      <td>1987.0</td>\n      <td>New Earth</td>\n    </tr>\n    <tr>\n      <th>4</th>\n      <td>1576</td>\n      <td>Richard Grayson</td>\n      <td>Secret Identity</td>\n      <td>Good Characters</td>\n      <td>Blue Eyes</td>\n      <td>Black Hair</td>\n      <td>Male Characters</td>\n      <td>Living Characters</td>\n      <td>1237.0</td>\n      <td>1940, April</td>\n      <td>1940.0</td>\n      <td>New Earth</td>\n    </tr>\n    <tr>\n      <th>...</th>\n      <td>...</td>\n      <td>...</td>\n      <td>...</td>\n      <td>...</td>\n      <td>...</td>\n      <td>...</td>\n      <td>...</td>\n      <td>...</td>\n      <td>...</td>\n      <td>...</td>\n      <td>...</td>\n      <td>...</td>\n    </tr>\n    <tr>\n      <th>6526</th>\n      <td>1510</td>\n      <td>Green Arrow</td>\n      <td>Secret Identity</td>\n      <td>Good Characters</td>\n      <td>Green Eyes</td>\n      <td>Blond Hair</td>\n      <td>Male Characters</td>\n      <td>Living Characters</td>\n      <td>1.0</td>\n      <td>1941, November</td>\n      <td>1941.0</td>\n      <td>Oliver Queen</td>\n    </tr>\n    <tr>\n      <th>6525</th>\n      <td>23576</td>\n      <td>Frederick Devere</td>\n      <td>NaN</td>\n      <td>Bad Characters</td>\n      <td>NaN</td>\n      <td>NaN</td>\n      <td>Male Characters</td>\n      <td>Living Characters</td>\n      <td>1.0</td>\n      <td>1941, June</td>\n      <td>1941.0</td>\n      <td>New Earth</td>\n    </tr>\n    <tr>\n      <th>6524</th>\n      <td>23574</td>\n      <td>Brenda Forest</td>\n      <td>NaN</td>\n      <td>NaN</td>\n      <td>NaN</td>\n      <td>Brown Hair</td>\n      <td>Female Characters</td>\n      <td>Living Characters</td>\n      <td>1.0</td>\n      <td>1941, June</td>\n      <td>1941.0</td>\n      <td>New Earth</td>\n    </tr>\n    <tr>\n      <th>6523</th>\n      <td>366214</td>\n      <td>Carnie Callahan</td>\n      <td>Public Identity</td>\n      <td>Good Characters</td>\n      <td>NaN</td>\n      <td>NaN</td>\n      <td>Male Characters</td>\n      <td>Living Characters</td>\n      <td>1.0</td>\n      <td>1944, May</td>\n      <td>1944.0</td>\n      <td>New Earth</td>\n    </tr>\n    <tr>\n      <th>6522</th>\n      <td>277385</td>\n      <td>Kay</td>\n      <td>Public Identity</td>\n      <td>Good Characters</td>\n      <td>NaN</td>\n      <td>NaN</td>\n      <td>Male Characters</td>\n      <td>Living Characters</td>\n      <td>1.0</td>\n      <td>1946, August</td>\n      <td>1946.0</td>\n      <td>New Earth</td>\n    </tr>\n  </tbody>\n</table>\n<p>6541 rows × 12 columns</p>\n</div>"
     },
     "execution_count": 57,
     "metadata": {},
     "output_type": "execute_result"
    }
   ],
   "source": [
    "dc"
   ],
   "metadata": {
    "collapsed": false,
    "ExecuteTime": {
     "end_time": "2024-07-13T05:46:47.275561800Z",
     "start_time": "2024-07-13T05:46:47.270524500Z"
    }
   },
   "id": "aff356709a319cb3",
   "execution_count": 57
  },
  {
   "cell_type": "code",
   "outputs": [
    {
     "data": {
      "text/plain": "       page_id                                 name  \\\n0         1678            Spider-Man (Peter Parker)   \n1         7139      Captain America (Steven Rogers)   \n2        64786  Wolverine (James \\\"Logan\\\" Howlett)   \n3         1868    Iron Man (Anthony \\\"Tony\\\" Stark)   \n4         2460                  Thor (Thor Odinson)   \n...        ...                                  ...   \n16371   657508                   Ru'ach (Earth-616)   \n16372   665474      Thane (Thanos' son) (Earth-616)   \n16373   695217        Tinkerer (Skrull) (Earth-616)   \n16374   708811       TK421 (Spiderling) (Earth-616)   \n16375   673702                Yologarch (Earth-616)   \n\n                                       urlslug                ID  \\\n0                  \\/Spider-Man_(Peter_Parker)   Secret Identity   \n1            \\/Captain_America_(Steven_Rogers)   Public Identity   \n2      \\/Wolverine_(James_%22Logan%22_Howlett)   Public Identity   \n3        \\/Iron_Man_(Anthony_%22Tony%22_Stark)   Public Identity   \n4                        \\/Thor_(Thor_Odinson)  No Dual Identity   \n...                                        ...               ...   \n16371                   \\/Ru%27ach_(Earth-616)  No Dual Identity   \n16372      \\/Thane_(Thanos%27_son)_(Earth-616)  No Dual Identity   \n16373          \\/Tinkerer_(Skrull)_(Earth-616)   Secret Identity   \n16374         \\/TK421_(Spiderling)_(Earth-616)   Secret Identity   \n16375                  \\/Yologarch_(Earth-616)               NaN   \n\n                    ALIGN         EYE        HAIR              SEX  GSM  \\\n0         Good Characters  Hazel Eyes  Brown Hair  Male Characters  NaN   \n1         Good Characters   Blue Eyes  White Hair  Male Characters  NaN   \n2      Neutral Characters   Blue Eyes  Black Hair  Male Characters  NaN   \n3         Good Characters   Blue Eyes  Black Hair  Male Characters  NaN   \n4         Good Characters   Blue Eyes  Blond Hair  Male Characters  NaN   \n...                   ...         ...         ...              ...  ...   \n16371      Bad Characters  Green Eyes     No Hair  Male Characters  NaN   \n16372     Good Characters   Blue Eyes        Bald  Male Characters  NaN   \n16373      Bad Characters  Black Eyes        Bald  Male Characters  NaN   \n16374  Neutral Characters         NaN         NaN  Male Characters  NaN   \n16375      Bad Characters         NaN         NaN              NaN  NaN   \n\n                   ALIVE  APPEARANCES FIRST APPEARANCE    Year  \n0      Living Characters       4043.0           Aug-62  1962.0  \n1      Living Characters       3360.0           Mar-41  1941.0  \n2      Living Characters       3061.0           Oct-74  1974.0  \n3      Living Characters       2961.0           Mar-63  1963.0  \n4      Living Characters       2258.0           Nov-50  1950.0  \n...                  ...          ...              ...     ...  \n16371  Living Characters          NaN              NaN     NaN  \n16372  Living Characters          NaN              NaN     NaN  \n16373  Living Characters          NaN              NaN     NaN  \n16374  Living Characters          NaN              NaN     NaN  \n16375  Living Characters          NaN              NaN     NaN  \n\n[16376 rows x 13 columns]",
      "text/html": "<div>\n<style scoped>\n    .dataframe tbody tr th:only-of-type {\n        vertical-align: middle;\n    }\n\n    .dataframe tbody tr th {\n        vertical-align: top;\n    }\n\n    .dataframe thead th {\n        text-align: right;\n    }\n</style>\n<table border=\"1\" class=\"dataframe\">\n  <thead>\n    <tr style=\"text-align: right;\">\n      <th></th>\n      <th>page_id</th>\n      <th>name</th>\n      <th>urlslug</th>\n      <th>ID</th>\n      <th>ALIGN</th>\n      <th>EYE</th>\n      <th>HAIR</th>\n      <th>SEX</th>\n      <th>GSM</th>\n      <th>ALIVE</th>\n      <th>APPEARANCES</th>\n      <th>FIRST APPEARANCE</th>\n      <th>Year</th>\n    </tr>\n  </thead>\n  <tbody>\n    <tr>\n      <th>0</th>\n      <td>1678</td>\n      <td>Spider-Man (Peter Parker)</td>\n      <td>\\/Spider-Man_(Peter_Parker)</td>\n      <td>Secret Identity</td>\n      <td>Good Characters</td>\n      <td>Hazel Eyes</td>\n      <td>Brown Hair</td>\n      <td>Male Characters</td>\n      <td>NaN</td>\n      <td>Living Characters</td>\n      <td>4043.0</td>\n      <td>Aug-62</td>\n      <td>1962.0</td>\n    </tr>\n    <tr>\n      <th>1</th>\n      <td>7139</td>\n      <td>Captain America (Steven Rogers)</td>\n      <td>\\/Captain_America_(Steven_Rogers)</td>\n      <td>Public Identity</td>\n      <td>Good Characters</td>\n      <td>Blue Eyes</td>\n      <td>White Hair</td>\n      <td>Male Characters</td>\n      <td>NaN</td>\n      <td>Living Characters</td>\n      <td>3360.0</td>\n      <td>Mar-41</td>\n      <td>1941.0</td>\n    </tr>\n    <tr>\n      <th>2</th>\n      <td>64786</td>\n      <td>Wolverine (James \\\"Logan\\\" Howlett)</td>\n      <td>\\/Wolverine_(James_%22Logan%22_Howlett)</td>\n      <td>Public Identity</td>\n      <td>Neutral Characters</td>\n      <td>Blue Eyes</td>\n      <td>Black Hair</td>\n      <td>Male Characters</td>\n      <td>NaN</td>\n      <td>Living Characters</td>\n      <td>3061.0</td>\n      <td>Oct-74</td>\n      <td>1974.0</td>\n    </tr>\n    <tr>\n      <th>3</th>\n      <td>1868</td>\n      <td>Iron Man (Anthony \\\"Tony\\\" Stark)</td>\n      <td>\\/Iron_Man_(Anthony_%22Tony%22_Stark)</td>\n      <td>Public Identity</td>\n      <td>Good Characters</td>\n      <td>Blue Eyes</td>\n      <td>Black Hair</td>\n      <td>Male Characters</td>\n      <td>NaN</td>\n      <td>Living Characters</td>\n      <td>2961.0</td>\n      <td>Mar-63</td>\n      <td>1963.0</td>\n    </tr>\n    <tr>\n      <th>4</th>\n      <td>2460</td>\n      <td>Thor (Thor Odinson)</td>\n      <td>\\/Thor_(Thor_Odinson)</td>\n      <td>No Dual Identity</td>\n      <td>Good Characters</td>\n      <td>Blue Eyes</td>\n      <td>Blond Hair</td>\n      <td>Male Characters</td>\n      <td>NaN</td>\n      <td>Living Characters</td>\n      <td>2258.0</td>\n      <td>Nov-50</td>\n      <td>1950.0</td>\n    </tr>\n    <tr>\n      <th>...</th>\n      <td>...</td>\n      <td>...</td>\n      <td>...</td>\n      <td>...</td>\n      <td>...</td>\n      <td>...</td>\n      <td>...</td>\n      <td>...</td>\n      <td>...</td>\n      <td>...</td>\n      <td>...</td>\n      <td>...</td>\n      <td>...</td>\n    </tr>\n    <tr>\n      <th>16371</th>\n      <td>657508</td>\n      <td>Ru'ach (Earth-616)</td>\n      <td>\\/Ru%27ach_(Earth-616)</td>\n      <td>No Dual Identity</td>\n      <td>Bad Characters</td>\n      <td>Green Eyes</td>\n      <td>No Hair</td>\n      <td>Male Characters</td>\n      <td>NaN</td>\n      <td>Living Characters</td>\n      <td>NaN</td>\n      <td>NaN</td>\n      <td>NaN</td>\n    </tr>\n    <tr>\n      <th>16372</th>\n      <td>665474</td>\n      <td>Thane (Thanos' son) (Earth-616)</td>\n      <td>\\/Thane_(Thanos%27_son)_(Earth-616)</td>\n      <td>No Dual Identity</td>\n      <td>Good Characters</td>\n      <td>Blue Eyes</td>\n      <td>Bald</td>\n      <td>Male Characters</td>\n      <td>NaN</td>\n      <td>Living Characters</td>\n      <td>NaN</td>\n      <td>NaN</td>\n      <td>NaN</td>\n    </tr>\n    <tr>\n      <th>16373</th>\n      <td>695217</td>\n      <td>Tinkerer (Skrull) (Earth-616)</td>\n      <td>\\/Tinkerer_(Skrull)_(Earth-616)</td>\n      <td>Secret Identity</td>\n      <td>Bad Characters</td>\n      <td>Black Eyes</td>\n      <td>Bald</td>\n      <td>Male Characters</td>\n      <td>NaN</td>\n      <td>Living Characters</td>\n      <td>NaN</td>\n      <td>NaN</td>\n      <td>NaN</td>\n    </tr>\n    <tr>\n      <th>16374</th>\n      <td>708811</td>\n      <td>TK421 (Spiderling) (Earth-616)</td>\n      <td>\\/TK421_(Spiderling)_(Earth-616)</td>\n      <td>Secret Identity</td>\n      <td>Neutral Characters</td>\n      <td>NaN</td>\n      <td>NaN</td>\n      <td>Male Characters</td>\n      <td>NaN</td>\n      <td>Living Characters</td>\n      <td>NaN</td>\n      <td>NaN</td>\n      <td>NaN</td>\n    </tr>\n    <tr>\n      <th>16375</th>\n      <td>673702</td>\n      <td>Yologarch (Earth-616)</td>\n      <td>\\/Yologarch_(Earth-616)</td>\n      <td>NaN</td>\n      <td>Bad Characters</td>\n      <td>NaN</td>\n      <td>NaN</td>\n      <td>NaN</td>\n      <td>NaN</td>\n      <td>Living Characters</td>\n      <td>NaN</td>\n      <td>NaN</td>\n      <td>NaN</td>\n    </tr>\n  </tbody>\n</table>\n<p>16376 rows × 13 columns</p>\n</div>"
     },
     "execution_count": 58,
     "metadata": {},
     "output_type": "execute_result"
    }
   ],
   "source": [
    "marvel"
   ],
   "metadata": {
    "collapsed": false,
    "ExecuteTime": {
     "end_time": "2024-07-13T05:47:03.356628400Z",
     "start_time": "2024-07-13T05:47:03.330301800Z"
    }
   },
   "id": "10c29652d80207da",
   "execution_count": 58
  },
  {
   "cell_type": "code",
   "outputs": [],
   "source": [],
   "metadata": {
    "collapsed": false
   },
   "id": "e8bd960a48358989"
  }
 ],
 "metadata": {
  "kernelspec": {
   "display_name": "Python 3",
   "language": "python",
   "name": "python3"
  },
  "language_info": {
   "codemirror_mode": {
    "name": "ipython",
    "version": 2
   },
   "file_extension": ".py",
   "mimetype": "text/x-python",
   "name": "python",
   "nbconvert_exporter": "python",
   "pygments_lexer": "ipython2",
   "version": "2.7.6"
  }
 },
 "nbformat": 4,
 "nbformat_minor": 5
}
