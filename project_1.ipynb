{
 "cells": [
  {
   "cell_type": "code",
   "execution_count": 1,
   "id": "initial_id",
   "metadata": {
    "collapsed": true,
    "ExecuteTime": {
     "end_time": "2024-07-06T08:51:44.774302300Z",
     "start_time": "2024-07-06T08:51:43.925261800Z"
    }
   },
   "outputs": [],
   "source": [
    "import numpy as np\n",
    "import pandas as pd"
   ]
  },
  {
   "cell_type": "code",
   "outputs": [],
   "source": [
    "df = pd.read_csv(r\"C:\\Users\\sanja\\Downloads\\Data-cleaning-for-beginners-using-pandas.csv\")"
   ],
   "metadata": {
    "collapsed": false,
    "ExecuteTime": {
     "end_time": "2024-07-06T08:51:47.569967800Z",
     "start_time": "2024-07-06T08:51:47.547156900Z"
    }
   },
   "id": "9ecaafc944b58e94",
   "execution_count": 2
  },
  {
   "cell_type": "code",
   "outputs": [
    {
     "data": {
      "text/plain": "   Index   Age     Salary  Rating       Location  Established Easy Apply\n0      0  44.0  $44k-$99k     5.4       India,In         1999       TRUE\n1      1  66.0  $55k-$66k     3.5    New York,Ny         2002       TRUE\n2      2   NaN  $77k-$89k    -1.0    New York,Ny           -1         -1\n3      3  64.0  $44k-$99k     4.4       India In         1988         -1\n4      4  25.0  $44k-$99k     6.4  Australia Aus         2002         -1",
      "text/html": "<div>\n<style scoped>\n    .dataframe tbody tr th:only-of-type {\n        vertical-align: middle;\n    }\n\n    .dataframe tbody tr th {\n        vertical-align: top;\n    }\n\n    .dataframe thead th {\n        text-align: right;\n    }\n</style>\n<table border=\"1\" class=\"dataframe\">\n  <thead>\n    <tr style=\"text-align: right;\">\n      <th></th>\n      <th>Index</th>\n      <th>Age</th>\n      <th>Salary</th>\n      <th>Rating</th>\n      <th>Location</th>\n      <th>Established</th>\n      <th>Easy Apply</th>\n    </tr>\n  </thead>\n  <tbody>\n    <tr>\n      <th>0</th>\n      <td>0</td>\n      <td>44.0</td>\n      <td>$44k-$99k</td>\n      <td>5.4</td>\n      <td>India,In</td>\n      <td>1999</td>\n      <td>TRUE</td>\n    </tr>\n    <tr>\n      <th>1</th>\n      <td>1</td>\n      <td>66.0</td>\n      <td>$55k-$66k</td>\n      <td>3.5</td>\n      <td>New York,Ny</td>\n      <td>2002</td>\n      <td>TRUE</td>\n    </tr>\n    <tr>\n      <th>2</th>\n      <td>2</td>\n      <td>NaN</td>\n      <td>$77k-$89k</td>\n      <td>-1.0</td>\n      <td>New York,Ny</td>\n      <td>-1</td>\n      <td>-1</td>\n    </tr>\n    <tr>\n      <th>3</th>\n      <td>3</td>\n      <td>64.0</td>\n      <td>$44k-$99k</td>\n      <td>4.4</td>\n      <td>India In</td>\n      <td>1988</td>\n      <td>-1</td>\n    </tr>\n    <tr>\n      <th>4</th>\n      <td>4</td>\n      <td>25.0</td>\n      <td>$44k-$99k</td>\n      <td>6.4</td>\n      <td>Australia Aus</td>\n      <td>2002</td>\n      <td>-1</td>\n    </tr>\n  </tbody>\n</table>\n</div>"
     },
     "execution_count": 3,
     "metadata": {},
     "output_type": "execute_result"
    }
   ],
   "source": [
    "df.head()"
   ],
   "metadata": {
    "collapsed": false,
    "ExecuteTime": {
     "end_time": "2024-07-06T08:51:48.364318Z",
     "start_time": "2024-07-06T08:51:48.296405100Z"
    }
   },
   "id": "b70e089025c41858",
   "execution_count": 3
  },
  {
   "cell_type": "markdown",
   "source": [
    "**Missing Value**"
   ],
   "metadata": {
    "collapsed": false
   },
   "id": "7460342629b5d83a"
  },
  {
   "cell_type": "code",
   "outputs": [
    {
     "data": {
      "text/plain": "Index          0\nAge            7\nSalary         0\nRating         1\nLocation       0\nEstablished    0\nEasy Apply     0\ndtype: int64"
     },
     "execution_count": 4,
     "metadata": {},
     "output_type": "execute_result"
    }
   ],
   "source": [
    "df.isnull().sum()"
   ],
   "metadata": {
    "collapsed": false,
    "ExecuteTime": {
     "end_time": "2024-07-06T08:51:50.501593900Z",
     "start_time": "2024-07-06T08:51:50.441604100Z"
    }
   },
   "id": "a26f290e7e3f8e5d",
   "execution_count": 4
  },
  {
   "cell_type": "markdown",
   "source": [
    "As we can see, Age and Rating columns contain missing value. The total size of the dataset is 29x7, also the missing value is low in number, we can perform either of the following steps\n",
    "    1. Remove the entire row that contains the missing value.\n",
    "    2. Replacing the missing values by median or mode value of the column.\n",
    "    we can observe from the above table information rating columns as only one missing values we quiet go with removing the row from the dataset, whereas if we do the same action the on Age column we could lose some row in the small dataset, so we can opt for the 2 action to deal missing values."
   ],
   "metadata": {
    "collapsed": false
   },
   "id": "269163ffeaf49f37"
  },
  {
   "cell_type": "code",
   "outputs": [],
   "source": [
    "missing_values_index = df[df['Rating'].isnull()].index\n",
    "df = df.drop(missing_values_index)"
   ],
   "metadata": {
    "collapsed": false,
    "ExecuteTime": {
     "end_time": "2024-07-06T08:51:51.928720600Z",
     "start_time": "2024-07-06T08:51:51.905786500Z"
    }
   },
   "id": "d2d81a5e25f56da9",
   "execution_count": 5
  },
  {
   "cell_type": "code",
   "outputs": [],
   "source": [
    "df['Age'].fillna(df['Age'].mode()[0], inplace=True)"
   ],
   "metadata": {
    "collapsed": false,
    "ExecuteTime": {
     "end_time": "2024-07-06T08:51:52.528018600Z",
     "start_time": "2024-07-06T08:51:52.519355200Z"
    }
   },
   "id": "29c32c9f7a8323ee",
   "execution_count": 6
  },
  {
   "cell_type": "code",
   "outputs": [
    {
     "data": {
      "text/plain": "Index          0\nAge            0\nSalary         0\nRating         0\nLocation       0\nEstablished    0\nEasy Apply     0\ndtype: int64"
     },
     "execution_count": 7,
     "metadata": {},
     "output_type": "execute_result"
    }
   ],
   "source": [
    "df.isnull().sum()"
   ],
   "metadata": {
    "collapsed": false,
    "ExecuteTime": {
     "end_time": "2024-07-06T08:51:53.062007100Z",
     "start_time": "2024-07-06T08:51:53.049499800Z"
    }
   },
   "id": "7e73e3c47bad79bd",
   "execution_count": 7
  },
  {
   "cell_type": "code",
   "outputs": [
    {
     "name": "stdout",
     "output_type": "stream",
     "text": [
      "<class 'pandas.core.frame.DataFrame'>\n",
      "Index: 28 entries, 0 to 28\n",
      "Data columns (total 7 columns):\n",
      " #   Column       Non-Null Count  Dtype  \n",
      "---  ------       --------------  -----  \n",
      " 0   Index        28 non-null     int64  \n",
      " 1   Age          28 non-null     float64\n",
      " 2   Salary       28 non-null     object \n",
      " 3   Rating       28 non-null     float64\n",
      " 4   Location     28 non-null     object \n",
      " 5   Established  28 non-null     int64  \n",
      " 6   Easy Apply   28 non-null     object \n",
      "dtypes: float64(2), int64(2), object(3)\n",
      "memory usage: 1.8+ KB\n",
      "None\n"
     ]
    }
   ],
   "source": [
    "print(df.info())"
   ],
   "metadata": {
    "collapsed": false,
    "ExecuteTime": {
     "end_time": "2024-07-06T08:51:53.991959700Z",
     "start_time": "2024-07-06T08:51:53.977721Z"
    }
   },
   "id": "e961c6da36978f88",
   "execution_count": 8
  },
  {
   "cell_type": "markdown",
   "source": [
    " **Salary Formatting**"
   ],
   "metadata": {
    "collapsed": false
   },
   "id": "6669db8712aba166"
  },
  {
   "cell_type": "code",
   "outputs": [],
   "source": [
    "def avg_salary(salary):\n",
    "    if '-' in salary:\n",
    "        low, high = salary.split('-')\n",
    "        return (float(low)+float(high))/2\n",
    "    else:\n",
    "        return float(salary)"
   ],
   "metadata": {
    "collapsed": false,
    "ExecuteTime": {
     "end_time": "2024-07-06T08:51:55.266906700Z",
     "start_time": "2024-07-06T08:51:55.255183100Z"
    }
   },
   "id": "45a72962eee5d2b2",
   "execution_count": 9
  },
  {
   "cell_type": "code",
   "outputs": [
    {
     "data": {
      "text/plain": "    Index   Age   Salary  Rating       Location  Established Easy Apply\n0       0  44.0  71500.0     5.4       India,In         1999       TRUE\n1       1  66.0  60500.0     3.5    New York,Ny         2002       TRUE\n2       2  44.0  83000.0    -1.0    New York,Ny           -1         -1\n3       3  64.0  71500.0     4.4       India In         1988         -1\n4       4  25.0  71500.0     6.4  Australia Aus         2002         -1\n5       5  44.0  83000.0     1.4       India,In         1999       TRUE\n6       6  21.0  71500.0     0.0    New York,Ny           -1         -1\n7       7  44.0  71500.0    -1.0  Australia Aus           -1         -1\n8       8  35.0  71500.0     5.4    New York,Ny           -1         -1\n9       9  22.0  71500.0     7.7       India,In           -1       TRUE\n10     10  55.0  29500.0     5.4       India,In         2008       TRUE\n11     11  44.0  29500.0     6.7       India,In         2009         -1\n12     12  44.0  71500.0     0.0       India,In         1999         -1\n13     13  25.0  71500.0    -1.0  Australia Aus         2019       TRUE\n14     14  66.0  71500.0     4.0  Australia Aus         2020       TRUE\n15     15  44.0  94500.0     3.0  Australia Aus         1999         -1\n16     16  19.0  29500.0     4.5       India,In         1984         -1\n17     17  44.0  71500.0     5.3    New York,Ny         1943       TRUE\n18     18  35.0  71500.0     6.7    New York,Ny         1954       TRUE\n19     19  32.0  71500.0     3.3    New York,Ny         1955       TRUE\n20     20  44.0  71500.0     5.7    New York,Ny         1944       TRUE\n21     21  35.0  71500.0     5.0    New York,Ny         1946         -1\n22     22  19.0  60500.0     7.8    New York,Ny         1988       TRUE\n23     23  44.0  71500.0     2.4    New York,Ny         1999       TRUE\n24     24  13.0  71500.0    -1.0    New York,Ny         1987         -1\n25     25  55.0  71500.0     0.0  Australia Aus         1980       TRUE\n27     27  52.0  71500.0     5.4       India,In         1935         -1\n28     28  44.0  63500.0     3.4  Australia Aus         1932         -1",
      "text/html": "<div>\n<style scoped>\n    .dataframe tbody tr th:only-of-type {\n        vertical-align: middle;\n    }\n\n    .dataframe tbody tr th {\n        vertical-align: top;\n    }\n\n    .dataframe thead th {\n        text-align: right;\n    }\n</style>\n<table border=\"1\" class=\"dataframe\">\n  <thead>\n    <tr style=\"text-align: right;\">\n      <th></th>\n      <th>Index</th>\n      <th>Age</th>\n      <th>Salary</th>\n      <th>Rating</th>\n      <th>Location</th>\n      <th>Established</th>\n      <th>Easy Apply</th>\n    </tr>\n  </thead>\n  <tbody>\n    <tr>\n      <th>0</th>\n      <td>0</td>\n      <td>44.0</td>\n      <td>71500.0</td>\n      <td>5.4</td>\n      <td>India,In</td>\n      <td>1999</td>\n      <td>TRUE</td>\n    </tr>\n    <tr>\n      <th>1</th>\n      <td>1</td>\n      <td>66.0</td>\n      <td>60500.0</td>\n      <td>3.5</td>\n      <td>New York,Ny</td>\n      <td>2002</td>\n      <td>TRUE</td>\n    </tr>\n    <tr>\n      <th>2</th>\n      <td>2</td>\n      <td>44.0</td>\n      <td>83000.0</td>\n      <td>-1.0</td>\n      <td>New York,Ny</td>\n      <td>-1</td>\n      <td>-1</td>\n    </tr>\n    <tr>\n      <th>3</th>\n      <td>3</td>\n      <td>64.0</td>\n      <td>71500.0</td>\n      <td>4.4</td>\n      <td>India In</td>\n      <td>1988</td>\n      <td>-1</td>\n    </tr>\n    <tr>\n      <th>4</th>\n      <td>4</td>\n      <td>25.0</td>\n      <td>71500.0</td>\n      <td>6.4</td>\n      <td>Australia Aus</td>\n      <td>2002</td>\n      <td>-1</td>\n    </tr>\n    <tr>\n      <th>5</th>\n      <td>5</td>\n      <td>44.0</td>\n      <td>83000.0</td>\n      <td>1.4</td>\n      <td>India,In</td>\n      <td>1999</td>\n      <td>TRUE</td>\n    </tr>\n    <tr>\n      <th>6</th>\n      <td>6</td>\n      <td>21.0</td>\n      <td>71500.0</td>\n      <td>0.0</td>\n      <td>New York,Ny</td>\n      <td>-1</td>\n      <td>-1</td>\n    </tr>\n    <tr>\n      <th>7</th>\n      <td>7</td>\n      <td>44.0</td>\n      <td>71500.0</td>\n      <td>-1.0</td>\n      <td>Australia Aus</td>\n      <td>-1</td>\n      <td>-1</td>\n    </tr>\n    <tr>\n      <th>8</th>\n      <td>8</td>\n      <td>35.0</td>\n      <td>71500.0</td>\n      <td>5.4</td>\n      <td>New York,Ny</td>\n      <td>-1</td>\n      <td>-1</td>\n    </tr>\n    <tr>\n      <th>9</th>\n      <td>9</td>\n      <td>22.0</td>\n      <td>71500.0</td>\n      <td>7.7</td>\n      <td>India,In</td>\n      <td>-1</td>\n      <td>TRUE</td>\n    </tr>\n    <tr>\n      <th>10</th>\n      <td>10</td>\n      <td>55.0</td>\n      <td>29500.0</td>\n      <td>5.4</td>\n      <td>India,In</td>\n      <td>2008</td>\n      <td>TRUE</td>\n    </tr>\n    <tr>\n      <th>11</th>\n      <td>11</td>\n      <td>44.0</td>\n      <td>29500.0</td>\n      <td>6.7</td>\n      <td>India,In</td>\n      <td>2009</td>\n      <td>-1</td>\n    </tr>\n    <tr>\n      <th>12</th>\n      <td>12</td>\n      <td>44.0</td>\n      <td>71500.0</td>\n      <td>0.0</td>\n      <td>India,In</td>\n      <td>1999</td>\n      <td>-1</td>\n    </tr>\n    <tr>\n      <th>13</th>\n      <td>13</td>\n      <td>25.0</td>\n      <td>71500.0</td>\n      <td>-1.0</td>\n      <td>Australia Aus</td>\n      <td>2019</td>\n      <td>TRUE</td>\n    </tr>\n    <tr>\n      <th>14</th>\n      <td>14</td>\n      <td>66.0</td>\n      <td>71500.0</td>\n      <td>4.0</td>\n      <td>Australia Aus</td>\n      <td>2020</td>\n      <td>TRUE</td>\n    </tr>\n    <tr>\n      <th>15</th>\n      <td>15</td>\n      <td>44.0</td>\n      <td>94500.0</td>\n      <td>3.0</td>\n      <td>Australia Aus</td>\n      <td>1999</td>\n      <td>-1</td>\n    </tr>\n    <tr>\n      <th>16</th>\n      <td>16</td>\n      <td>19.0</td>\n      <td>29500.0</td>\n      <td>4.5</td>\n      <td>India,In</td>\n      <td>1984</td>\n      <td>-1</td>\n    </tr>\n    <tr>\n      <th>17</th>\n      <td>17</td>\n      <td>44.0</td>\n      <td>71500.0</td>\n      <td>5.3</td>\n      <td>New York,Ny</td>\n      <td>1943</td>\n      <td>TRUE</td>\n    </tr>\n    <tr>\n      <th>18</th>\n      <td>18</td>\n      <td>35.0</td>\n      <td>71500.0</td>\n      <td>6.7</td>\n      <td>New York,Ny</td>\n      <td>1954</td>\n      <td>TRUE</td>\n    </tr>\n    <tr>\n      <th>19</th>\n      <td>19</td>\n      <td>32.0</td>\n      <td>71500.0</td>\n      <td>3.3</td>\n      <td>New York,Ny</td>\n      <td>1955</td>\n      <td>TRUE</td>\n    </tr>\n    <tr>\n      <th>20</th>\n      <td>20</td>\n      <td>44.0</td>\n      <td>71500.0</td>\n      <td>5.7</td>\n      <td>New York,Ny</td>\n      <td>1944</td>\n      <td>TRUE</td>\n    </tr>\n    <tr>\n      <th>21</th>\n      <td>21</td>\n      <td>35.0</td>\n      <td>71500.0</td>\n      <td>5.0</td>\n      <td>New York,Ny</td>\n      <td>1946</td>\n      <td>-1</td>\n    </tr>\n    <tr>\n      <th>22</th>\n      <td>22</td>\n      <td>19.0</td>\n      <td>60500.0</td>\n      <td>7.8</td>\n      <td>New York,Ny</td>\n      <td>1988</td>\n      <td>TRUE</td>\n    </tr>\n    <tr>\n      <th>23</th>\n      <td>23</td>\n      <td>44.0</td>\n      <td>71500.0</td>\n      <td>2.4</td>\n      <td>New York,Ny</td>\n      <td>1999</td>\n      <td>TRUE</td>\n    </tr>\n    <tr>\n      <th>24</th>\n      <td>24</td>\n      <td>13.0</td>\n      <td>71500.0</td>\n      <td>-1.0</td>\n      <td>New York,Ny</td>\n      <td>1987</td>\n      <td>-1</td>\n    </tr>\n    <tr>\n      <th>25</th>\n      <td>25</td>\n      <td>55.0</td>\n      <td>71500.0</td>\n      <td>0.0</td>\n      <td>Australia Aus</td>\n      <td>1980</td>\n      <td>TRUE</td>\n    </tr>\n    <tr>\n      <th>27</th>\n      <td>27</td>\n      <td>52.0</td>\n      <td>71500.0</td>\n      <td>5.4</td>\n      <td>India,In</td>\n      <td>1935</td>\n      <td>-1</td>\n    </tr>\n    <tr>\n      <th>28</th>\n      <td>28</td>\n      <td>44.0</td>\n      <td>63500.0</td>\n      <td>3.4</td>\n      <td>Australia Aus</td>\n      <td>1932</td>\n      <td>-1</td>\n    </tr>\n  </tbody>\n</table>\n</div>"
     },
     "execution_count": 10,
     "metadata": {},
     "output_type": "execute_result"
    }
   ],
   "source": [
    "# Conversion Salary Formatting:\n",
    "\n",
    "df['Salary'] = df['Salary'].apply(lambda x:x.replace(\"$\",''))\n",
    "df['Salary'] = df['Salary'].apply(lambda x:x.replace(\"k\",'000'))\n",
    "\n",
    "df['Salary'] = df['Salary'].apply(avg_salary)\n",
    "df"
   ],
   "metadata": {
    "collapsed": false,
    "ExecuteTime": {
     "end_time": "2024-07-06T08:51:55.985845400Z",
     "start_time": "2024-07-06T08:51:55.957102300Z"
    }
   },
   "id": "f64d340b673ef7e0",
   "execution_count": 10
  },
  {
   "cell_type": "markdown",
   "source": [
    "**Easy Apply Indicator**"
   ],
   "metadata": {
    "collapsed": false
   },
   "id": "4f0591e3b0f6acab"
  },
  {
   "cell_type": "code",
   "outputs": [],
   "source": [
    "#converting -1 value to False \n",
    "df['Easy Apply'] = df['Easy Apply'].apply(lambda x:x.replace(\"-1\",'False'))"
   ],
   "metadata": {
    "collapsed": false,
    "ExecuteTime": {
     "end_time": "2024-07-06T08:51:57.525339800Z",
     "start_time": "2024-07-06T08:51:57.512723300Z"
    }
   },
   "id": "1b2f909c5fb35865",
   "execution_count": 11
  },
  {
   "cell_type": "markdown",
   "source": [
    "Converting the - 1 value into False, and I'm just considering it as an object only"
   ],
   "metadata": {
    "collapsed": false
   },
   "id": "890b840998314614"
  },
  {
   "cell_type": "markdown",
   "source": [
    "**Outlier Finding in Numerical Columns**"
   ],
   "metadata": {
    "collapsed": false
   },
   "id": "eb20a075fa9a89d3"
  },
  {
   "cell_type": "code",
   "outputs": [
    {
     "name": "stdout",
     "output_type": "stream",
     "text": [
      "30.25\n",
      "44.0\n",
      "13.75\n"
     ]
    },
    {
     "data": {
      "text/plain": "    Index   Age   Salary  Rating       Location  Established Easy Apply\n1       1  66.0  60500.0     3.5    New York,Ny         2002       TRUE\n14     14  66.0  71500.0     4.0  Australia Aus         2020       TRUE",
      "text/html": "<div>\n<style scoped>\n    .dataframe tbody tr th:only-of-type {\n        vertical-align: middle;\n    }\n\n    .dataframe tbody tr th {\n        vertical-align: top;\n    }\n\n    .dataframe thead th {\n        text-align: right;\n    }\n</style>\n<table border=\"1\" class=\"dataframe\">\n  <thead>\n    <tr style=\"text-align: right;\">\n      <th></th>\n      <th>Index</th>\n      <th>Age</th>\n      <th>Salary</th>\n      <th>Rating</th>\n      <th>Location</th>\n      <th>Established</th>\n      <th>Easy Apply</th>\n    </tr>\n  </thead>\n  <tbody>\n    <tr>\n      <th>1</th>\n      <td>1</td>\n      <td>66.0</td>\n      <td>60500.0</td>\n      <td>3.5</td>\n      <td>New York,Ny</td>\n      <td>2002</td>\n      <td>TRUE</td>\n    </tr>\n    <tr>\n      <th>14</th>\n      <td>14</td>\n      <td>66.0</td>\n      <td>71500.0</td>\n      <td>4.0</td>\n      <td>Australia Aus</td>\n      <td>2020</td>\n      <td>TRUE</td>\n    </tr>\n  </tbody>\n</table>\n</div>"
     },
     "execution_count": 12,
     "metadata": {},
     "output_type": "execute_result"
    }
   ],
   "source": [
    "Q1_age = df['Age'].quantile(0.25)\n",
    "print(Q1_age)\n",
    "Q3_age = df['Age'].quantile(0.75)\n",
    "print(Q3_age)\n",
    "IQR_age = Q3_age - Q1_age\n",
    "print(IQR_age)\n",
    "outliers_age = df[(df['Age'] < (Q1_age - 1.5 * IQR_age)) | (df['Age'] > (Q3_age + 1.5 * IQR_age))]\n",
    "\n",
    "outliers_age"
   ],
   "metadata": {
    "collapsed": false,
    "ExecuteTime": {
     "end_time": "2024-07-06T08:51:59.404832200Z",
     "start_time": "2024-07-06T08:51:59.373126200Z"
    }
   },
   "id": "cd75abbb0d4b6b64",
   "execution_count": 12
  },
  {
   "cell_type": "code",
   "outputs": [
    {
     "name": "stdout",
     "output_type": "stream",
     "text": [
      "71500.0\n"
     ]
    },
    {
     "data": {
      "text/plain": "    Index   Age   Salary  Rating       Location  Established Easy Apply\n1       1  66.0  60500.0     3.5    New York,Ny         2002       TRUE\n2       2  44.0  83000.0    -1.0    New York,Ny           -1      False\n5       5  44.0  83000.0     1.4       India,In         1999       TRUE\n10     10  55.0  29500.0     5.4       India,In         2008       TRUE\n11     11  44.0  29500.0     6.7       India,In         2009      False\n15     15  44.0  94500.0     3.0  Australia Aus         1999      False\n16     16  19.0  29500.0     4.5       India,In         1984      False\n22     22  19.0  60500.0     7.8    New York,Ny         1988       TRUE\n28     28  44.0  63500.0     3.4  Australia Aus         1932      False",
      "text/html": "<div>\n<style scoped>\n    .dataframe tbody tr th:only-of-type {\n        vertical-align: middle;\n    }\n\n    .dataframe tbody tr th {\n        vertical-align: top;\n    }\n\n    .dataframe thead th {\n        text-align: right;\n    }\n</style>\n<table border=\"1\" class=\"dataframe\">\n  <thead>\n    <tr style=\"text-align: right;\">\n      <th></th>\n      <th>Index</th>\n      <th>Age</th>\n      <th>Salary</th>\n      <th>Rating</th>\n      <th>Location</th>\n      <th>Established</th>\n      <th>Easy Apply</th>\n    </tr>\n  </thead>\n  <tbody>\n    <tr>\n      <th>1</th>\n      <td>1</td>\n      <td>66.0</td>\n      <td>60500.0</td>\n      <td>3.5</td>\n      <td>New York,Ny</td>\n      <td>2002</td>\n      <td>TRUE</td>\n    </tr>\n    <tr>\n      <th>2</th>\n      <td>2</td>\n      <td>44.0</td>\n      <td>83000.0</td>\n      <td>-1.0</td>\n      <td>New York,Ny</td>\n      <td>-1</td>\n      <td>False</td>\n    </tr>\n    <tr>\n      <th>5</th>\n      <td>5</td>\n      <td>44.0</td>\n      <td>83000.0</td>\n      <td>1.4</td>\n      <td>India,In</td>\n      <td>1999</td>\n      <td>TRUE</td>\n    </tr>\n    <tr>\n      <th>10</th>\n      <td>10</td>\n      <td>55.0</td>\n      <td>29500.0</td>\n      <td>5.4</td>\n      <td>India,In</td>\n      <td>2008</td>\n      <td>TRUE</td>\n    </tr>\n    <tr>\n      <th>11</th>\n      <td>11</td>\n      <td>44.0</td>\n      <td>29500.0</td>\n      <td>6.7</td>\n      <td>India,In</td>\n      <td>2009</td>\n      <td>False</td>\n    </tr>\n    <tr>\n      <th>15</th>\n      <td>15</td>\n      <td>44.0</td>\n      <td>94500.0</td>\n      <td>3.0</td>\n      <td>Australia Aus</td>\n      <td>1999</td>\n      <td>False</td>\n    </tr>\n    <tr>\n      <th>16</th>\n      <td>16</td>\n      <td>19.0</td>\n      <td>29500.0</td>\n      <td>4.5</td>\n      <td>India,In</td>\n      <td>1984</td>\n      <td>False</td>\n    </tr>\n    <tr>\n      <th>22</th>\n      <td>22</td>\n      <td>19.0</td>\n      <td>60500.0</td>\n      <td>7.8</td>\n      <td>New York,Ny</td>\n      <td>1988</td>\n      <td>TRUE</td>\n    </tr>\n    <tr>\n      <th>28</th>\n      <td>28</td>\n      <td>44.0</td>\n      <td>63500.0</td>\n      <td>3.4</td>\n      <td>Australia Aus</td>\n      <td>1932</td>\n      <td>False</td>\n    </tr>\n  </tbody>\n</table>\n</div>"
     },
     "execution_count": 13,
     "metadata": {},
     "output_type": "execute_result"
    }
   ],
   "source": [
    "Q1_salary = df['Salary'].quantile(0.25)\n",
    "Q3_salary = df['Salary'].quantile(0.75)\n",
    "IQR_salary = Q3_salary - Q1_salary\n",
    "\n",
    "outliers_salary = df[(df['Salary'] < (Q1_salary - 1.5 * IQR_salary)) | (df['Salary'] > (Q3_salary + 1.5 * IQR_salary))]\n",
    "print(Q1_salary - 1.5 * IQR_salary)\n",
    "outliers_salary"
   ],
   "metadata": {
    "collapsed": false,
    "ExecuteTime": {
     "end_time": "2024-07-06T08:52:00.077531Z",
     "start_time": "2024-07-06T08:52:00.058344600Z"
    }
   },
   "id": "4222201204b3719a",
   "execution_count": 13
  },
  {
   "cell_type": "code",
   "outputs": [
    {
     "name": "stdout",
     "output_type": "stream",
     "text": [
      "-5.4750000000000005\n",
      "11.925\n"
     ]
    },
    {
     "data": {
      "text/plain": "Empty DataFrame\nColumns: [Index, Age, Salary, Rating, Location, Established, Easy Apply]\nIndex: []",
      "text/html": "<div>\n<style scoped>\n    .dataframe tbody tr th:only-of-type {\n        vertical-align: middle;\n    }\n\n    .dataframe tbody tr th {\n        vertical-align: top;\n    }\n\n    .dataframe thead th {\n        text-align: right;\n    }\n</style>\n<table border=\"1\" class=\"dataframe\">\n  <thead>\n    <tr style=\"text-align: right;\">\n      <th></th>\n      <th>Index</th>\n      <th>Age</th>\n      <th>Salary</th>\n      <th>Rating</th>\n      <th>Location</th>\n      <th>Established</th>\n      <th>Easy Apply</th>\n    </tr>\n  </thead>\n  <tbody>\n  </tbody>\n</table>\n</div>"
     },
     "execution_count": 14,
     "metadata": {},
     "output_type": "execute_result"
    }
   ],
   "source": [
    "Q1_rating = df['Rating'].quantile(0.25)\n",
    "Q3_rating = df['Rating'].quantile(0.75)\n",
    "IQR_rating = Q3_rating - Q1_rating\n",
    "outliers_rating = df[(df['Rating'] < (Q1_rating - 1.5 * IQR_rating)) | (df['Rating'] > (Q3_rating + 1.5 * IQR_rating))]\n",
    "print(Q1_rating - 1.5 * IQR_rating)\n",
    "print(Q3_rating + 1.5 * IQR_rating)\n",
    "outliers_rating"
   ],
   "metadata": {
    "collapsed": false,
    "ExecuteTime": {
     "end_time": "2024-07-06T08:52:00.736597200Z",
     "start_time": "2024-07-06T08:52:00.698495700Z"
    }
   },
   "id": "55145ddb8118d54c",
   "execution_count": 14
  },
  {
   "cell_type": "markdown",
   "source": [
    "Adjusting Outlier for Salary since total 10 rows comes under salary, we can't remove every row, or we can't leave as it is, so let's adjust the value by using sip() function."
   ],
   "metadata": {
    "collapsed": false
   },
   "id": "59412230f7618ecf"
  },
  {
   "cell_type": "code",
   "outputs": [],
   "source": [
    "df['Salary'] = df['Salary'].clip(lower=(Q1_salary - 1.5 * IQR_salary), upper=(Q3_salary + 1.5 * IQR_salary))"
   ],
   "metadata": {
    "collapsed": false,
    "ExecuteTime": {
     "end_time": "2024-07-06T08:52:01.946313500Z",
     "start_time": "2024-07-06T08:52:01.934919500Z"
    }
   },
   "id": "7c256c204c80654e",
   "execution_count": 15
  },
  {
   "cell_type": "markdown",
   "source": [
    "**Handling Special Characters**"
   ],
   "metadata": {
    "collapsed": false
   },
   "id": "eed9cddcbe38154a"
  },
  {
   "cell_type": "code",
   "outputs": [
    {
     "data": {
      "text/plain": "Location\nNew York,Ny      12\nIndia,In          8\nAustralia Aus     7\nIndia In          1\nName: count, dtype: int64"
     },
     "execution_count": 16,
     "metadata": {},
     "output_type": "execute_result"
    }
   ],
   "source": [
    "df['Location'].value_counts()"
   ],
   "metadata": {
    "collapsed": false,
    "ExecuteTime": {
     "end_time": "2024-07-06T08:52:03.299669100Z",
     "start_time": "2024-07-06T08:52:03.233682700Z"
    }
   },
   "id": "c082538a13e6942c",
   "execution_count": 16
  },
  {
   "cell_type": "code",
   "outputs": [
    {
     "data": {
      "text/plain": "Location\nNew York,Ny      12\nIndia,In          9\nAustralia,Aus     7\nName: count, dtype: int64"
     },
     "execution_count": 17,
     "metadata": {},
     "output_type": "execute_result"
    }
   ],
   "source": [
    "df['Location']=df['Location'].replace('Australia Aus', 'Australia,Aus')\n",
    "df['Location']=df['Location'].replace('India In', 'India,In')\n",
    "df['Location'].value_counts()"
   ],
   "metadata": {
    "collapsed": false,
    "ExecuteTime": {
     "end_time": "2024-07-06T08:52:04.158202400Z",
     "start_time": "2024-07-06T08:52:04.142872200Z"
    }
   },
   "id": "544d9e6f1c5934c",
   "execution_count": 17
  },
  {
   "cell_type": "code",
   "outputs": [],
   "source": [
    "df['Country'] = df['Location'].str.split(\",\",expand=False).str[0]"
   ],
   "metadata": {
    "collapsed": false,
    "ExecuteTime": {
     "end_time": "2024-07-06T08:52:04.814002200Z",
     "start_time": "2024-07-06T08:52:04.795699400Z"
    }
   },
   "id": "bf044f4e04f3957a",
   "execution_count": 18
  },
  {
   "cell_type": "code",
   "outputs": [
    {
     "data": {
      "text/plain": "    Index   Age   Salary  Rating       Location  Established Easy Apply  \\\n0       0  44.0  71500.0     5.4       India,In         1999       TRUE   \n1       1  66.0  71500.0     3.5    New York,Ny         2002       TRUE   \n2       2  44.0  71500.0    -1.0    New York,Ny           -1      False   \n3       3  64.0  71500.0     4.4       India,In         1988      False   \n4       4  25.0  71500.0     6.4  Australia,Aus         2002      False   \n5       5  44.0  71500.0     1.4       India,In         1999       TRUE   \n6       6  21.0  71500.0     0.0    New York,Ny           -1      False   \n7       7  44.0  71500.0    -1.0  Australia,Aus           -1      False   \n8       8  35.0  71500.0     5.4    New York,Ny           -1      False   \n9       9  22.0  71500.0     7.7       India,In           -1       TRUE   \n10     10  55.0  71500.0     5.4       India,In         2008       TRUE   \n11     11  44.0  71500.0     6.7       India,In         2009      False   \n12     12  44.0  71500.0     0.0       India,In         1999      False   \n13     13  25.0  71500.0    -1.0  Australia,Aus         2019       TRUE   \n14     14  66.0  71500.0     4.0  Australia,Aus         2020       TRUE   \n15     15  44.0  71500.0     3.0  Australia,Aus         1999      False   \n16     16  19.0  71500.0     4.5       India,In         1984      False   \n17     17  44.0  71500.0     5.3    New York,Ny         1943       TRUE   \n18     18  35.0  71500.0     6.7    New York,Ny         1954       TRUE   \n19     19  32.0  71500.0     3.3    New York,Ny         1955       TRUE   \n20     20  44.0  71500.0     5.7    New York,Ny         1944       TRUE   \n21     21  35.0  71500.0     5.0    New York,Ny         1946      False   \n22     22  19.0  71500.0     7.8    New York,Ny         1988       TRUE   \n23     23  44.0  71500.0     2.4    New York,Ny         1999       TRUE   \n24     24  13.0  71500.0    -1.0    New York,Ny         1987      False   \n25     25  55.0  71500.0     0.0  Australia,Aus         1980       TRUE   \n27     27  52.0  71500.0     5.4       India,In         1935      False   \n28     28  44.0  71500.0     3.4  Australia,Aus         1932      False   \n\n      Country  \n0       India  \n1    New York  \n2    New York  \n3       India  \n4   Australia  \n5       India  \n6    New York  \n7   Australia  \n8    New York  \n9       India  \n10      India  \n11      India  \n12      India  \n13  Australia  \n14  Australia  \n15  Australia  \n16      India  \n17   New York  \n18   New York  \n19   New York  \n20   New York  \n21   New York  \n22   New York  \n23   New York  \n24   New York  \n25  Australia  \n27      India  \n28  Australia  ",
      "text/html": "<div>\n<style scoped>\n    .dataframe tbody tr th:only-of-type {\n        vertical-align: middle;\n    }\n\n    .dataframe tbody tr th {\n        vertical-align: top;\n    }\n\n    .dataframe thead th {\n        text-align: right;\n    }\n</style>\n<table border=\"1\" class=\"dataframe\">\n  <thead>\n    <tr style=\"text-align: right;\">\n      <th></th>\n      <th>Index</th>\n      <th>Age</th>\n      <th>Salary</th>\n      <th>Rating</th>\n      <th>Location</th>\n      <th>Established</th>\n      <th>Easy Apply</th>\n      <th>Country</th>\n    </tr>\n  </thead>\n  <tbody>\n    <tr>\n      <th>0</th>\n      <td>0</td>\n      <td>44.0</td>\n      <td>71500.0</td>\n      <td>5.4</td>\n      <td>India,In</td>\n      <td>1999</td>\n      <td>TRUE</td>\n      <td>India</td>\n    </tr>\n    <tr>\n      <th>1</th>\n      <td>1</td>\n      <td>66.0</td>\n      <td>71500.0</td>\n      <td>3.5</td>\n      <td>New York,Ny</td>\n      <td>2002</td>\n      <td>TRUE</td>\n      <td>New York</td>\n    </tr>\n    <tr>\n      <th>2</th>\n      <td>2</td>\n      <td>44.0</td>\n      <td>71500.0</td>\n      <td>-1.0</td>\n      <td>New York,Ny</td>\n      <td>-1</td>\n      <td>False</td>\n      <td>New York</td>\n    </tr>\n    <tr>\n      <th>3</th>\n      <td>3</td>\n      <td>64.0</td>\n      <td>71500.0</td>\n      <td>4.4</td>\n      <td>India,In</td>\n      <td>1988</td>\n      <td>False</td>\n      <td>India</td>\n    </tr>\n    <tr>\n      <th>4</th>\n      <td>4</td>\n      <td>25.0</td>\n      <td>71500.0</td>\n      <td>6.4</td>\n      <td>Australia,Aus</td>\n      <td>2002</td>\n      <td>False</td>\n      <td>Australia</td>\n    </tr>\n    <tr>\n      <th>5</th>\n      <td>5</td>\n      <td>44.0</td>\n      <td>71500.0</td>\n      <td>1.4</td>\n      <td>India,In</td>\n      <td>1999</td>\n      <td>TRUE</td>\n      <td>India</td>\n    </tr>\n    <tr>\n      <th>6</th>\n      <td>6</td>\n      <td>21.0</td>\n      <td>71500.0</td>\n      <td>0.0</td>\n      <td>New York,Ny</td>\n      <td>-1</td>\n      <td>False</td>\n      <td>New York</td>\n    </tr>\n    <tr>\n      <th>7</th>\n      <td>7</td>\n      <td>44.0</td>\n      <td>71500.0</td>\n      <td>-1.0</td>\n      <td>Australia,Aus</td>\n      <td>-1</td>\n      <td>False</td>\n      <td>Australia</td>\n    </tr>\n    <tr>\n      <th>8</th>\n      <td>8</td>\n      <td>35.0</td>\n      <td>71500.0</td>\n      <td>5.4</td>\n      <td>New York,Ny</td>\n      <td>-1</td>\n      <td>False</td>\n      <td>New York</td>\n    </tr>\n    <tr>\n      <th>9</th>\n      <td>9</td>\n      <td>22.0</td>\n      <td>71500.0</td>\n      <td>7.7</td>\n      <td>India,In</td>\n      <td>-1</td>\n      <td>TRUE</td>\n      <td>India</td>\n    </tr>\n    <tr>\n      <th>10</th>\n      <td>10</td>\n      <td>55.0</td>\n      <td>71500.0</td>\n      <td>5.4</td>\n      <td>India,In</td>\n      <td>2008</td>\n      <td>TRUE</td>\n      <td>India</td>\n    </tr>\n    <tr>\n      <th>11</th>\n      <td>11</td>\n      <td>44.0</td>\n      <td>71500.0</td>\n      <td>6.7</td>\n      <td>India,In</td>\n      <td>2009</td>\n      <td>False</td>\n      <td>India</td>\n    </tr>\n    <tr>\n      <th>12</th>\n      <td>12</td>\n      <td>44.0</td>\n      <td>71500.0</td>\n      <td>0.0</td>\n      <td>India,In</td>\n      <td>1999</td>\n      <td>False</td>\n      <td>India</td>\n    </tr>\n    <tr>\n      <th>13</th>\n      <td>13</td>\n      <td>25.0</td>\n      <td>71500.0</td>\n      <td>-1.0</td>\n      <td>Australia,Aus</td>\n      <td>2019</td>\n      <td>TRUE</td>\n      <td>Australia</td>\n    </tr>\n    <tr>\n      <th>14</th>\n      <td>14</td>\n      <td>66.0</td>\n      <td>71500.0</td>\n      <td>4.0</td>\n      <td>Australia,Aus</td>\n      <td>2020</td>\n      <td>TRUE</td>\n      <td>Australia</td>\n    </tr>\n    <tr>\n      <th>15</th>\n      <td>15</td>\n      <td>44.0</td>\n      <td>71500.0</td>\n      <td>3.0</td>\n      <td>Australia,Aus</td>\n      <td>1999</td>\n      <td>False</td>\n      <td>Australia</td>\n    </tr>\n    <tr>\n      <th>16</th>\n      <td>16</td>\n      <td>19.0</td>\n      <td>71500.0</td>\n      <td>4.5</td>\n      <td>India,In</td>\n      <td>1984</td>\n      <td>False</td>\n      <td>India</td>\n    </tr>\n    <tr>\n      <th>17</th>\n      <td>17</td>\n      <td>44.0</td>\n      <td>71500.0</td>\n      <td>5.3</td>\n      <td>New York,Ny</td>\n      <td>1943</td>\n      <td>TRUE</td>\n      <td>New York</td>\n    </tr>\n    <tr>\n      <th>18</th>\n      <td>18</td>\n      <td>35.0</td>\n      <td>71500.0</td>\n      <td>6.7</td>\n      <td>New York,Ny</td>\n      <td>1954</td>\n      <td>TRUE</td>\n      <td>New York</td>\n    </tr>\n    <tr>\n      <th>19</th>\n      <td>19</td>\n      <td>32.0</td>\n      <td>71500.0</td>\n      <td>3.3</td>\n      <td>New York,Ny</td>\n      <td>1955</td>\n      <td>TRUE</td>\n      <td>New York</td>\n    </tr>\n    <tr>\n      <th>20</th>\n      <td>20</td>\n      <td>44.0</td>\n      <td>71500.0</td>\n      <td>5.7</td>\n      <td>New York,Ny</td>\n      <td>1944</td>\n      <td>TRUE</td>\n      <td>New York</td>\n    </tr>\n    <tr>\n      <th>21</th>\n      <td>21</td>\n      <td>35.0</td>\n      <td>71500.0</td>\n      <td>5.0</td>\n      <td>New York,Ny</td>\n      <td>1946</td>\n      <td>False</td>\n      <td>New York</td>\n    </tr>\n    <tr>\n      <th>22</th>\n      <td>22</td>\n      <td>19.0</td>\n      <td>71500.0</td>\n      <td>7.8</td>\n      <td>New York,Ny</td>\n      <td>1988</td>\n      <td>TRUE</td>\n      <td>New York</td>\n    </tr>\n    <tr>\n      <th>23</th>\n      <td>23</td>\n      <td>44.0</td>\n      <td>71500.0</td>\n      <td>2.4</td>\n      <td>New York,Ny</td>\n      <td>1999</td>\n      <td>TRUE</td>\n      <td>New York</td>\n    </tr>\n    <tr>\n      <th>24</th>\n      <td>24</td>\n      <td>13.0</td>\n      <td>71500.0</td>\n      <td>-1.0</td>\n      <td>New York,Ny</td>\n      <td>1987</td>\n      <td>False</td>\n      <td>New York</td>\n    </tr>\n    <tr>\n      <th>25</th>\n      <td>25</td>\n      <td>55.0</td>\n      <td>71500.0</td>\n      <td>0.0</td>\n      <td>Australia,Aus</td>\n      <td>1980</td>\n      <td>TRUE</td>\n      <td>Australia</td>\n    </tr>\n    <tr>\n      <th>27</th>\n      <td>27</td>\n      <td>52.0</td>\n      <td>71500.0</td>\n      <td>5.4</td>\n      <td>India,In</td>\n      <td>1935</td>\n      <td>False</td>\n      <td>India</td>\n    </tr>\n    <tr>\n      <th>28</th>\n      <td>28</td>\n      <td>44.0</td>\n      <td>71500.0</td>\n      <td>3.4</td>\n      <td>Australia,Aus</td>\n      <td>1932</td>\n      <td>False</td>\n      <td>Australia</td>\n    </tr>\n  </tbody>\n</table>\n</div>"
     },
     "execution_count": 19,
     "metadata": {},
     "output_type": "execute_result"
    }
   ],
   "source": [
    "df"
   ],
   "metadata": {
    "collapsed": false,
    "ExecuteTime": {
     "end_time": "2024-07-06T08:52:05.526846800Z",
     "start_time": "2024-07-06T08:52:05.505258600Z"
    }
   },
   "id": "3e9bb82e4d114e66",
   "execution_count": 19
  },
  {
   "cell_type": "code",
   "outputs": [],
   "source": [
    "expected_min = 1\n",
    "expected_max = 10\n",
    "\n",
    "df['Rating'] = df['Rating'].apply(lambda x: x if expected_min < x < expected_max else pd.NA)"
   ],
   "metadata": {
    "collapsed": false,
    "ExecuteTime": {
     "end_time": "2024-07-06T08:52:06.162544500Z",
     "start_time": "2024-07-06T08:52:06.137667700Z"
    }
   },
   "id": "ae9163ff60089773",
   "execution_count": 20
  },
  {
   "cell_type": "code",
   "outputs": [],
   "source": [
    "df['Established'] = df['Established'].apply(lambda x: x if x > -1 else pd.NA)"
   ],
   "metadata": {
    "collapsed": false,
    "ExecuteTime": {
     "end_time": "2024-07-06T08:52:06.818729400Z",
     "start_time": "2024-07-06T08:52:06.811427700Z"
    }
   },
   "id": "8f68df077b623dbf",
   "execution_count": 21
  },
  {
   "cell_type": "code",
   "outputs": [
    {
     "data": {
      "text/plain": "    Index   Age   Salary Rating       Location Established Easy Apply  \\\n0       0  44.0  71500.0    5.4       India,In        1999       TRUE   \n1       1  66.0  71500.0    3.5    New York,Ny        2002       TRUE   \n2       2  44.0  71500.0   <NA>    New York,Ny        <NA>      False   \n3       3  64.0  71500.0    4.4       India,In        1988      False   \n4       4  25.0  71500.0    6.4  Australia,Aus        2002      False   \n5       5  44.0  71500.0    1.4       India,In        1999       TRUE   \n6       6  21.0  71500.0   <NA>    New York,Ny        <NA>      False   \n7       7  44.0  71500.0   <NA>  Australia,Aus        <NA>      False   \n8       8  35.0  71500.0    5.4    New York,Ny        <NA>      False   \n9       9  22.0  71500.0    7.7       India,In        <NA>       TRUE   \n10     10  55.0  71500.0    5.4       India,In        2008       TRUE   \n11     11  44.0  71500.0    6.7       India,In        2009      False   \n12     12  44.0  71500.0   <NA>       India,In        1999      False   \n13     13  25.0  71500.0   <NA>  Australia,Aus        2019       TRUE   \n14     14  66.0  71500.0    4.0  Australia,Aus        2020       TRUE   \n15     15  44.0  71500.0    3.0  Australia,Aus        1999      False   \n16     16  19.0  71500.0    4.5       India,In        1984      False   \n17     17  44.0  71500.0    5.3    New York,Ny        1943       TRUE   \n18     18  35.0  71500.0    6.7    New York,Ny        1954       TRUE   \n19     19  32.0  71500.0    3.3    New York,Ny        1955       TRUE   \n20     20  44.0  71500.0    5.7    New York,Ny        1944       TRUE   \n21     21  35.0  71500.0    5.0    New York,Ny        1946      False   \n22     22  19.0  71500.0    7.8    New York,Ny        1988       TRUE   \n23     23  44.0  71500.0    2.4    New York,Ny        1999       TRUE   \n24     24  13.0  71500.0   <NA>    New York,Ny        1987      False   \n25     25  55.0  71500.0   <NA>  Australia,Aus        1980       TRUE   \n27     27  52.0  71500.0    5.4       India,In        1935      False   \n28     28  44.0  71500.0    3.4  Australia,Aus        1932      False   \n\n      Country  \n0       India  \n1    New York  \n2    New York  \n3       India  \n4   Australia  \n5       India  \n6    New York  \n7   Australia  \n8    New York  \n9       India  \n10      India  \n11      India  \n12      India  \n13  Australia  \n14  Australia  \n15  Australia  \n16      India  \n17   New York  \n18   New York  \n19   New York  \n20   New York  \n21   New York  \n22   New York  \n23   New York  \n24   New York  \n25  Australia  \n27      India  \n28  Australia  ",
      "text/html": "<div>\n<style scoped>\n    .dataframe tbody tr th:only-of-type {\n        vertical-align: middle;\n    }\n\n    .dataframe tbody tr th {\n        vertical-align: top;\n    }\n\n    .dataframe thead th {\n        text-align: right;\n    }\n</style>\n<table border=\"1\" class=\"dataframe\">\n  <thead>\n    <tr style=\"text-align: right;\">\n      <th></th>\n      <th>Index</th>\n      <th>Age</th>\n      <th>Salary</th>\n      <th>Rating</th>\n      <th>Location</th>\n      <th>Established</th>\n      <th>Easy Apply</th>\n      <th>Country</th>\n    </tr>\n  </thead>\n  <tbody>\n    <tr>\n      <th>0</th>\n      <td>0</td>\n      <td>44.0</td>\n      <td>71500.0</td>\n      <td>5.4</td>\n      <td>India,In</td>\n      <td>1999</td>\n      <td>TRUE</td>\n      <td>India</td>\n    </tr>\n    <tr>\n      <th>1</th>\n      <td>1</td>\n      <td>66.0</td>\n      <td>71500.0</td>\n      <td>3.5</td>\n      <td>New York,Ny</td>\n      <td>2002</td>\n      <td>TRUE</td>\n      <td>New York</td>\n    </tr>\n    <tr>\n      <th>2</th>\n      <td>2</td>\n      <td>44.0</td>\n      <td>71500.0</td>\n      <td>&lt;NA&gt;</td>\n      <td>New York,Ny</td>\n      <td>&lt;NA&gt;</td>\n      <td>False</td>\n      <td>New York</td>\n    </tr>\n    <tr>\n      <th>3</th>\n      <td>3</td>\n      <td>64.0</td>\n      <td>71500.0</td>\n      <td>4.4</td>\n      <td>India,In</td>\n      <td>1988</td>\n      <td>False</td>\n      <td>India</td>\n    </tr>\n    <tr>\n      <th>4</th>\n      <td>4</td>\n      <td>25.0</td>\n      <td>71500.0</td>\n      <td>6.4</td>\n      <td>Australia,Aus</td>\n      <td>2002</td>\n      <td>False</td>\n      <td>Australia</td>\n    </tr>\n    <tr>\n      <th>5</th>\n      <td>5</td>\n      <td>44.0</td>\n      <td>71500.0</td>\n      <td>1.4</td>\n      <td>India,In</td>\n      <td>1999</td>\n      <td>TRUE</td>\n      <td>India</td>\n    </tr>\n    <tr>\n      <th>6</th>\n      <td>6</td>\n      <td>21.0</td>\n      <td>71500.0</td>\n      <td>&lt;NA&gt;</td>\n      <td>New York,Ny</td>\n      <td>&lt;NA&gt;</td>\n      <td>False</td>\n      <td>New York</td>\n    </tr>\n    <tr>\n      <th>7</th>\n      <td>7</td>\n      <td>44.0</td>\n      <td>71500.0</td>\n      <td>&lt;NA&gt;</td>\n      <td>Australia,Aus</td>\n      <td>&lt;NA&gt;</td>\n      <td>False</td>\n      <td>Australia</td>\n    </tr>\n    <tr>\n      <th>8</th>\n      <td>8</td>\n      <td>35.0</td>\n      <td>71500.0</td>\n      <td>5.4</td>\n      <td>New York,Ny</td>\n      <td>&lt;NA&gt;</td>\n      <td>False</td>\n      <td>New York</td>\n    </tr>\n    <tr>\n      <th>9</th>\n      <td>9</td>\n      <td>22.0</td>\n      <td>71500.0</td>\n      <td>7.7</td>\n      <td>India,In</td>\n      <td>&lt;NA&gt;</td>\n      <td>TRUE</td>\n      <td>India</td>\n    </tr>\n    <tr>\n      <th>10</th>\n      <td>10</td>\n      <td>55.0</td>\n      <td>71500.0</td>\n      <td>5.4</td>\n      <td>India,In</td>\n      <td>2008</td>\n      <td>TRUE</td>\n      <td>India</td>\n    </tr>\n    <tr>\n      <th>11</th>\n      <td>11</td>\n      <td>44.0</td>\n      <td>71500.0</td>\n      <td>6.7</td>\n      <td>India,In</td>\n      <td>2009</td>\n      <td>False</td>\n      <td>India</td>\n    </tr>\n    <tr>\n      <th>12</th>\n      <td>12</td>\n      <td>44.0</td>\n      <td>71500.0</td>\n      <td>&lt;NA&gt;</td>\n      <td>India,In</td>\n      <td>1999</td>\n      <td>False</td>\n      <td>India</td>\n    </tr>\n    <tr>\n      <th>13</th>\n      <td>13</td>\n      <td>25.0</td>\n      <td>71500.0</td>\n      <td>&lt;NA&gt;</td>\n      <td>Australia,Aus</td>\n      <td>2019</td>\n      <td>TRUE</td>\n      <td>Australia</td>\n    </tr>\n    <tr>\n      <th>14</th>\n      <td>14</td>\n      <td>66.0</td>\n      <td>71500.0</td>\n      <td>4.0</td>\n      <td>Australia,Aus</td>\n      <td>2020</td>\n      <td>TRUE</td>\n      <td>Australia</td>\n    </tr>\n    <tr>\n      <th>15</th>\n      <td>15</td>\n      <td>44.0</td>\n      <td>71500.0</td>\n      <td>3.0</td>\n      <td>Australia,Aus</td>\n      <td>1999</td>\n      <td>False</td>\n      <td>Australia</td>\n    </tr>\n    <tr>\n      <th>16</th>\n      <td>16</td>\n      <td>19.0</td>\n      <td>71500.0</td>\n      <td>4.5</td>\n      <td>India,In</td>\n      <td>1984</td>\n      <td>False</td>\n      <td>India</td>\n    </tr>\n    <tr>\n      <th>17</th>\n      <td>17</td>\n      <td>44.0</td>\n      <td>71500.0</td>\n      <td>5.3</td>\n      <td>New York,Ny</td>\n      <td>1943</td>\n      <td>TRUE</td>\n      <td>New York</td>\n    </tr>\n    <tr>\n      <th>18</th>\n      <td>18</td>\n      <td>35.0</td>\n      <td>71500.0</td>\n      <td>6.7</td>\n      <td>New York,Ny</td>\n      <td>1954</td>\n      <td>TRUE</td>\n      <td>New York</td>\n    </tr>\n    <tr>\n      <th>19</th>\n      <td>19</td>\n      <td>32.0</td>\n      <td>71500.0</td>\n      <td>3.3</td>\n      <td>New York,Ny</td>\n      <td>1955</td>\n      <td>TRUE</td>\n      <td>New York</td>\n    </tr>\n    <tr>\n      <th>20</th>\n      <td>20</td>\n      <td>44.0</td>\n      <td>71500.0</td>\n      <td>5.7</td>\n      <td>New York,Ny</td>\n      <td>1944</td>\n      <td>TRUE</td>\n      <td>New York</td>\n    </tr>\n    <tr>\n      <th>21</th>\n      <td>21</td>\n      <td>35.0</td>\n      <td>71500.0</td>\n      <td>5.0</td>\n      <td>New York,Ny</td>\n      <td>1946</td>\n      <td>False</td>\n      <td>New York</td>\n    </tr>\n    <tr>\n      <th>22</th>\n      <td>22</td>\n      <td>19.0</td>\n      <td>71500.0</td>\n      <td>7.8</td>\n      <td>New York,Ny</td>\n      <td>1988</td>\n      <td>TRUE</td>\n      <td>New York</td>\n    </tr>\n    <tr>\n      <th>23</th>\n      <td>23</td>\n      <td>44.0</td>\n      <td>71500.0</td>\n      <td>2.4</td>\n      <td>New York,Ny</td>\n      <td>1999</td>\n      <td>TRUE</td>\n      <td>New York</td>\n    </tr>\n    <tr>\n      <th>24</th>\n      <td>24</td>\n      <td>13.0</td>\n      <td>71500.0</td>\n      <td>&lt;NA&gt;</td>\n      <td>New York,Ny</td>\n      <td>1987</td>\n      <td>False</td>\n      <td>New York</td>\n    </tr>\n    <tr>\n      <th>25</th>\n      <td>25</td>\n      <td>55.0</td>\n      <td>71500.0</td>\n      <td>&lt;NA&gt;</td>\n      <td>Australia,Aus</td>\n      <td>1980</td>\n      <td>TRUE</td>\n      <td>Australia</td>\n    </tr>\n    <tr>\n      <th>27</th>\n      <td>27</td>\n      <td>52.0</td>\n      <td>71500.0</td>\n      <td>5.4</td>\n      <td>India,In</td>\n      <td>1935</td>\n      <td>False</td>\n      <td>India</td>\n    </tr>\n    <tr>\n      <th>28</th>\n      <td>28</td>\n      <td>44.0</td>\n      <td>71500.0</td>\n      <td>3.4</td>\n      <td>Australia,Aus</td>\n      <td>1932</td>\n      <td>False</td>\n      <td>Australia</td>\n    </tr>\n  </tbody>\n</table>\n</div>"
     },
     "execution_count": 22,
     "metadata": {},
     "output_type": "execute_result"
    }
   ],
   "source": [
    "df"
   ],
   "metadata": {
    "collapsed": false,
    "ExecuteTime": {
     "end_time": "2024-07-06T08:52:07.539373600Z",
     "start_time": "2024-07-06T08:52:07.494851100Z"
    }
   },
   "id": "49af2fb8898d4300",
   "execution_count": 22
  },
  {
   "cell_type": "code",
   "outputs": [
    {
     "data": {
      "text/plain": "' From the above table we can see the Age of people list. when we are calculating outlier people at age 66 years seem to be outliers whereas Age 13 is quit unusual so we can remove it.'"
     },
     "execution_count": 23,
     "metadata": {},
     "output_type": "execute_result"
    }
   ],
   "source": [
    "''' From the above table we can see the Age of people list. when we are calculating outlier people at age 66 years seem to be outliers whereas Age 13 is quit unusual so we can remove it.'''"
   ],
   "metadata": {
    "collapsed": false,
    "ExecuteTime": {
     "end_time": "2024-07-06T08:52:08.511959900Z",
     "start_time": "2024-07-06T08:52:08.496859200Z"
    }
   },
   "id": "f274e47980b5ac75",
   "execution_count": 23
  },
  {
   "cell_type": "code",
   "outputs": [],
   "source": [
    "df = df.drop(df[df['Age']==13.0].index)"
   ],
   "metadata": {
    "collapsed": false,
    "ExecuteTime": {
     "end_time": "2024-07-06T08:52:09.363296900Z",
     "start_time": "2024-07-06T08:52:09.353819500Z"
    }
   },
   "id": "432e3a6e29bcb116",
   "execution_count": 24
  },
  {
   "cell_type": "code",
   "outputs": [
    {
     "data": {
      "text/plain": "dtype('O')"
     },
     "execution_count": 25,
     "metadata": {},
     "output_type": "execute_result"
    }
   ],
   "source": [
    "df['Easy Apply'].dtype"
   ],
   "metadata": {
    "collapsed": false,
    "ExecuteTime": {
     "end_time": "2024-07-06T08:52:10.017599700Z",
     "start_time": "2024-07-06T08:52:09.998989500Z"
    }
   },
   "id": "ec4cb4a1999b4027",
   "execution_count": 25
  },
  {
   "cell_type": "code",
   "outputs": [],
   "source": [
    "df['Easy Apply']=df['Easy Apply'].astype(bool)"
   ],
   "metadata": {
    "collapsed": false,
    "ExecuteTime": {
     "end_time": "2024-07-06T08:52:11.425146800Z",
     "start_time": "2024-07-06T08:52:11.408763900Z"
    }
   },
   "id": "19f08e9d1d38bb6a",
   "execution_count": 26
  },
  {
   "cell_type": "code",
   "outputs": [],
   "source": [],
   "metadata": {
    "collapsed": false
   },
   "id": "d783ef82604eb82c"
  }
 ],
 "metadata": {
  "kernelspec": {
   "display_name": "Python 3",
   "language": "python",
   "name": "python3"
  },
  "language_info": {
   "codemirror_mode": {
    "name": "ipython",
    "version": 2
   },
   "file_extension": ".py",
   "mimetype": "text/x-python",
   "name": "python",
   "nbconvert_exporter": "python",
   "pygments_lexer": "ipython2",
   "version": "2.7.6"
  }
 },
 "nbformat": 4,
 "nbformat_minor": 5
}
